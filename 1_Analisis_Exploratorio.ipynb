{
 "cells": [
  {
   "cell_type": "code",
   "execution_count": 1,
   "id": "25a6b6a8",
   "metadata": {},
   "outputs": [],
   "source": [
    "import numpy as np\n",
    "import pandas as pd\n",
    "import matplotlib.pyplot as plt\n",
    "import seaborn as sns\n",
    "import gc"
   ]
  },
  {
   "cell_type": "code",
   "execution_count": 2,
   "id": "ddb38377",
   "metadata": {},
   "outputs": [
    {
     "data": {
      "text/plain": [
       "15"
      ]
     },
     "execution_count": 2,
     "metadata": {},
     "output_type": "execute_result"
    }
   ],
   "source": [
    "gc.collect()"
   ]
  },
  {
   "cell_type": "code",
   "execution_count": 3,
   "id": "2053616b",
   "metadata": {},
   "outputs": [],
   "source": [
    "sns.set(style=\"white\")"
   ]
  },
  {
   "cell_type": "code",
   "execution_count": 4,
   "id": "02df1748",
   "metadata": {},
   "outputs": [
    {
     "data": {
      "text/plain": [
       "'../data/combined_data_con_id.gzip'"
      ]
     },
     "execution_count": 4,
     "metadata": {},
     "output_type": "execute_result"
    }
   ],
   "source": [
    "path = \"../data/\"\n",
    "filename = \"combined_data_con_id.gzip\"\n",
    "filepath = path + filename\n",
    "filepath"
   ]
  },
  {
   "cell_type": "code",
   "execution_count": 5,
   "id": "24ca13a4",
   "metadata": {},
   "outputs": [
    {
     "name": "stdout",
     "output_type": "stream",
     "text": [
      "Wall time: 37.6 s\n"
     ]
    },
    {
     "data": {
      "text/html": [
       "<div>\n",
       "<style scoped>\n",
       "    .dataframe tbody tr th:only-of-type {\n",
       "        vertical-align: middle;\n",
       "    }\n",
       "\n",
       "    .dataframe tbody tr th {\n",
       "        vertical-align: top;\n",
       "    }\n",
       "\n",
       "    .dataframe thead th {\n",
       "        text-align: right;\n",
       "    }\n",
       "</style>\n",
       "<table border=\"1\" class=\"dataframe\">\n",
       "  <thead>\n",
       "    <tr style=\"text-align: right;\">\n",
       "      <th></th>\n",
       "      <th>id_movie</th>\n",
       "      <th>id_client</th>\n",
       "      <th>rate</th>\n",
       "      <th>rate_day</th>\n",
       "    </tr>\n",
       "  </thead>\n",
       "  <tbody>\n",
       "    <tr>\n",
       "      <th>0</th>\n",
       "      <td>1</td>\n",
       "      <td>822109</td>\n",
       "      <td>5</td>\n",
       "      <td>2005-05-13</td>\n",
       "    </tr>\n",
       "    <tr>\n",
       "      <th>1</th>\n",
       "      <td>1</td>\n",
       "      <td>885013</td>\n",
       "      <td>4</td>\n",
       "      <td>2005-10-19</td>\n",
       "    </tr>\n",
       "    <tr>\n",
       "      <th>2</th>\n",
       "      <td>1</td>\n",
       "      <td>30878</td>\n",
       "      <td>4</td>\n",
       "      <td>2005-12-26</td>\n",
       "    </tr>\n",
       "    <tr>\n",
       "      <th>3</th>\n",
       "      <td>1</td>\n",
       "      <td>823519</td>\n",
       "      <td>3</td>\n",
       "      <td>2004-05-03</td>\n",
       "    </tr>\n",
       "    <tr>\n",
       "      <th>4</th>\n",
       "      <td>1</td>\n",
       "      <td>893988</td>\n",
       "      <td>3</td>\n",
       "      <td>2005-11-17</td>\n",
       "    </tr>\n",
       "  </tbody>\n",
       "</table>\n",
       "</div>"
      ],
      "text/plain": [
       "   id_movie  id_client  rate    rate_day\n",
       "0         1     822109     5  2005-05-13\n",
       "1         1     885013     4  2005-10-19\n",
       "2         1      30878     4  2005-12-26\n",
       "3         1     823519     3  2004-05-03\n",
       "4         1     893988     3  2005-11-17"
      ]
     },
     "execution_count": 5,
     "metadata": {},
     "output_type": "execute_result"
    }
   ],
   "source": [
    "%%time\n",
    "df = pd.read_parquet(filepath)\n",
    "df.head()"
   ]
  },
  {
   "cell_type": "code",
   "execution_count": 6,
   "id": "6a3062be",
   "metadata": {},
   "outputs": [
    {
     "name": "stdout",
     "output_type": "stream",
     "text": [
      "<class 'pandas.core.frame.DataFrame'>\n",
      "RangeIndex: 100480506 entries, 0 to 100480505\n",
      "Data columns (total 4 columns):\n",
      " #   Column     Dtype \n",
      "---  ------     ----- \n",
      " 0   id_movie   int64 \n",
      " 1   id_client  int64 \n",
      " 2   rate       int64 \n",
      " 3   rate_day   object\n",
      "dtypes: int64(3), object(1)\n",
      "memory usage: 3.0+ GB\n"
     ]
    }
   ],
   "source": [
    "df.info()"
   ]
  },
  {
   "cell_type": "code",
   "execution_count": 7,
   "id": "6ad74d9c",
   "metadata": {},
   "outputs": [
    {
     "data": {
      "text/html": [
       "<div>\n",
       "<style scoped>\n",
       "    .dataframe tbody tr th:only-of-type {\n",
       "        vertical-align: middle;\n",
       "    }\n",
       "\n",
       "    .dataframe tbody tr th {\n",
       "        vertical-align: top;\n",
       "    }\n",
       "\n",
       "    .dataframe thead th {\n",
       "        text-align: right;\n",
       "    }\n",
       "</style>\n",
       "<table border=\"1\" class=\"dataframe\">\n",
       "  <thead>\n",
       "    <tr style=\"text-align: right;\">\n",
       "      <th></th>\n",
       "      <th>id_movie</th>\n",
       "      <th>id_client</th>\n",
       "      <th>rate</th>\n",
       "    </tr>\n",
       "  </thead>\n",
       "  <tbody>\n",
       "    <tr>\n",
       "      <th>count</th>\n",
       "      <td>1.004805e+08</td>\n",
       "      <td>1.004805e+08</td>\n",
       "      <td>1.004805e+08</td>\n",
       "    </tr>\n",
       "    <tr>\n",
       "      <th>mean</th>\n",
       "      <td>9.070915e+03</td>\n",
       "      <td>1.322489e+06</td>\n",
       "      <td>3.604290e+00</td>\n",
       "    </tr>\n",
       "    <tr>\n",
       "      <th>std</th>\n",
       "      <td>5.131891e+03</td>\n",
       "      <td>7.645368e+05</td>\n",
       "      <td>1.085219e+00</td>\n",
       "    </tr>\n",
       "    <tr>\n",
       "      <th>min</th>\n",
       "      <td>1.000000e+00</td>\n",
       "      <td>6.000000e+00</td>\n",
       "      <td>1.000000e+00</td>\n",
       "    </tr>\n",
       "    <tr>\n",
       "      <th>25%</th>\n",
       "      <td>4.677000e+03</td>\n",
       "      <td>6.611980e+05</td>\n",
       "      <td>3.000000e+00</td>\n",
       "    </tr>\n",
       "    <tr>\n",
       "      <th>50%</th>\n",
       "      <td>9.051000e+03</td>\n",
       "      <td>1.319012e+06</td>\n",
       "      <td>4.000000e+00</td>\n",
       "    </tr>\n",
       "    <tr>\n",
       "      <th>75%</th>\n",
       "      <td>1.363500e+04</td>\n",
       "      <td>1.984455e+06</td>\n",
       "      <td>4.000000e+00</td>\n",
       "    </tr>\n",
       "    <tr>\n",
       "      <th>max</th>\n",
       "      <td>1.777000e+04</td>\n",
       "      <td>2.649429e+06</td>\n",
       "      <td>5.000000e+00</td>\n",
       "    </tr>\n",
       "  </tbody>\n",
       "</table>\n",
       "</div>"
      ],
      "text/plain": [
       "           id_movie     id_client          rate\n",
       "count  1.004805e+08  1.004805e+08  1.004805e+08\n",
       "mean   9.070915e+03  1.322489e+06  3.604290e+00\n",
       "std    5.131891e+03  7.645368e+05  1.085219e+00\n",
       "min    1.000000e+00  6.000000e+00  1.000000e+00\n",
       "25%    4.677000e+03  6.611980e+05  3.000000e+00\n",
       "50%    9.051000e+03  1.319012e+06  4.000000e+00\n",
       "75%    1.363500e+04  1.984455e+06  4.000000e+00\n",
       "max    1.777000e+04  2.649429e+06  5.000000e+00"
      ]
     },
     "execution_count": 7,
     "metadata": {},
     "output_type": "execute_result"
    }
   ],
   "source": [
    "df.describe()"
   ]
  },
  {
   "cell_type": "code",
   "execution_count": 8,
   "id": "c4f5e370",
   "metadata": {},
   "outputs": [
    {
     "data": {
      "text/plain": [
       "(100480506, 4)"
      ]
     },
     "execution_count": 8,
     "metadata": {},
     "output_type": "execute_result"
    }
   ],
   "source": [
    "df.shape"
   ]
  },
  {
   "cell_type": "code",
   "execution_count": 9,
   "id": "69c3240e",
   "metadata": {},
   "outputs": [],
   "source": [
    "estimators=['mean', 'median', 'mode']\n",
    "def aplicate_estimators(serie, estimators=estimators, do_print=True):\n",
    "    # La moda devuelte una serie en vez de directamente el valor :(\n",
    "    results = []\n",
    "    for est in estimators:\n",
    "        result = serie.agg(func=est)\n",
    "        if est == 'mode':\n",
    "            result = result[0]\n",
    "        if do_print:\n",
    "            print('The {} {} is: {}'.format(serie.name, est, result))\n",
    "        results.append(result)\n",
    "    return results\n",
    "\n",
    "def print_how_many(serie, txt='', serie_name=True):\n",
    "    # El texto es de la forma:\n",
    "    # 'La cantidad de pasajeros que tenian entre padres e hijos' tanto en total es tanto\n",
    "    counts = serie.value_counts()\n",
    "    values = list(serie.dropna().unique())\n",
    "    values.sort()\n",
    "    if serie_name:\n",
    "        for val in values:\n",
    "            print(txt + ' {} {}s: {}'.format(val, serie.name, counts.loc[val]))\n",
    "    else:\n",
    "        for val in values:\n",
    "            print(txt + ' {}: {}'.format(val, counts.loc[val]))\n"
   ]
  },
  {
   "cell_type": "markdown",
   "id": "2fb2bc5a",
   "metadata": {},
   "source": [
    "# ID_CLIENT"
   ]
  },
  {
   "cell_type": "code",
   "execution_count": 10,
   "id": "c0ea6777",
   "metadata": {},
   "outputs": [
    {
     "data": {
      "text/plain": [
       "480189"
      ]
     },
     "execution_count": 10,
     "metadata": {},
     "output_type": "execute_result"
    }
   ],
   "source": [
    "df['id_client'].nunique()"
   ]
  },
  {
   "cell_type": "code",
   "execution_count": 11,
   "id": "3a30bbd8",
   "metadata": {},
   "outputs": [
    {
     "data": {
      "text/plain": [
       "id_client\n",
       "6     626\n",
       "7     881\n",
       "8      98\n",
       "10    260\n",
       "25     27\n",
       "Name: id_movie, dtype: int64"
      ]
     },
     "execution_count": 11,
     "metadata": {},
     "output_type": "execute_result"
    }
   ],
   "source": [
    "df_client = df.groupby('id_client')['id_movie'].count()\n",
    "df_client.head()"
   ]
  },
  {
   "cell_type": "code",
   "execution_count": 12,
   "id": "55e85826",
   "metadata": {},
   "outputs": [
    {
     "data": {
      "text/plain": [
       "(480189,)"
      ]
     },
     "execution_count": 12,
     "metadata": {},
     "output_type": "execute_result"
    }
   ],
   "source": [
    "df_client.shape"
   ]
  },
  {
   "cell_type": "code",
   "execution_count": 13,
   "id": "2c17b531",
   "metadata": {},
   "outputs": [
    {
     "data": {
      "text/plain": [
       "<AxesSubplot:xlabel='id_movie', ylabel='Count'>"
      ]
     },
     "execution_count": 13,
     "metadata": {},
     "output_type": "execute_result"
    },
    {
     "data": {
      "image/png": "[encoded data removed]",
      "text/plain": [
       "<Figure size 432x288 with 1 Axes>"
      ]
     },
     "metadata": {},
     "output_type": "display_data"
    }
   ],
   "source": [
    "sns.histplot(df_client)"
   ]
  },
  {
   "cell_type": "code",
   "execution_count": 14,
   "id": "5cd4bcb0",
   "metadata": {},
   "outputs": [
    {
     "data": {
      "text/plain": [
       "Text(0, 0.5, 'Conteo')"
      ]
     },
     "execution_count": 14,
     "metadata": {},
     "output_type": "execute_result"
    },
    {
     "data": {
      "image/png": "[encoded data removed]",
      "text/plain": [
       "<Figure size 864x576 with 1 Axes>"
      ]
     },
     "metadata": {},
     "output_type": "display_data"
    }
   ],
   "source": [
    "plt.figure(figsize=(12, 8))\n",
    "sns.histplot(df_client,log_scale=False,bins=50)\n",
    "plt.title('Histograma ID Cliente', fontsize=16)\n",
    "# Configurar título y etiquetas\n",
    "plt.xlabel('Películas puntuadas', fontsize=14)\n",
    "plt.ylabel('Conteo', fontsize=14)"
   ]
  },
  {
   "cell_type": "code",
   "execution_count": 14,
   "id": "1bdd3f41",
   "metadata": {},
   "outputs": [
    {
     "data": {
      "text/plain": [
       "Text(0, 0.5, 'Conteo')"
      ]
     },
     "execution_count": 14,
     "metadata": {},
     "output_type": "execute_result"
    },
    {
     "data": {
      "image/png": "[encoded data removed]",
      "text/plain": [
       "<Figure size 864x576 with 1 Axes>"
      ]
     },
     "metadata": {},
     "output_type": "display_data"
    }
   ],
   "source": [
    "plt.figure(figsize=(12, 8))\n",
    "sns.histplot(df_client,log_scale=True,bins=50)\n",
    "plt.title('Histograma ID Cliente', fontsize=16)\n",
    "# Configurar título y etiquetas\n",
    "plt.xlabel('Películas puntuadas', fontsize=14)\n",
    "plt.ylabel('Conteo', fontsize=14)"
   ]
  },
  {
   "cell_type": "code",
   "execution_count": 15,
   "id": "0a67f8ad",
   "metadata": {},
   "outputs": [
    {
     "data": {
      "text/plain": [
       "<AxesSubplot:xlabel='id_movie', ylabel='Count'>"
      ]
     },
     "execution_count": 15,
     "metadata": {},
     "output_type": "execute_result"
    },
    {
     "data": {
      "image/png": "[encoded data removed]",
      "text/plain": [
       "<Figure size 432x288 with 1 Axes>"
      ]
     },
     "metadata": {},
     "output_type": "display_data"
    }
   ],
   "source": [
    "sns.histplot(df_client,log_scale=True,bins=50)"
   ]
  },
  {
   "cell_type": "code",
   "execution_count": 16,
   "id": "0377d383",
   "metadata": {},
   "outputs": [
    {
     "data": {
      "text/plain": [
       "count    480189.000000\n",
       "mean        209.251995\n",
       "std         302.339142\n",
       "min           1.000000\n",
       "25%          39.000000\n",
       "50%          96.000000\n",
       "75%         259.000000\n",
       "max       17653.000000\n",
       "Name: id_movie, dtype: float64"
      ]
     },
     "execution_count": 16,
     "metadata": {},
     "output_type": "execute_result"
    }
   ],
   "source": [
    "df_client.describe()"
   ]
  },
  {
   "cell_type": "code",
   "execution_count": 52,
   "id": "74b357b6",
   "metadata": {},
   "outputs": [
    {
     "data": {
      "text/plain": [
       "id_client\n",
       "305344     17653\n",
       "387418     17436\n",
       "2439493    16565\n",
       "1664010    15813\n",
       "2118461    14831\n",
       "1461435     9822\n",
       "1639792     9767\n",
       "1314869     9740\n",
       "2606799     9064\n",
       "1932594     8880\n",
       "2056022     8387\n",
       "1114324     8322\n",
       "752642      7481\n",
       "491531      7257\n",
       "1663888     7080\n",
       "727242      6997\n",
       "1403217     6844\n",
       "1473980     6790\n",
       "798296      6740\n",
       "716173      6736\n",
       "Name: id_movie, dtype: int64"
      ]
     },
     "execution_count": 52,
     "metadata": {},
     "output_type": "execute_result"
    }
   ],
   "source": [
    "df_client.nlargest(20)"
   ]
  },
  {
   "cell_type": "code",
   "execution_count": 18,
   "id": "f2b75ac4",
   "metadata": {},
   "outputs": [
    {
     "name": "stdout",
     "output_type": "stream",
     "text": [
      "Menores que 1: 0\n",
      "Mayores que 1: 478920\n",
      "\n",
      "Menores que 10: 16419\n",
      "Mayores que 10: 461444\n",
      "\n",
      "Menores que 100: 244072\n",
      "Mayores que 100: 234909\n",
      "\n",
      "Menores que 1000: 467048\n",
      "Mayores que 1000: 13100\n",
      "\n",
      "Menores que 10000: 480184\n",
      "Mayores que 10000: 5\n",
      "\n",
      "Menores que 100000: 480189\n",
      "Mayores que 100000: 0\n",
      "\n"
     ]
    }
   ],
   "source": [
    "for exp in [10**i for i in range(6)]:\n",
    "    print(f\"Menores que {exp}: {df_client[df_client < exp].shape[0]}\\nMayores que {exp}: {df_client[df_client > exp].shape[0]}\\n\")"
   ]
  },
  {
   "cell_type": "markdown",
   "id": "78079648",
   "metadata": {},
   "source": [
    "# ID_MOVIE"
   ]
  },
  {
   "cell_type": "code",
   "execution_count": 19,
   "id": "aec520bf",
   "metadata": {},
   "outputs": [
    {
     "data": {
      "text/plain": [
       "id_movie\n",
       "1     546\n",
       "2     145\n",
       "3    2012\n",
       "4     142\n",
       "5    1140\n",
       "Name: id_client, dtype: int64"
      ]
     },
     "execution_count": 19,
     "metadata": {},
     "output_type": "execute_result"
    }
   ],
   "source": [
    "df_movie = df.groupby('id_movie')['id_client'].count()\n",
    "df_movie.head()"
   ]
  },
  {
   "cell_type": "code",
   "execution_count": 20,
   "id": "09b2eca6",
   "metadata": {},
   "outputs": [
    {
     "data": {
      "text/plain": [
       "(17770,)"
      ]
     },
     "execution_count": 20,
     "metadata": {},
     "output_type": "execute_result"
    }
   ],
   "source": [
    "df_movie.shape"
   ]
  },
  {
   "cell_type": "code",
   "execution_count": 21,
   "id": "ec40c7c2",
   "metadata": {},
   "outputs": [
    {
     "data": {
      "text/plain": [
       "<AxesSubplot:xlabel='id_client', ylabel='Count'>"
      ]
     },
     "execution_count": 21,
     "metadata": {},
     "output_type": "execute_result"
    },
    {
     "data": {
      "image/png": "[encoded data removed]",
      "text/plain": [
       "<Figure size 432x288 with 1 Axes>"
      ]
     },
     "metadata": {},
     "output_type": "display_data"
    }
   ],
   "source": [
    "sns.histplot(df_movie)"
   ]
  },
  {
   "cell_type": "code",
   "execution_count": 22,
   "id": "5aa2f8c5",
   "metadata": {},
   "outputs": [
    {
     "data": {
      "text/plain": [
       "<AxesSubplot:xlabel='id_client', ylabel='Count'>"
      ]
     },
     "execution_count": 22,
     "metadata": {},
     "output_type": "execute_result"
    },
    {
     "data": {
      "image/png": "[encoded data removed]",
      "text/plain": [
       "<Figure size 432x288 with 1 Axes>"
      ]
     },
     "metadata": {},
     "output_type": "display_data"
    }
   ],
   "source": [
    "sns.histplot(df_movie,bins=50)"
   ]
  },
  {
   "cell_type": "code",
   "execution_count": 23,
   "id": "3294b04d",
   "metadata": {},
   "outputs": [
    {
     "data": {
      "text/plain": [
       "<AxesSubplot:xlabel='id_client', ylabel='Count'>"
      ]
     },
     "execution_count": 23,
     "metadata": {},
     "output_type": "execute_result"
    },
    {
     "data": {
      "image/png": "[encoded data removed]",
      "text/plain": [
       "<Figure size 432x288 with 1 Axes>"
      ]
     },
     "metadata": {},
     "output_type": "display_data"
    }
   ],
   "source": [
    "sns.histplot(df_movie,log_scale=True)"
   ]
  },
  {
   "cell_type": "code",
   "execution_count": 24,
   "id": "59a13576",
   "metadata": {},
   "outputs": [
    {
     "data": {
      "text/plain": [
       "<AxesSubplot:xlabel='id_client', ylabel='Count'>"
      ]
     },
     "execution_count": 24,
     "metadata": {},
     "output_type": "execute_result"
    },
    {
     "data": {
      "image/png": "[encoded data removed]",
      "text/plain": [
       "<Figure size 432x288 with 1 Axes>"
      ]
     },
     "metadata": {},
     "output_type": "display_data"
    }
   ],
   "source": [
    "sns.histplot(df_movie,log_scale=True,bins=50)"
   ]
  },
  {
   "cell_type": "code",
   "execution_count": 54,
   "id": "a099902b",
   "metadata": {},
   "outputs": [
    {
     "data": {
      "text/plain": [
       "Text(0, 0.5, 'Conteo')"
      ]
     },
     "execution_count": 54,
     "metadata": {},
     "output_type": "execute_result"
    },
    {
     "data": {
      "image/png": "[encoded data removed]",
      "text/plain": [
       "<Figure size 864x576 with 1 Axes>"
      ]
     },
     "metadata": {},
     "output_type": "display_data"
    }
   ],
   "source": [
    "plt.figure(figsize=(12, 8))\n",
    "sns.histplot(df_movie,log_scale=False,bins=50)\n",
    "plt.title('Histograma ID Película', fontsize=16)\n",
    "# Configurar título y etiquetas\n",
    "plt.xlabel('Puntuaciones recibidas', fontsize=14)\n",
    "plt.ylabel('Conteo', fontsize=14)"
   ]
  },
  {
   "cell_type": "code",
   "execution_count": 54,
   "id": "0d5c0441",
   "metadata": {},
   "outputs": [
    {
     "data": {
      "text/plain": [
       "Text(0, 0.5, 'Conteo')"
      ]
     },
     "execution_count": 54,
     "metadata": {},
     "output_type": "execute_result"
    },
    {
     "data": {
      "image/png": "[encoded data removed]",
      "text/plain": [
       "<Figure size 864x576 with 1 Axes>"
      ]
     },
     "metadata": {},
     "output_type": "display_data"
    }
   ],
   "source": [
    "plt.figure(figsize=(12, 8))\n",
    "sns.histplot(df_movie,log_scale=True,bins=50)\n",
    "plt.title('Histograma ID Película', fontsize=16)\n",
    "# Configurar título y etiquetas\n",
    "plt.xlabel('Puntuaciones recibidas', fontsize=14)\n",
    "plt.ylabel('Conteo', fontsize=14)"
   ]
  },
  {
   "cell_type": "code",
   "execution_count": 26,
   "id": "ace1b2a3",
   "metadata": {},
   "outputs": [
    {
     "data": {
      "text/plain": [
       "count     17770.000000\n",
       "mean       5654.502307\n",
       "std       16909.673286\n",
       "min           3.000000\n",
       "25%         192.000000\n",
       "50%         561.000000\n",
       "75%        2667.750000\n",
       "max      232944.000000\n",
       "Name: id_client, dtype: float64"
      ]
     },
     "execution_count": 26,
     "metadata": {},
     "output_type": "execute_result"
    }
   ],
   "source": [
    "df_movie.describe()"
   ]
  },
  {
   "cell_type": "code",
   "execution_count": 53,
   "id": "42ee4fe1",
   "metadata": {},
   "outputs": [
    {
     "data": {
      "text/plain": [
       "id_movie\n",
       "5317     232944\n",
       "15124    216596\n",
       "14313    200832\n",
       "15205    196397\n",
       "1905     193941\n",
       "6287     193295\n",
       "11283    181508\n",
       "16377    181426\n",
       "16242    178068\n",
       "12470    177556\n",
       "15582    176539\n",
       "9340     173596\n",
       "6972     171991\n",
       "12317    164792\n",
       "2152     162597\n",
       "3860     160454\n",
       "15107    160326\n",
       "6037     158601\n",
       "4432     156183\n",
       "5496     155714\n",
       "Name: id_client, dtype: int64"
      ]
     },
     "execution_count": 53,
     "metadata": {},
     "output_type": "execute_result"
    }
   ],
   "source": [
    "df_movie.nlargest(20)"
   ]
  },
  {
   "cell_type": "code",
   "execution_count": 28,
   "id": "da6bd518",
   "metadata": {},
   "outputs": [
    {
     "name": "stdout",
     "output_type": "stream",
     "text": [
      "Menores que 1: 0\n",
      "Mayores que 1: 17770\n",
      "\n",
      "Menores que 10: 2\n",
      "Mayores que 10: 17766\n",
      "\n",
      "Menores que 100: 975\n",
      "Mayores que 100: 16760\n",
      "\n",
      "Menores que 1000: 10643\n",
      "Mayores que 1000: 7125\n",
      "\n",
      "Menores que 10000: 15728\n",
      "Mayores que 10000: 2042\n",
      "\n",
      "Menores que 100000: 17608\n",
      "Mayores que 100000: 162\n",
      "\n"
     ]
    }
   ],
   "source": [
    "for exp in [10**i for i in range(6)]:\n",
    "    print(f\"Menores que {exp}: {df_movie[df_movie < exp].shape[0]}\\nMayores que {exp}: {df_movie[df_movie > exp].shape[0]}\\n\")"
   ]
  },
  {
   "cell_type": "markdown",
   "id": "ba949a13",
   "metadata": {},
   "source": [
    "# RATE"
   ]
  },
  {
   "cell_type": "code",
   "execution_count": 29,
   "id": "c251744d",
   "metadata": {},
   "outputs": [
    {
     "name": "stderr",
     "output_type": "stream",
     "text": [
      "C:\\Users\\usuario\\anaconda3\\lib\\site-packages\\seaborn\\_decorators.py:36: FutureWarning: Pass the following variable as a keyword arg: x. From version 0.12, the only valid positional argument will be `data`, and passing other arguments without an explicit keyword will result in an error or misinterpretation.\n",
      "  warnings.warn(\n"
     ]
    },
    {
     "name": "stdout",
     "output_type": "stream",
     "text": [
      "Wall time: 18.7 s\n"
     ]
    },
    {
     "data": {
      "text/plain": [
       "<AxesSubplot:xlabel='rate', ylabel='count'>"
      ]
     },
     "execution_count": 29,
     "metadata": {},
     "output_type": "execute_result"
    },
    {
     "data": {
      "image/png": "[encoded data removed]",
      "text/plain": [
       "<Figure size 432x288 with 1 Axes>"
      ]
     },
     "metadata": {},
     "output_type": "display_data"
    }
   ],
   "source": [
    "%%time\n",
    "sns.countplot(df['rate'])"
   ]
  },
  {
   "cell_type": "code",
   "execution_count": 50,
   "id": "2024b9eb",
   "metadata": {},
   "outputs": [
    {
     "name": "stderr",
     "output_type": "stream",
     "text": [
      "C:\\Users\\usuario\\anaconda3\\lib\\site-packages\\seaborn\\_decorators.py:36: FutureWarning: Pass the following variable as a keyword arg: x. From version 0.12, the only valid positional argument will be `data`, and passing other arguments without an explicit keyword will result in an error or misinterpretation.\n",
      "  warnings.warn(\n"
     ]
    },
    {
     "data": {
      "text/plain": [
       "Text(0, 0.5, 'Conteo')"
      ]
     },
     "execution_count": 50,
     "metadata": {},
     "output_type": "execute_result"
    },
    {
     "data": {
      "image/png": "[encoded data removed]",
      "text/plain": [
       "<Figure size 864x576 with 1 Axes>"
      ]
     },
     "metadata": {},
     "output_type": "display_data"
    }
   ],
   "source": [
    "plt.figure(figsize=(12, 8))\n",
    "sns.countplot(df['rate'])\n",
    "plt.title('Countplot ', fontsize=16)\n",
    "# Configurar título y etiquetas\n",
    "plt.xlabel('Puntuación', fontsize=14)\n",
    "plt.ylabel('Conteo', fontsize=14)"
   ]
  },
  {
   "cell_type": "code",
   "execution_count": 51,
   "id": "364e3c33",
   "metadata": {},
   "outputs": [
    {
     "name": "stderr",
     "output_type": "stream",
     "text": [
      "C:\\Users\\usuario\\anaconda3\\lib\\site-packages\\seaborn\\_decorators.py:36: FutureWarning: Pass the following variable as a keyword arg: x. From version 0.12, the only valid positional argument will be `data`, and passing other arguments without an explicit keyword will result in an error or misinterpretation.\n",
      "  warnings.warn(\n"
     ]
    },
    {
     "data": {
      "image/png": "[encoded data removed]",
      "text/plain": [
       "<Figure size 864x576 with 1 Axes>"
      ]
     },
     "metadata": {},
     "output_type": "display_data"
    },
    {
     "name": "stdout",
     "output_type": "stream",
     "text": [
      "Wall time: 13.7 s\n"
     ]
    }
   ],
   "source": [
    "%%time\n",
    "# Establecer el tamaño de la figura\n",
    "plt.figure(figsize=(12, 8))\n",
    "\n",
    "# Crear el countplot\n",
    "ax = sns.countplot(df['rate'])\n",
    "\n",
    "# Añadir etiquetas encima de cada barra\n",
    "for p in ax.patches:\n",
    "    ax.annotate(f'{p.get_height()/ df.shape[0] *100:3.2f}%', (p.get_x() + p.get_width() / 2., p.get_height()),\n",
    "                ha='center', va='center', fontsize=14, color='black', xytext=(0, 5),\n",
    "                textcoords='offset points')\n",
    "\n",
    "# Configurar título y etiquetas\n",
    "plt.xlabel('Puntuación', fontsize=14)\n",
    "plt.ylabel('Conteo', fontsize=14)\n",
    "\n",
    "# Mostrar la gráfica\n",
    "plt.show()\n"
   ]
  },
  {
   "cell_type": "code",
   "execution_count": 32,
   "id": "aa276ae1",
   "metadata": {},
   "outputs": [
    {
     "name": "stderr",
     "output_type": "stream",
     "text": [
      "C:\\Users\\usuario\\anaconda3\\lib\\site-packages\\seaborn\\_decorators.py:36: FutureWarning: Pass the following variable as a keyword arg: x. From version 0.12, the only valid positional argument will be `data`, and passing other arguments without an explicit keyword will result in an error or misinterpretation.\n",
      "  warnings.warn(\n"
     ]
    },
    {
     "data": {
      "image/png": "[encoded data removed]",
      "text/plain": [
       "<Figure size 864x576 with 1 Axes>"
      ]
     },
     "metadata": {},
     "output_type": "display_data"
    },
    {
     "name": "stdout",
     "output_type": "stream",
     "text": [
      "Wall time: 12.4 s\n"
     ]
    }
   ],
   "source": [
    "%%time\n",
    "# Establecer el tamaño de la figura\n",
    "plt.figure(figsize=(12, 8))\n",
    "\n",
    "# Crear el countplot\n",
    "ax = sns.countplot(df['rate'])\n",
    "\n",
    "# Añadir etiquetas encima de cada barra\n",
    "for p in ax.patches:\n",
    "    ax.annotate(f'{p.get_height()/ df.shape[0] *100:3.2f}%', (p.get_x() + p.get_width() / 2., p.get_height()),\n",
    "                ha='center', va='center', fontsize=14, color='black', xytext=(0, 5),\n",
    "                textcoords='offset points')\n",
    "\n",
    "plt.title('Countplot Puntuación', fontsize=16)\n",
    "# Configurar título y etiquetas\n",
    "plt.xlabel('Puntuación', fontsize=14)\n",
    "plt.ylabel('Conteo', fontsize=14)\n",
    "\n",
    "# Mostrar la gráfica\n",
    "plt.show()\n"
   ]
  },
  {
   "cell_type": "code",
   "execution_count": 33,
   "id": "1a89dd9a",
   "metadata": {},
   "outputs": [
    {
     "data": {
      "text/plain": [
       "4    33750958\n",
       "3    28811246\n",
       "5    23168232\n",
       "2    10132080\n",
       "1     4617990\n",
       "Name: rate, dtype: int64"
      ]
     },
     "execution_count": 33,
     "metadata": {},
     "output_type": "execute_result"
    }
   ],
   "source": [
    "df_rate = df['rate'].value_counts()\n",
    "df_rate"
   ]
  },
  {
   "cell_type": "code",
   "execution_count": 34,
   "id": "f21c24ef",
   "metadata": {},
   "outputs": [
    {
     "data": {
      "text/plain": [
       "1     4.595906\n",
       "2    10.083628\n",
       "3    28.673468\n",
       "4    33.589558\n",
       "5    23.057440\n",
       "Name: rate, dtype: float64"
      ]
     },
     "execution_count": 34,
     "metadata": {},
     "output_type": "execute_result"
    }
   ],
   "source": [
    "df_rate.sort_index() / df.shape[0] *100"
   ]
  },
  {
   "cell_type": "code",
   "execution_count": null,
   "id": "d8aa7103",
   "metadata": {},
   "outputs": [],
   "source": []
  },
  {
   "cell_type": "code",
   "execution_count": null,
   "id": "8fc850df",
   "metadata": {},
   "outputs": [],
   "source": []
  },
  {
   "cell_type": "code",
   "execution_count": null,
   "id": "ca92e07a",
   "metadata": {},
   "outputs": [],
   "source": []
  },
  {
   "cell_type": "code",
   "execution_count": null,
   "id": "bdf54726",
   "metadata": {},
   "outputs": [],
   "source": []
  },
  {
   "cell_type": "code",
   "execution_count": null,
   "id": "08c9e479",
   "metadata": {},
   "outputs": [],
   "source": []
  },
  {
   "cell_type": "markdown",
   "id": "99db54ab",
   "metadata": {},
   "source": [
    "# CLIENTE vs RATE"
   ]
  },
  {
   "cell_type": "code",
   "execution_count": 35,
   "id": "533245c1",
   "metadata": {},
   "outputs": [
    {
     "data": {
      "text/plain": [
       "id_client\n",
       "6     3.418530\n",
       "7     4.011351\n",
       "8     4.214286\n",
       "10    3.392308\n",
       "25    3.481481\n",
       "Name: rate, dtype: float64"
      ]
     },
     "execution_count": 35,
     "metadata": {},
     "output_type": "execute_result"
    }
   ],
   "source": [
    "df_client_rate = df.groupby('id_client')['rate'].mean()\n",
    "df_client_rate.head()"
   ]
  },
  {
   "cell_type": "code",
   "execution_count": 36,
   "id": "ee173a34",
   "metadata": {},
   "outputs": [
    {
     "data": {
      "text/plain": [
       "<AxesSubplot:xlabel='rate', ylabel='Density'>"
      ]
     },
     "execution_count": 36,
     "metadata": {},
     "output_type": "execute_result"
    },
    {
     "data": {
      "image/png": "[encoded data removed]",
      "text/plain": [
       "<Figure size 432x288 with 1 Axes>"
      ]
     },
     "metadata": {},
     "output_type": "display_data"
    }
   ],
   "source": [
    "sns.histplot(df_client_rate,stat=\"density\",bins=50)"
   ]
  },
  {
   "cell_type": "code",
   "execution_count": 37,
   "id": "c2fa8f59",
   "metadata": {},
   "outputs": [
    {
     "data": {
      "text/plain": [
       "id_client\n",
       "6     3.4\n",
       "7     4.0\n",
       "8     4.2\n",
       "10    3.3\n",
       "25    3.4\n",
       "Name: rate, dtype: float64"
      ]
     },
     "execution_count": 37,
     "metadata": {},
     "output_type": "execute_result"
    }
   ],
   "source": [
    "df_client_rate2 = df_client_rate.apply(lambda x : int(x*10)/10)\n",
    "df_client_rate2.head()"
   ]
  },
  {
   "cell_type": "code",
   "execution_count": 38,
   "id": "4164d674",
   "metadata": {},
   "outputs": [
    {
     "name": "stderr",
     "output_type": "stream",
     "text": [
      "C:\\Users\\usuario\\anaconda3\\lib\\site-packages\\seaborn\\_decorators.py:36: FutureWarning: Pass the following variable as a keyword arg: x. From version 0.12, the only valid positional argument will be `data`, and passing other arguments without an explicit keyword will result in an error or misinterpretation.\n",
      "  warnings.warn(\n"
     ]
    },
    {
     "data": {
      "text/plain": [
       "Text(0, 0.5, 'Conteo')"
      ]
     },
     "execution_count": 38,
     "metadata": {},
     "output_type": "execute_result"
    },
    {
     "data": {
      "image/png": "[encoded data removed]",
      "text/plain": [
       "<Figure size 864x576 with 1 Axes>"
      ]
     },
     "metadata": {},
     "output_type": "display_data"
    }
   ],
   "source": [
    "plt.figure(figsize=(12, 8))\n",
    "sns.countplot(df_client_rate2,palette=['#5799C6'])\n",
    "# Configurar título y etiquetas\n",
    "plt.title('Puntuación media a nivel individuo', fontsize=16)\n",
    "plt.xlabel('Puntuación', fontsize=14)\n",
    "plt.ylabel('Conteo', fontsize=14)"
   ]
  },
  {
   "cell_type": "code",
   "execution_count": 39,
   "id": "649e2809",
   "metadata": {},
   "outputs": [
    {
     "data": {
      "text/plain": [
       "count    480189.000000\n",
       "mean          3.627361\n",
       "std           0.474095\n",
       "min           1.000000\n",
       "25%           3.300000\n",
       "50%           3.600000\n",
       "75%           3.900000\n",
       "max           5.000000\n",
       "Name: rate, dtype: float64"
      ]
     },
     "execution_count": 39,
     "metadata": {},
     "output_type": "execute_result"
    }
   ],
   "source": [
    "df_client_rate2.describe()"
   ]
  },
  {
   "cell_type": "markdown",
   "id": "c0511634",
   "metadata": {},
   "source": [
    "# MOVIES vs RATE"
   ]
  },
  {
   "cell_type": "code",
   "execution_count": 40,
   "id": "5c68411d",
   "metadata": {},
   "outputs": [
    {
     "data": {
      "text/plain": [
       "id_movie\n",
       "1    3.750916\n",
       "2    3.558621\n",
       "3    3.641153\n",
       "4    2.739437\n",
       "5    3.919298\n",
       "Name: rate, dtype: float64"
      ]
     },
     "execution_count": 40,
     "metadata": {},
     "output_type": "execute_result"
    }
   ],
   "source": [
    "df_movie_rate = df.groupby('id_movie')['rate'].mean()\n",
    "df_movie_rate.head()"
   ]
  },
  {
   "cell_type": "code",
   "execution_count": 41,
   "id": "6b4873b9",
   "metadata": {},
   "outputs": [
    {
     "data": {
      "text/plain": [
       "<AxesSubplot:xlabel='rate', ylabel='Density'>"
      ]
     },
     "execution_count": 41,
     "metadata": {},
     "output_type": "execute_result"
    },
    {
     "data": {
      "image/png": "[encoded data removed]",
      "text/plain": [
       "<Figure size 432x288 with 1 Axes>"
      ]
     },
     "metadata": {},
     "output_type": "display_data"
    }
   ],
   "source": [
    "sns.histplot(df_movie_rate,stat=\"density\",bins=50)"
   ]
  },
  {
   "cell_type": "code",
   "execution_count": 42,
   "id": "332aee42",
   "metadata": {},
   "outputs": [
    {
     "data": {
      "text/plain": [
       "id_movie\n",
       "1    3.7\n",
       "2    3.5\n",
       "3    3.6\n",
       "4    2.7\n",
       "5    3.9\n",
       "Name: rate, dtype: float64"
      ]
     },
     "execution_count": 42,
     "metadata": {},
     "output_type": "execute_result"
    }
   ],
   "source": [
    "df_movie_rate2 = df_movie_rate.apply(lambda x : int(x*10)/10)\n",
    "df_movie_rate2.head()"
   ]
  },
  {
   "cell_type": "code",
   "execution_count": 43,
   "id": "be34655c",
   "metadata": {},
   "outputs": [
    {
     "name": "stderr",
     "output_type": "stream",
     "text": [
      "C:\\Users\\usuario\\anaconda3\\lib\\site-packages\\seaborn\\_decorators.py:36: FutureWarning: Pass the following variable as a keyword arg: x. From version 0.12, the only valid positional argument will be `data`, and passing other arguments without an explicit keyword will result in an error or misinterpretation.\n",
      "  warnings.warn(\n"
     ]
    },
    {
     "data": {
      "text/plain": [
       "Text(0, 0.5, 'Conteo')"
      ]
     },
     "execution_count": 43,
     "metadata": {},
     "output_type": "execute_result"
    },
    {
     "data": {
      "image/png": "[encoded data removed]",
      "text/plain": [
       "<Figure size 864x576 with 1 Axes>"
      ]
     },
     "metadata": {},
     "output_type": "display_data"
    }
   ],
   "source": [
    "plt.figure(figsize=(12, 8))\n",
    "sns.countplot(df_movie_rate2,palette=['#5799C6'])\n",
    "# Configurar título y etiquetas\n",
    "plt.title('Puntuación media a nivel película', fontsize=16)\n",
    "plt.xlabel('Puntuación', fontsize=14)\n",
    "plt.ylabel('Conteo', fontsize=14)"
   ]
  },
  {
   "cell_type": "code",
   "execution_count": 44,
   "id": "a032e917",
   "metadata": {},
   "outputs": [
    {
     "data": {
      "text/plain": [
       "count    17770.000000\n",
       "mean         3.178452\n",
       "std          0.526422\n",
       "min          1.200000\n",
       "25%          2.800000\n",
       "50%          3.200000\n",
       "75%          3.600000\n",
       "max          4.700000\n",
       "Name: rate, dtype: float64"
      ]
     },
     "execution_count": 44,
     "metadata": {},
     "output_type": "execute_result"
    }
   ],
   "source": [
    "df_movie_rate2.describe()"
   ]
  },
  {
   "cell_type": "markdown",
   "id": "61375a5e",
   "metadata": {},
   "source": [
    "# Rate day"
   ]
  },
  {
   "cell_type": "code",
   "execution_count": 6,
   "id": "57ede57b",
   "metadata": {},
   "outputs": [
    {
     "name": "stdout",
     "output_type": "stream",
     "text": [
      "<class 'pandas.core.frame.DataFrame'>\n",
      "RangeIndex: 100480506 entries, 0 to 100480505\n",
      "Data columns (total 4 columns):\n",
      " #   Column     Dtype         \n",
      "---  ------     -----         \n",
      " 0   id_movie   int64         \n",
      " 1   id_client  int64         \n",
      " 2   rate       int64         \n",
      " 3   rate_day   datetime64[ns]\n",
      "dtypes: datetime64[ns](1), int64(3)\n",
      "memory usage: 3.0 GB\n"
     ]
    }
   ],
   "source": [
    "#df['rate_day'] = pd.to_datetime(df['rate_day'], format='%Y-%m-%d')\n",
    "df['rate_day'] = pd.to_datetime(df['rate_day'])\n",
    "df.info()"
   ]
  },
  {
   "cell_type": "code",
   "execution_count": 46,
   "id": "ac66c5c9",
   "metadata": {},
   "outputs": [
    {
     "data": {
      "text/html": [
       "<div>\n",
       "<style scoped>\n",
       "    .dataframe tbody tr th:only-of-type {\n",
       "        vertical-align: middle;\n",
       "    }\n",
       "\n",
       "    .dataframe tbody tr th {\n",
       "        vertical-align: top;\n",
       "    }\n",
       "\n",
       "    .dataframe thead th {\n",
       "        text-align: right;\n",
       "    }\n",
       "</style>\n",
       "<table border=\"1\" class=\"dataframe\">\n",
       "  <thead>\n",
       "    <tr style=\"text-align: right;\">\n",
       "      <th></th>\n",
       "      <th>id_movie</th>\n",
       "      <th>id_client</th>\n",
       "      <th>rate</th>\n",
       "      <th>rate_day</th>\n",
       "    </tr>\n",
       "  </thead>\n",
       "  <tbody>\n",
       "    <tr>\n",
       "      <th>0</th>\n",
       "      <td>1</td>\n",
       "      <td>822109</td>\n",
       "      <td>5</td>\n",
       "      <td>2005-05-13</td>\n",
       "    </tr>\n",
       "    <tr>\n",
       "      <th>1</th>\n",
       "      <td>1</td>\n",
       "      <td>885013</td>\n",
       "      <td>4</td>\n",
       "      <td>2005-10-19</td>\n",
       "    </tr>\n",
       "    <tr>\n",
       "      <th>2</th>\n",
       "      <td>1</td>\n",
       "      <td>30878</td>\n",
       "      <td>4</td>\n",
       "      <td>2005-12-26</td>\n",
       "    </tr>\n",
       "    <tr>\n",
       "      <th>3</th>\n",
       "      <td>1</td>\n",
       "      <td>823519</td>\n",
       "      <td>3</td>\n",
       "      <td>2004-05-03</td>\n",
       "    </tr>\n",
       "    <tr>\n",
       "      <th>4</th>\n",
       "      <td>1</td>\n",
       "      <td>893988</td>\n",
       "      <td>3</td>\n",
       "      <td>2005-11-17</td>\n",
       "    </tr>\n",
       "  </tbody>\n",
       "</table>\n",
       "</div>"
      ],
      "text/plain": [
       "   id_movie  id_client  rate   rate_day\n",
       "0         1     822109     5 2005-05-13\n",
       "1         1     885013     4 2005-10-19\n",
       "2         1      30878     4 2005-12-26\n",
       "3         1     823519     3 2004-05-03\n",
       "4         1     893988     3 2005-11-17"
      ]
     },
     "execution_count": 46,
     "metadata": {},
     "output_type": "execute_result"
    }
   ],
   "source": [
    "df.head()"
   ]
  },
  {
   "cell_type": "code",
   "execution_count": 47,
   "id": "b0b8d8b8",
   "metadata": {},
   "outputs": [
    {
     "name": "stderr",
     "output_type": "stream",
     "text": [
      "<ipython-input-47-c716b6284569>:1: FutureWarning: Treating datetime data as categorical rather than numeric in `.describe` is deprecated and will be removed in a future version of pandas. Specify `datetime_is_numeric=True` to silence this warning and adopt the future behavior now.\n",
      "  df['rate_day'].describe()\n"
     ]
    },
    {
     "data": {
      "text/plain": [
       "count               100480506\n",
       "unique                   2182\n",
       "top       2005-01-19 00:00:00\n",
       "freq                   737570\n",
       "first     1999-11-11 00:00:00\n",
       "last      2005-12-31 00:00:00\n",
       "Name: rate_day, dtype: object"
      ]
     },
     "execution_count": 47,
     "metadata": {},
     "output_type": "execute_result"
    }
   ],
   "source": [
    "df['rate_day'].describe()"
   ]
  },
  {
   "cell_type": "code",
   "execution_count": 48,
   "id": "c0b108a5",
   "metadata": {},
   "outputs": [
    {
     "data": {
      "text/plain": [
       "2005-01-19    737570\n",
       "2005-04-06    339811\n",
       "2005-06-01    238967\n",
       "2005-06-27    236187\n",
       "2005-05-31    234062\n",
       "               ...  \n",
       "1999-12-26        20\n",
       "1999-12-14        15\n",
       "1999-12-06        12\n",
       "1999-12-20         6\n",
       "1999-12-15         5\n",
       "Name: rate_day, Length: 2182, dtype: int64"
      ]
     },
     "execution_count": 48,
     "metadata": {},
     "output_type": "execute_result"
    }
   ],
   "source": [
    "df_rate_day_count = df['rate_day'].value_counts()\n",
    "df_rate_day_count"
   ]
  },
  {
   "cell_type": "code",
   "execution_count": 49,
   "id": "dae658a7",
   "metadata": {},
   "outputs": [
    {
     "data": {
      "image/png": "[encoded data removed]",
      "text/plain": [
       "<Figure size 864x576 with 1 Axes>"
      ]
     },
     "metadata": {},
     "output_type": "display_data"
    }
   ],
   "source": [
    "# Crear el gráfico de la serie temporal\n",
    "plt.figure(figsize=(12, 8))  # Ancho x Alto\n",
    "\n",
    "df_rate_day_count.plot(marker='o', linestyle='-')\n",
    "# Configurar etiquetas y título\n",
    "plt.title('Serie Temporal de las puntuaciones por fecha', fontsize=16)\n",
    "plt.xlabel('Fecha', fontsize=14)\n",
    "plt.ylabel('Frecuencia', fontsize=14)\n",
    "\n",
    "# Rotar las etiquetas del eje x para mayor legibilidad\n",
    "plt.xticks(rotation=45, ha='right')\n",
    "\n",
    "# Mostrar la gráfica\n",
    "plt.tight_layout()\n",
    "plt.show()"
   ]
  },
  {
   "cell_type": "code",
   "execution_count": 8,
   "id": "b493504d",
   "metadata": {},
   "outputs": [
    {
     "data": {
      "text/plain": [
       "2005    53250072\n",
       "2004    30206574\n",
       "2003     9985337\n",
       "2002     4342871\n",
       "2001     1769031\n",
       "2000      924443\n",
       "1999        2178\n",
       "Name: rate_day, dtype: int64"
      ]
     },
     "execution_count": 8,
     "metadata": {},
     "output_type": "execute_result"
    }
   ],
   "source": [
    "df['rate_day'].dt.year.value_counts()"
   ]
  },
  {
   "cell_type": "code",
   "execution_count": null,
   "id": "344755ad",
   "metadata": {},
   "outputs": [],
   "source": []
  },
  {
   "cell_type": "code",
   "execution_count": null,
   "id": "cd53a1b8",
   "metadata": {},
   "outputs": [],
   "source": []
  }
 ],
 "metadata": {
  "kernelspec": {
   "display_name": "Python 3",
   "language": "python",
   "name": "python3"
  },
  "language_info": {
   "codemirror_mode": {
    "name": "ipython",
    "version": 3
   },
   "file_extension": ".py",
   "mimetype": "text/x-python",
   "name": "python",
   "nbconvert_exporter": "python",
   "pygments_lexer": "ipython3",
   "version": "3.8.8"
  }
 },
 "nbformat": 4,
 "nbformat_minor": 5
}
