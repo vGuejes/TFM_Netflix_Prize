{
 "cells": [
  {
   "cell_type": "code",
   "execution_count": 1,
   "id": "c697af1d",
   "metadata": {},
   "outputs": [
    {
     "name": "stdout",
     "output_type": "stream",
     "text": [
      "WARNING:tensorflow:From C:\\Users\\usuario\\anaconda3\\lib\\site-packages\\tensorflow\\python\\compat\\v2_compat.py:107: disable_resource_variables (from tensorflow.python.ops.variable_scope) is deprecated and will be removed in a future version.\n",
      "Instructions for updating:\n",
      "non-resource variables are not supported in the long term\n"
     ]
    }
   ],
   "source": [
    "import numpy as np\n",
    "import pandas as pd\n",
    "import matplotlib.pyplot as plt\n",
    "import seaborn as sns\n",
    "import pickle\n",
    "\n",
    "import tensorflow.compat.v1 as tf\n",
    "tf.disable_v2_behavior()\n",
    "tf.logging.set_verbosity(tf.logging.ERROR)\n",
    "\n",
    "import collections\n",
    "\n",
    "from sklearn.model_selection import train_test_split\n",
    "from sklearn.preprocessing import LabelEncoder\n",
    "from sklearn.neighbors import NearestNeighbors\n",
    "\n",
    "import gc\n",
    "\n",
    "seed=15"
   ]
  },
  {
   "cell_type": "code",
   "execution_count": 2,
   "id": "6fec17e0",
   "metadata": {},
   "outputs": [
    {
     "data": {
      "text/plain": [
       "37"
      ]
     },
     "execution_count": 2,
     "metadata": {},
     "output_type": "execute_result"
    }
   ],
   "source": [
    "gc.collect()"
   ]
  },
  {
   "cell_type": "markdown",
   "id": "16df1505",
   "metadata": {},
   "source": [
    "# Lectura y tratamiento de los datos"
   ]
  },
  {
   "cell_type": "code",
   "execution_count": 3,
   "id": "ce6662c7",
   "metadata": {},
   "outputs": [
    {
     "name": "stdout",
     "output_type": "stream",
     "text": [
      "Wall time: 729 ms\n"
     ]
    },
    {
     "data": {
      "text/plain": [
       "(8556951, 3)"
      ]
     },
     "execution_count": 3,
     "metadata": {},
     "output_type": "execute_result"
    }
   ],
   "source": [
    "%%time\n",
    "df_train = pd.read_parquet('../data/df_filt_train_100_100.zip')\n",
    "df_train.shape"
   ]
  },
  {
   "cell_type": "code",
   "execution_count": 4,
   "id": "d6860df5",
   "metadata": {},
   "outputs": [
    {
     "name": "stdout",
     "output_type": "stream",
     "text": [
      "Wall time: 27.6 s\n"
     ]
    }
   ],
   "source": [
    "%%time\n",
    "encoder_mv = LabelEncoder()\n",
    "df_train['movie_id_orig'] = df_train['movie_id'].astype(str)\n",
    "df_train['movie_id'] = encoder_mv.fit_transform(df_train['movie_id_orig'])\n",
    "\n",
    "encoder_usr = LabelEncoder()\n",
    "df_train['user_id_orig'] = df_train['user_id'].astype(str)\n",
    "df_train['user_id'] = encoder_usr.fit_transform(df_train['user_id_orig'])"
   ]
  },
  {
   "cell_type": "code",
   "execution_count": 5,
   "id": "4ad12205",
   "metadata": {},
   "outputs": [],
   "source": [
    "users = df_train[\"user_id\"].drop_duplicates()\n",
    "movies = df_train[\"movie_id\"].drop_duplicates()"
   ]
  },
  {
   "cell_type": "code",
   "execution_count": 6,
   "id": "7fce0756",
   "metadata": {},
   "outputs": [
    {
     "data": {
      "text/html": [
       "<div>\n",
       "<style scoped>\n",
       "    .dataframe tbody tr th:only-of-type {\n",
       "        vertical-align: middle;\n",
       "    }\n",
       "\n",
       "    .dataframe tbody tr th {\n",
       "        vertical-align: top;\n",
       "    }\n",
       "\n",
       "    .dataframe thead th {\n",
       "        text-align: right;\n",
       "    }\n",
       "</style>\n",
       "<table border=\"1\" class=\"dataframe\">\n",
       "  <thead>\n",
       "    <tr style=\"text-align: right;\">\n",
       "      <th></th>\n",
       "      <th>user_id_orig</th>\n",
       "    </tr>\n",
       "    <tr>\n",
       "      <th>user_id</th>\n",
       "      <th></th>\n",
       "    </tr>\n",
       "  </thead>\n",
       "  <tbody>\n",
       "    <tr>\n",
       "      <th>31206</th>\n",
       "      <td>2000429</td>\n",
       "    </tr>\n",
       "    <tr>\n",
       "      <th>55088</th>\n",
       "      <td>382224</td>\n",
       "    </tr>\n",
       "    <tr>\n",
       "      <th>19393</th>\n",
       "      <td>1617455</td>\n",
       "    </tr>\n",
       "    <tr>\n",
       "      <th>13510</th>\n",
       "      <td>143113</td>\n",
       "    </tr>\n",
       "    <tr>\n",
       "      <th>67063</th>\n",
       "      <td>768876</td>\n",
       "    </tr>\n",
       "    <tr>\n",
       "      <th>39310</th>\n",
       "      <td>2261348</td>\n",
       "    </tr>\n",
       "    <tr>\n",
       "      <th>45195</th>\n",
       "      <td>2451473</td>\n",
       "    </tr>\n",
       "    <tr>\n",
       "      <th>42445</th>\n",
       "      <td>2364018</td>\n",
       "    </tr>\n",
       "    <tr>\n",
       "      <th>34650</th>\n",
       "      <td>2110908</td>\n",
       "    </tr>\n",
       "    <tr>\n",
       "      <th>63765</th>\n",
       "      <td>662478</td>\n",
       "    </tr>\n",
       "  </tbody>\n",
       "</table>\n",
       "</div>"
      ],
      "text/plain": [
       "        user_id_orig\n",
       "user_id             \n",
       "31206        2000429\n",
       "55088         382224\n",
       "19393        1617455\n",
       "13510         143113\n",
       "67063         768876\n",
       "39310        2261348\n",
       "45195        2451473\n",
       "42445        2364018\n",
       "34650        2110908\n",
       "63765         662478"
      ]
     },
     "execution_count": 6,
     "metadata": {},
     "output_type": "execute_result"
    }
   ],
   "source": [
    "translate_users = df_train[[\"user_id\",\"user_id_orig\"]].drop_duplicates().set_index('user_id')\n",
    "translate_movies = df_train[[\"movie_id\",\"movie_id_orig\"]].drop_duplicates().set_index('movie_id')\n",
    "\n",
    "translate_users.to_csv('translate_users_tts_100_100.csv')\n",
    "translate_movies.to_csv('translate_movies_tts_100_100.csv')\n",
    "\n",
    "translate_users.head(10)"
   ]
  },
  {
   "cell_type": "code",
   "execution_count": 7,
   "id": "ff0f3a3e",
   "metadata": {},
   "outputs": [
    {
     "data": {
      "text/plain": [
       "(74452,)"
      ]
     },
     "execution_count": 7,
     "metadata": {},
     "output_type": "execute_result"
    }
   ],
   "source": [
    "users.shape"
   ]
  },
  {
   "cell_type": "code",
   "execution_count": 8,
   "id": "bfa2e46e",
   "metadata": {},
   "outputs": [
    {
     "data": {
      "text/plain": [
       "74451"
      ]
     },
     "execution_count": 8,
     "metadata": {},
     "output_type": "execute_result"
    }
   ],
   "source": [
    "users.max()"
   ]
  },
  {
   "cell_type": "code",
   "execution_count": 9,
   "id": "14788de0",
   "metadata": {},
   "outputs": [
    {
     "data": {
      "text/plain": [
       "(7027,)"
      ]
     },
     "execution_count": 9,
     "metadata": {},
     "output_type": "execute_result"
    }
   ],
   "source": [
    "movies.shape"
   ]
  },
  {
   "cell_type": "code",
   "execution_count": 10,
   "id": "8dfe5dbe",
   "metadata": {},
   "outputs": [
    {
     "data": {
      "text/plain": [
       "7026"
      ]
     },
     "execution_count": 10,
     "metadata": {},
     "output_type": "execute_result"
    }
   ],
   "source": [
    "movies.max()"
   ]
  },
  {
   "cell_type": "markdown",
   "id": "2537842f",
   "metadata": {},
   "source": [
    "# Entrenamiento del modelo"
   ]
  },
  {
   "cell_type": "code",
   "execution_count": 11,
   "id": "6fe4335b",
   "metadata": {},
   "outputs": [
    {
     "name": "stdout",
     "output_type": "stream",
     "text": [
      "ejecutó\n"
     ]
    }
   ],
   "source": [
    "class CFModel(object):\n",
    "\t\"\"\"Simple class that represents a collaborative filtering model\"\"\"\n",
    "\tdef __init__(self, embedding_vars, loss, metrics=None):\n",
    "\t\t\"\"\"\"Initializes a CFModel.\n",
    "\t\tArgs:\n",
    "\t\t\tembedding_vars: A dictionary of tf.Variables.\n",
    "\t\t\tloss: A float Tensor. The loss to optimize.\n",
    "\t\t\tmetrics: optional list of dictionaries of Tensors. The metrics in each\n",
    "\t\t\tdictionary will be plotted in a separate figure during training.\n",
    "\t\t\"\"\"\n",
    "\t\tself._embedding_vars = embedding_vars\n",
    "\t\tself._loss = loss\n",
    "\t\tself._metrics = metrics\n",
    "\t\tself._embeddings = {k: None for k in embedding_vars}\n",
    "\t\tself._session = None\n",
    "\n",
    "\t@property\n",
    "\tdef embeddings(self):\n",
    "\t\t\"\"\"The embeddings dictionary.\"\"\"\n",
    "\t\treturn self._embeddings\n",
    "\n",
    "\tdef train(self, num_iterations=100, learning_rate=1.0, plot_results=True,\n",
    "\t\t\t  optimizer=tf.train.GradientDescentOptimizer):\n",
    "\t\t\"\"\"Trains the model.\n",
    "\t\tArgs:\n",
    "\t\t\titerations: number of iterations to run.\n",
    "\t\t\tlearning_rate: optimizer learning rate.\n",
    "\t\t\tplot_results: whether to plot the results at the end of training.\n",
    "\t\t\toptimizer: the optimizer to use. Default to GradientDescentOptimizer.\n",
    "\t\tReturns:\n",
    "\t\t\tThe metrics dictionary evaluated at the last iteration.\n",
    "\t\t\"\"\"\n",
    "\t\twith self._loss.graph.as_default():\n",
    "\t\t\topt = optimizer(learning_rate)\n",
    "\t\t\ttrain_op = opt.minimize(self._loss)\n",
    "\t\t\tlocal_init_op = tf.group(tf.variables_initializer(opt.variables()),\n",
    "\t\t\t\t\t\t\t\t\t tf.local_variables_initializer())\n",
    "\t\t\tif self._session is None:\n",
    "\t\t\t\tself._session = tf.Session()\n",
    "\t\t\t\twith self._session.as_default():\n",
    "\t\t\t\t\tself._session.run(tf.global_variables_initializer())\n",
    "\t\t\t\t\tself._session.run(tf.tables_initializer())\n",
    "\t\t\t\t\ttf.train.start_queue_runners()\n",
    "\t\twith self._session.as_default():\n",
    "\t\t\tlocal_init_op.run()\n",
    "\t\t\titerations = []\n",
    "\t\t\tmetrics = self._metrics or ({},)\n",
    "\t\t\tmetrics_vals = [collections.defaultdict(list) for _ in self._metrics]\n",
    "\t\t\t# Train and append results.\n",
    "\t\t\tfor i in range(num_iterations + 1):\n",
    "\t\t\t\t#print(i)\n",
    "\t\t\t\t_, results = self._session.run((train_op, metrics))\n",
    "\t\t\t\tif (i % 500 == 0) or i == num_iterations:\n",
    "\t\t\t\t\tprint(\"Iteration %d: \" % i + \", \".join([\"%s=%f\" % (k, v) for r in results for k, v in r.items()]))\n",
    "\t\t\t\t\titerations.append(i)\n",
    "\t\t\t\t\tfor metric_val, result in zip(metrics_vals, results):\n",
    "\t\t\t\t\t\tfor k, v in result.items():\n",
    "\t\t\t\t\t\t\tmetric_val[k].append(v)\n",
    "\t\t\tfor k, v in self._embedding_vars.items():\n",
    "\t\t\t\tself._embeddings[k] = v.eval()\n",
    "\t\t\tif plot_results:\n",
    "\t\t\t\t# Plot the metrics.\n",
    "\t\t\t\tnum_subplots = len(metrics)+1\n",
    "\t\t\t\tfig = plt.figure()\n",
    "\t\t\t\tfig.set_size_inches(num_subplots*10, 8)\n",
    "\t\t\t\tfor i, metric_vals in enumerate(metrics_vals):\n",
    "\t\t\t\t\tax = fig.add_subplot(1, num_subplots, i+1)\n",
    "\t\t\t\t\tfor k, v in metric_vals.items():\n",
    "\t\t\t\t\t\tax.plot(iterations, v, label=k)\n",
    "\t\t\t\t\tax.set_xlim([1, num_iterations])\n",
    "\t\t\t\t\tax.legend()\n",
    "\t\t\treturn results\n",
    "\n",
    "\n",
    "\n",
    "def build_model(ratings, embedding_dim=3, init_stddev=1.):\n",
    "\t\"\"\"\n",
    "\tArgs:\n",
    "\t\tratings: a DataFrame of the ratings\n",
    "\t\tembedding_dim: the dimension of the embedding vectors.\n",
    "\t\tinit_stddev: float, the standard deviation of the random initial embeddings.\n",
    "\tReturns:\n",
    "\t\tmodel: a CFModel.\n",
    "\t\"\"\"\n",
    "\t# Split the ratings DataFrame into train and test.\n",
    "\ttrain_ratings, test_ratings = split_dataframe(ratings)\n",
    "\t# SparseTensor representation of the train and test datasets.\n",
    "\tA_train = build_rating_sparse_tensor(train_ratings)\n",
    "\tA_test = build_rating_sparse_tensor(test_ratings)\n",
    "\t# Initialize the embeddings using a normal distribution.\n",
    "\tU = tf.Variable(tf.random_normal(\n",
    "\t\t\t[A_train.dense_shape[0], embedding_dim], stddev=init_stddev))\n",
    "\tV = tf.Variable(tf.random_normal(\n",
    "\t\t\t[A_train.dense_shape[1], embedding_dim], stddev=init_stddev))\n",
    "\ttrain_loss = sparse_mean_square_error(A_train, U, V)\n",
    "\ttest_loss = sparse_mean_square_error(A_test, U, V)\n",
    "\tmetrics = {\n",
    "\t\t\t'train_error': train_loss,\n",
    "\t\t\t'val_error': test_loss\n",
    "\t}\n",
    "\tembeddings = {\n",
    "\t\t\t\"user_id\": U,\n",
    "\t\t\t\"movie_id\": V\n",
    "\t}\n",
    "\treturn CFModel(embeddings, train_loss, [metrics])\n",
    "\n",
    "\n",
    "\n",
    "# Utility to split the data into training and test sets.\n",
    "def split_dataframe(df, holdout_fraction=0.1):\n",
    "\t\"\"\"Splits a DataFrame into training and test sets.\n",
    "\tArgs:\n",
    "\t\tdf: a dataframe.\n",
    "\t\tholdout_fraction: fraction of dataframe rows to use in the test set.\n",
    "\tReturns:\n",
    "\t\ttrain: dataframe for training\n",
    "\t\ttest: dataframe for testing\n",
    "\t\"\"\"\n",
    "\ttest = df.sample(frac=holdout_fraction, replace=False)\n",
    "\ttrain = df[~df.index.isin(test.index)]\n",
    "\treturn train, test\n",
    "\n",
    "\n",
    "\n",
    "#@title Solution\n",
    "def build_rating_sparse_tensor(ratings_df):\n",
    "\t\"\"\"\n",
    "\tArgs:\n",
    "\t\tratings_df: a pd.DataFrame with `user_id`, `movie_id` and `rating` columns.\n",
    "\tReturns:\n",
    "\t\ta tf.SparseTensor representing the ratings matrix.\n",
    "\t\"\"\"\n",
    "\tindices = ratings_df[['user_id', 'movie_id']].values\n",
    "\tvalues = ratings_df['rating'].values\n",
    "\treturn tf.SparseTensor(\n",
    "\t\t\tindices=indices,\n",
    "\t\t\tvalues=values,\n",
    "\t\t\tdense_shape=[users.shape[0], movies.shape[0]])\n",
    "\n",
    "\n",
    "\n",
    "def sparse_mean_square_error(sparse_ratings, user_embeddings, movie_embeddings):\n",
    "\t\"\"\"\n",
    "\tArgs:\n",
    "\t\tsparse_ratings: A SparseTensor rating matrix, of dense_shape [N, M]\n",
    "\t\tuser_embeddings: A dense Tensor U of shape [N, k] where k is the embedding\n",
    "\t\t\tdimension, such that U_i is the embedding of user i.\n",
    "\t\tmovie_embeddings: A dense Tensor V of shape [M, k] where k is the embedding\n",
    "\t\t\tdimension, such that V_j is the embedding of movie j.\n",
    "\tReturns:\n",
    "\t\tA scalar Tensor representing the MSE between the true ratings and the\n",
    "\t\t\tmodel's predictions.\n",
    "\t\"\"\"\n",
    "\tpredictions = tf.reduce_sum(\n",
    "\t\t\ttf.gather(user_embeddings, sparse_ratings.indices[:, 0]) *\n",
    "\t\t\ttf.gather(movie_embeddings, sparse_ratings.indices[:, 1]),\n",
    "\t\t\taxis=1)\n",
    "\tloss = tf.losses.mean_squared_error(sparse_ratings.values, predictions)\n",
    "\treturn loss\n",
    "\n",
    "print('ejecutó')"
   ]
  },
  {
   "cell_type": "code",
   "execution_count": 12,
   "id": "e53d5202",
   "metadata": {},
   "outputs": [
    {
     "data": {
      "text/plain": [
       "15"
      ]
     },
     "execution_count": 12,
     "metadata": {},
     "output_type": "execute_result"
    }
   ],
   "source": [
    "gc.collect()"
   ]
  },
  {
   "cell_type": "code",
   "execution_count": 13,
   "id": "d483bb49",
   "metadata": {},
   "outputs": [
    {
     "name": "stdout",
     "output_type": "stream",
     "text": [
      "Iteration 0: train_error=24.026587, val_error=23.992872\n",
      "Iteration 500: train_error=17.569752, val_error=17.601007\n",
      "Iteration 1000: train_error=16.204056, val_error=16.269491\n",
      "Iteration 1500: train_error=15.608693, val_error=15.696093\n",
      "Iteration 2000: train_error=15.264694, val_error=15.367805\n",
      "Iteration 2500: train_error=15.036186, val_error=15.151413\n",
      "Iteration 3000: train_error=14.870466, val_error=14.995532\n",
      "Iteration 3500: train_error=14.742219, val_error=14.875583\n",
      "Iteration 4000: train_error=14.637294, val_error=14.777870\n",
      "Iteration 4500: train_error=14.546638, val_error=14.693642\n",
      "Iteration 5000: train_error=14.463579, val_error=14.616439\n",
      "Iteration 5500: train_error=14.382371, val_error=14.540691\n",
      "Iteration 6000: train_error=14.297278, val_error=14.460804\n",
      "Iteration 6500: train_error=14.201854, val_error=14.370465\n",
      "Iteration 7000: train_error=14.088331, val_error=14.262031\n",
      "Iteration 7500: train_error=13.947067, val_error=14.125986\n",
      "Iteration 8000: train_error=13.766137, val_error=13.950538\n",
      "Iteration 8500: train_error=13.531370, val_error=13.721622\n",
      "Iteration 9000: train_error=13.227059, val_error=13.423605\n",
      "Iteration 9500: train_error=12.838054, val_error=13.041315\n",
      "Iteration 10000: train_error=12.353073, val_error=12.563325\n",
      "Wall time: 2h 56min 5s\n"
     ]
    },
    {
     "data": {
      "image/png": "[encoded data removed]",
      "text/plain": [
       "<Figure size 1440x576 with 1 Axes>"
      ]
     },
     "metadata": {
      "needs_background": "light"
     },
     "output_type": "display_data"
    }
   ],
   "source": [
    "%%time\n",
    "\n",
    "emb_dim = 10\n",
    "lr = 1\n",
    "lr_str = str(lr)\n",
    "niter = 10000\n",
    "niter_str = \"10k\"\n",
    "\n",
    "model = build_model(df_train, embedding_dim=emb_dim, init_stddev=1)\n",
    "model.train(num_iterations=niter, learning_rate=lr)\n",
    "\n",
    "user_embedding = model.embeddings[\"user_id\"]\n",
    "movie_embedding = model.embeddings[\"movie_id\"]\n",
    "\n",
    "np.save(f'./embeddings/user_embeddings_dim{emb_dim}_{lr_str}_{niter_str}.npy', user_embedding)\n",
    "np.save(f'./embeddings/movie_embeddings_dim{emb_dim}_{lr_str}_{niter_str}.npy', movie_embedding)"
   ]
  },
  {
   "cell_type": "code",
   "execution_count": 14,
   "id": "700bb237",
   "metadata": {},
   "outputs": [
    {
     "data": {
      "text/plain": [
       "2968"
      ]
     },
     "execution_count": 14,
     "metadata": {},
     "output_type": "execute_result"
    }
   ],
   "source": [
    "gc.collect()"
   ]
  },
  {
   "cell_type": "code",
   "execution_count": 15,
   "id": "9a1bc8bf",
   "metadata": {},
   "outputs": [
    {
     "name": "stdout",
     "output_type": "stream",
     "text": [
      "Iteration 0: train_error=23.980890, val_error=23.953190\n",
      "Iteration 500: train_error=14.482498, val_error=14.642558\n",
      "Iteration 1000: train_error=13.150011, val_error=13.347032\n",
      "Iteration 1500: train_error=6.464273, val_error=6.668565\n",
      "Iteration 2000: train_error=2.588330, val_error=2.747512\n",
      "Iteration 2500: train_error=1.494944, val_error=1.618359\n",
      "Iteration 3000: train_error=1.149692, val_error=1.252640\n",
      "Iteration 3500: train_error=1.015496, val_error=1.106485\n",
      "Iteration 4000: train_error=0.951768, val_error=1.035131\n",
      "Iteration 4500: train_error=0.916014, val_error=0.994048\n",
      "Iteration 5000: train_error=0.893302, val_error=0.967320\n",
      "Iteration 5500: train_error=0.877580, val_error=0.948403\n",
      "Iteration 6000: train_error=0.866045, val_error=0.934227\n",
      "Iteration 6500: train_error=0.857241, val_error=0.923182\n",
      "Iteration 7000: train_error=0.850327, val_error=0.914334\n",
      "Iteration 7500: train_error=0.844782, val_error=0.907096\n",
      "Iteration 8000: train_error=0.840261, val_error=0.901078\n",
      "Iteration 8500: train_error=0.836522, val_error=0.896009\n",
      "Iteration 9000: train_error=0.833395, val_error=0.891690\n",
      "Iteration 9500: train_error=0.830753, val_error=0.887977\n",
      "Iteration 10000: train_error=0.828500, val_error=0.884756\n",
      "Wall time: 3h 30s\n"
     ]
    },
    {
     "data": {
      "image/png": "[encoded data removed]",
      "text/plain": [
       "<Figure size 1440x576 with 1 Axes>"
      ]
     },
     "metadata": {
      "needs_background": "light"
     },
     "output_type": "display_data"
    }
   ],
   "source": [
    "%%time\n",
    "\n",
    "emb_dim = 10\n",
    "lr = 10\n",
    "lr_str = str(lr)\n",
    "niter = 10000\n",
    "niter_str = \"10k\"\n",
    "\n",
    "model = build_model(df_train, embedding_dim=emb_dim, init_stddev=1)\n",
    "model.train(num_iterations=niter, learning_rate=lr)\n",
    "\n",
    "user_embedding = model.embeddings[\"user_id\"]\n",
    "movie_embedding = model.embeddings[\"movie_id\"]\n",
    "\n",
    "np.save(f'./embeddings/user_embeddings_dim{emb_dim}_{lr_str}_{niter_str}.npy', user_embedding)\n",
    "np.save(f'./embeddings/movie_embeddings_dim{emb_dim}_{lr_str}_{niter_str}.npy', movie_embedding)"
   ]
  },
  {
   "cell_type": "code",
   "execution_count": 16,
   "id": "6d76ee1f",
   "metadata": {},
   "outputs": [
    {
     "data": {
      "text/plain": [
       "2908"
      ]
     },
     "execution_count": 16,
     "metadata": {},
     "output_type": "execute_result"
    }
   ],
   "source": [
    "gc.collect()"
   ]
  },
  {
   "cell_type": "code",
   "execution_count": 17,
   "id": "eb8a621e",
   "metadata": {},
   "outputs": [
    {
     "name": "stdout",
     "output_type": "stream",
     "text": [
      "Iteration 0: train_error=24.073652, val_error=24.042139\n",
      "Iteration 500: train_error=12.393298, val_error=12.561552\n",
      "Iteration 1000: train_error=2.291298, val_error=2.433461\n",
      "Iteration 1500: train_error=1.121990, val_error=1.219009\n",
      "Iteration 2000: train_error=0.946402, val_error=1.026938\n",
      "Iteration 2500: train_error=0.891450, val_error=0.963682\n",
      "Iteration 3000: train_error=0.865149, val_error=0.931956\n",
      "Iteration 3500: train_error=0.849813, val_error=0.912625\n",
      "Iteration 4000: train_error=0.839943, val_error=0.899651\n",
      "Iteration 4500: train_error=0.833196, val_error=0.890426\n",
      "Iteration 5000: train_error=0.828382, val_error=0.883598\n",
      "Iteration 5500: train_error=0.824828, val_error=0.878389\n",
      "Iteration 6000: train_error=0.822128, val_error=0.874315\n",
      "Iteration 6500: train_error=0.820028, val_error=0.871065\n",
      "Iteration 7000: train_error=0.818358, val_error=0.868426\n",
      "Iteration 7500: train_error=0.817006, val_error=0.866251\n",
      "Iteration 8000: train_error=0.815893, val_error=0.864436\n",
      "Iteration 8500: train_error=0.814962, val_error=0.862906\n",
      "Iteration 9000: train_error=0.814174, val_error=0.861603\n",
      "Iteration 9500: train_error=0.813497, val_error=0.860483\n",
      "Iteration 10000: train_error=0.812910, val_error=0.859515\n",
      "Wall time: 2h 59min 35s\n"
     ]
    },
    {
     "data": {
      "image/png": "[encoded data removed]",
      "text/plain": [
       "<Figure size 1440x576 with 1 Axes>"
      ]
     },
     "metadata": {
      "needs_background": "light"
     },
     "output_type": "display_data"
    }
   ],
   "source": [
    "%%time\n",
    "\n",
    "emb_dim = 10\n",
    "lr = 20\n",
    "lr_str = str(lr)\n",
    "niter = 10000\n",
    "niter_str = \"10k\"\n",
    "\n",
    "model = build_model(df_train, embedding_dim=emb_dim, init_stddev=1)\n",
    "model.train(num_iterations=niter, learning_rate=lr)\n",
    "\n",
    "user_embedding = model.embeddings[\"user_id\"]\n",
    "movie_embedding = model.embeddings[\"movie_id\"]\n",
    "\n",
    "np.save(f'./embeddings/user_embeddings_dim{emb_dim}_{lr_str}_{niter_str}.npy', user_embedding)\n",
    "np.save(f'./embeddings/movie_embeddings_dim{emb_dim}_{lr_str}_{niter_str}.npy', movie_embedding)"
   ]
  },
  {
   "cell_type": "code",
   "execution_count": 18,
   "id": "126aa699",
   "metadata": {},
   "outputs": [
    {
     "data": {
      "text/plain": [
       "2908"
      ]
     },
     "execution_count": 18,
     "metadata": {},
     "output_type": "execute_result"
    }
   ],
   "source": [
    "gc.collect()"
   ]
  }
 ],
 "metadata": {
  "kernelspec": {
   "display_name": "Python 3",
   "language": "python",
   "name": "python3"
  },
  "language_info": {
   "codemirror_mode": {
    "name": "ipython",
    "version": 3
   },
   "file_extension": ".py",
   "mimetype": "text/x-python",
   "name": "python",
   "nbconvert_exporter": "python",
   "pygments_lexer": "ipython3",
   "version": "3.8.8"
  }
 },
 "nbformat": 4,
 "nbformat_minor": 5
}
