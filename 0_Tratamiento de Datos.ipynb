{
 "cells": [
  {
   "cell_type": "code",
   "execution_count": 1,
   "id": "b89bbf29",
   "metadata": {},
   "outputs": [],
   "source": [
    "from time import time\n",
    "import pandas as pd"
   ]
  },
  {
   "cell_type": "markdown",
   "id": "d15b06af",
   "metadata": {},
   "source": [
    "# Combined data"
   ]
  },
  {
   "cell_type": "code",
   "execution_count": 2,
   "id": "38250c73",
   "metadata": {},
   "outputs": [
    {
     "name": "stdout",
     "output_type": "stream",
     "text": [
      "combined_data_1.txt\n",
      "combined_data_con_id.csv\n"
     ]
    }
   ],
   "source": [
    "path = \"../data/\"\n",
    "filename1 = \"combined_data_1.txt\"\n",
    "print(filename1)\n",
    "filename_out = \"combined_data_con_id.csv\"\n",
    "print(filename_out)"
   ]
  },
  {
   "cell_type": "code",
   "execution_count": 3,
   "id": "15c1652b",
   "metadata": {},
   "outputs": [],
   "source": [
    "def filepath(filename,extension,i,path=path):\n",
    "    return path + f\"{filename}_{i}.{extension}\""
   ]
  },
  {
   "cell_type": "code",
   "execution_count": 4,
   "id": "1da836fd",
   "metadata": {
    "scrolled": false
   },
   "outputs": [
    {
     "name": "stdout",
     "output_type": "stream",
     "text": [
      "output filepath:\t../data/combined_data_con_id.csv\n",
      "input filepath 1:\t../data/combined_data_1.txt\tTiempo: 66.73 s\n",
      "input filepath 2:\t../data/combined_data_2.txt\tTiempo: 73.50 s\n",
      "input filepath 3:\t../data/combined_data_3.txt\tTiempo: 59.22 s\n",
      "input filepath 4:\t../data/combined_data_4.txt\tTiempo: 69.94 s\n",
      "Wall time: 4min 29s\n"
     ]
    }
   ],
   "source": [
    "%%time\n",
    "# Abre el archivo en modo lectura\n",
    "id_movie = -1\n",
    "with open(path+filename_out, \"w\") as output_file:\n",
    "    print(f\"output filepath:\\t{path+filename_out}\")\n",
    "    for i in range(1,5):\n",
    "        filepath_aux = filepath(\"combined_data\",\"txt\",i)\n",
    "        print(f\"input filepath {i}:\\t{filepath_aux}\",end=\"\")\n",
    "        t0=time()\n",
    "        with open(filepath_aux) as input_file:\n",
    "            for linea in input_file:\n",
    "                if linea.endswith(':\\n'):\n",
    "                    id_movie = linea[:-2]\n",
    "                else:\n",
    "                    output_file.write(f\"{id_movie},{linea}\")\n",
    "        t1=time()\n",
    "        print(f\"\\tTiempo: {(t1-t0):3.2f} s\")\n"
   ]
  },
  {
   "cell_type": "code",
   "execution_count": 5,
   "id": "5d142a10",
   "metadata": {},
   "outputs": [
    {
     "name": "stdout",
     "output_type": "stream",
     "text": [
      "Wall time: 1min 31s\n"
     ]
    },
    {
     "data": {
      "text/html": [
       "<div>\n",
       "<style scoped>\n",
       "    .dataframe tbody tr th:only-of-type {\n",
       "        vertical-align: middle;\n",
       "    }\n",
       "\n",
       "    .dataframe tbody tr th {\n",
       "        vertical-align: top;\n",
       "    }\n",
       "\n",
       "    .dataframe thead th {\n",
       "        text-align: right;\n",
       "    }\n",
       "</style>\n",
       "<table border=\"1\" class=\"dataframe\">\n",
       "  <thead>\n",
       "    <tr style=\"text-align: right;\">\n",
       "      <th></th>\n",
       "      <th>id_movie</th>\n",
       "      <th>id_client</th>\n",
       "      <th>rate</th>\n",
       "      <th>rate_day</th>\n",
       "    </tr>\n",
       "  </thead>\n",
       "  <tbody>\n",
       "    <tr>\n",
       "      <th>0</th>\n",
       "      <td>1</td>\n",
       "      <td>822109</td>\n",
       "      <td>5</td>\n",
       "      <td>2005-05-13</td>\n",
       "    </tr>\n",
       "    <tr>\n",
       "      <th>1</th>\n",
       "      <td>1</td>\n",
       "      <td>885013</td>\n",
       "      <td>4</td>\n",
       "      <td>2005-10-19</td>\n",
       "    </tr>\n",
       "    <tr>\n",
       "      <th>2</th>\n",
       "      <td>1</td>\n",
       "      <td>30878</td>\n",
       "      <td>4</td>\n",
       "      <td>2005-12-26</td>\n",
       "    </tr>\n",
       "    <tr>\n",
       "      <th>3</th>\n",
       "      <td>1</td>\n",
       "      <td>823519</td>\n",
       "      <td>3</td>\n",
       "      <td>2004-05-03</td>\n",
       "    </tr>\n",
       "    <tr>\n",
       "      <th>4</th>\n",
       "      <td>1</td>\n",
       "      <td>893988</td>\n",
       "      <td>3</td>\n",
       "      <td>2005-11-17</td>\n",
       "    </tr>\n",
       "  </tbody>\n",
       "</table>\n",
       "</div>"
      ],
      "text/plain": [
       "   id_movie  id_client  rate    rate_day\n",
       "0         1     822109     5  2005-05-13\n",
       "1         1     885013     4  2005-10-19\n",
       "2         1      30878     4  2005-12-26\n",
       "3         1     823519     3  2004-05-03\n",
       "4         1     893988     3  2005-11-17"
      ]
     },
     "execution_count": 5,
     "metadata": {},
     "output_type": "execute_result"
    }
   ],
   "source": [
    "%%time\n",
    "df = pd.read_csv(path+filename_out,header=0,names=['id_movie','id_client','rate','rate_day'])\n",
    "df.head()"
   ]
  },
  {
   "cell_type": "code",
   "execution_count": 6,
   "id": "06d12928",
   "metadata": {},
   "outputs": [
    {
     "data": {
      "text/plain": [
       "(100480506, 4)"
      ]
     },
     "execution_count": 6,
     "metadata": {},
     "output_type": "execute_result"
    }
   ],
   "source": [
    "df.shape"
   ]
  },
  {
   "cell_type": "code",
   "execution_count": 7,
   "id": "0e8d64fa",
   "metadata": {},
   "outputs": [
    {
     "name": "stdout",
     "output_type": "stream",
     "text": [
      "Wall time: 2min 26s\n"
     ]
    }
   ],
   "source": [
    "%%time\n",
    "df.to_parquet(path+filename_out.split('.')[0]+'.gzip',compression='gzip')"
   ]
  },
  {
   "cell_type": "code",
   "execution_count": 8,
   "id": "1a7f2c4e",
   "metadata": {},
   "outputs": [
    {
     "name": "stdout",
     "output_type": "stream",
     "text": [
      "Wall time: 1min 2s\n"
     ]
    }
   ],
   "source": [
    "%%time\n",
    "df_read=pd.read_parquet(path+filename_out.split('.')[0]+'.gzip')"
   ]
  },
  {
   "cell_type": "code",
   "execution_count": 9,
   "id": "d58ed252",
   "metadata": {},
   "outputs": [
    {
     "data": {
      "text/html": [
       "<div>\n",
       "<style scoped>\n",
       "    .dataframe tbody tr th:only-of-type {\n",
       "        vertical-align: middle;\n",
       "    }\n",
       "\n",
       "    .dataframe tbody tr th {\n",
       "        vertical-align: top;\n",
       "    }\n",
       "\n",
       "    .dataframe thead th {\n",
       "        text-align: right;\n",
       "    }\n",
       "</style>\n",
       "<table border=\"1\" class=\"dataframe\">\n",
       "  <thead>\n",
       "    <tr style=\"text-align: right;\">\n",
       "      <th></th>\n",
       "      <th>id_movie</th>\n",
       "      <th>id_client</th>\n",
       "      <th>rate</th>\n",
       "      <th>rate_day</th>\n",
       "    </tr>\n",
       "  </thead>\n",
       "  <tbody>\n",
       "    <tr>\n",
       "      <th>0</th>\n",
       "      <td>1</td>\n",
       "      <td>822109</td>\n",
       "      <td>5</td>\n",
       "      <td>2005-05-13</td>\n",
       "    </tr>\n",
       "    <tr>\n",
       "      <th>1</th>\n",
       "      <td>1</td>\n",
       "      <td>885013</td>\n",
       "      <td>4</td>\n",
       "      <td>2005-10-19</td>\n",
       "    </tr>\n",
       "    <tr>\n",
       "      <th>2</th>\n",
       "      <td>1</td>\n",
       "      <td>30878</td>\n",
       "      <td>4</td>\n",
       "      <td>2005-12-26</td>\n",
       "    </tr>\n",
       "    <tr>\n",
       "      <th>3</th>\n",
       "      <td>1</td>\n",
       "      <td>823519</td>\n",
       "      <td>3</td>\n",
       "      <td>2004-05-03</td>\n",
       "    </tr>\n",
       "    <tr>\n",
       "      <th>4</th>\n",
       "      <td>1</td>\n",
       "      <td>893988</td>\n",
       "      <td>3</td>\n",
       "      <td>2005-11-17</td>\n",
       "    </tr>\n",
       "    <tr>\n",
       "      <th>...</th>\n",
       "      <td>...</td>\n",
       "      <td>...</td>\n",
       "      <td>...</td>\n",
       "      <td>...</td>\n",
       "    </tr>\n",
       "    <tr>\n",
       "      <th>95</th>\n",
       "      <td>1</td>\n",
       "      <td>593225</td>\n",
       "      <td>3</td>\n",
       "      <td>2004-07-11</td>\n",
       "    </tr>\n",
       "    <tr>\n",
       "      <th>96</th>\n",
       "      <td>1</td>\n",
       "      <td>1011918</td>\n",
       "      <td>4</td>\n",
       "      <td>2005-05-28</td>\n",
       "    </tr>\n",
       "    <tr>\n",
       "      <th>97</th>\n",
       "      <td>1</td>\n",
       "      <td>1665054</td>\n",
       "      <td>4</td>\n",
       "      <td>2005-07-06</td>\n",
       "    </tr>\n",
       "    <tr>\n",
       "      <th>98</th>\n",
       "      <td>1</td>\n",
       "      <td>2630337</td>\n",
       "      <td>5</td>\n",
       "      <td>2005-03-10</td>\n",
       "    </tr>\n",
       "    <tr>\n",
       "      <th>99</th>\n",
       "      <td>1</td>\n",
       "      <td>1155747</td>\n",
       "      <td>3</td>\n",
       "      <td>2005-07-03</td>\n",
       "    </tr>\n",
       "  </tbody>\n",
       "</table>\n",
       "<p>100 rows × 4 columns</p>\n",
       "</div>"
      ],
      "text/plain": [
       "    id_movie  id_client  rate    rate_day\n",
       "0          1     822109     5  2005-05-13\n",
       "1          1     885013     4  2005-10-19\n",
       "2          1      30878     4  2005-12-26\n",
       "3          1     823519     3  2004-05-03\n",
       "4          1     893988     3  2005-11-17\n",
       "..       ...        ...   ...         ...\n",
       "95         1     593225     3  2004-07-11\n",
       "96         1    1011918     4  2005-05-28\n",
       "97         1    1665054     4  2005-07-06\n",
       "98         1    2630337     5  2005-03-10\n",
       "99         1    1155747     3  2005-07-03\n",
       "\n",
       "[100 rows x 4 columns]"
      ]
     },
     "execution_count": 9,
     "metadata": {},
     "output_type": "execute_result"
    }
   ],
   "source": [
    "df_read.head(100)"
   ]
  },
  {
   "cell_type": "code",
   "execution_count": 10,
   "id": "73b74e77",
   "metadata": {},
   "outputs": [
    {
     "data": {
      "text/html": [
       "<div>\n",
       "<style scoped>\n",
       "    .dataframe tbody tr th:only-of-type {\n",
       "        vertical-align: middle;\n",
       "    }\n",
       "\n",
       "    .dataframe tbody tr th {\n",
       "        vertical-align: top;\n",
       "    }\n",
       "\n",
       "    .dataframe thead th {\n",
       "        text-align: right;\n",
       "    }\n",
       "</style>\n",
       "<table border=\"1\" class=\"dataframe\">\n",
       "  <thead>\n",
       "    <tr style=\"text-align: right;\">\n",
       "      <th></th>\n",
       "      <th>id_movie</th>\n",
       "      <th>id_client</th>\n",
       "      <th>rate</th>\n",
       "      <th>rate_day</th>\n",
       "    </tr>\n",
       "  </thead>\n",
       "  <tbody>\n",
       "    <tr>\n",
       "      <th>100480406</th>\n",
       "      <td>17770</td>\n",
       "      <td>1461435</td>\n",
       "      <td>1</td>\n",
       "      <td>2005-12-08</td>\n",
       "    </tr>\n",
       "    <tr>\n",
       "      <th>100480407</th>\n",
       "      <td>17770</td>\n",
       "      <td>243499</td>\n",
       "      <td>3</td>\n",
       "      <td>2004-04-19</td>\n",
       "    </tr>\n",
       "    <tr>\n",
       "      <th>100480408</th>\n",
       "      <td>17770</td>\n",
       "      <td>1602153</td>\n",
       "      <td>2</td>\n",
       "      <td>2004-04-12</td>\n",
       "    </tr>\n",
       "    <tr>\n",
       "      <th>100480409</th>\n",
       "      <td>17770</td>\n",
       "      <td>96627</td>\n",
       "      <td>3</td>\n",
       "      <td>2004-11-24</td>\n",
       "    </tr>\n",
       "    <tr>\n",
       "      <th>100480410</th>\n",
       "      <td>17770</td>\n",
       "      <td>2334295</td>\n",
       "      <td>3</td>\n",
       "      <td>2005-04-04</td>\n",
       "    </tr>\n",
       "    <tr>\n",
       "      <th>...</th>\n",
       "      <td>...</td>\n",
       "      <td>...</td>\n",
       "      <td>...</td>\n",
       "      <td>...</td>\n",
       "    </tr>\n",
       "    <tr>\n",
       "      <th>100480501</th>\n",
       "      <td>17770</td>\n",
       "      <td>1790158</td>\n",
       "      <td>4</td>\n",
       "      <td>2005-11-01</td>\n",
       "    </tr>\n",
       "    <tr>\n",
       "      <th>100480502</th>\n",
       "      <td>17770</td>\n",
       "      <td>1608708</td>\n",
       "      <td>3</td>\n",
       "      <td>2005-07-19</td>\n",
       "    </tr>\n",
       "    <tr>\n",
       "      <th>100480503</th>\n",
       "      <td>17770</td>\n",
       "      <td>234275</td>\n",
       "      <td>1</td>\n",
       "      <td>2004-08-07</td>\n",
       "    </tr>\n",
       "    <tr>\n",
       "      <th>100480504</th>\n",
       "      <td>17770</td>\n",
       "      <td>255278</td>\n",
       "      <td>4</td>\n",
       "      <td>2004-05-28</td>\n",
       "    </tr>\n",
       "    <tr>\n",
       "      <th>100480505</th>\n",
       "      <td>17770</td>\n",
       "      <td>453585</td>\n",
       "      <td>2</td>\n",
       "      <td>2005-03-10</td>\n",
       "    </tr>\n",
       "  </tbody>\n",
       "</table>\n",
       "<p>100 rows × 4 columns</p>\n",
       "</div>"
      ],
      "text/plain": [
       "           id_movie  id_client  rate    rate_day\n",
       "100480406     17770    1461435     1  2005-12-08\n",
       "100480407     17770     243499     3  2004-04-19\n",
       "100480408     17770    1602153     2  2004-04-12\n",
       "100480409     17770      96627     3  2004-11-24\n",
       "100480410     17770    2334295     3  2005-04-04\n",
       "...             ...        ...   ...         ...\n",
       "100480501     17770    1790158     4  2005-11-01\n",
       "100480502     17770    1608708     3  2005-07-19\n",
       "100480503     17770     234275     1  2004-08-07\n",
       "100480504     17770     255278     4  2004-05-28\n",
       "100480505     17770     453585     2  2005-03-10\n",
       "\n",
       "[100 rows x 4 columns]"
      ]
     },
     "execution_count": 10,
     "metadata": {},
     "output_type": "execute_result"
    }
   ],
   "source": [
    "df_read.tail(100)"
   ]
  },
  {
   "cell_type": "code",
   "execution_count": 11,
   "id": "253f2fba",
   "metadata": {},
   "outputs": [
    {
     "data": {
      "text/html": [
       "<div>\n",
       "<style scoped>\n",
       "    .dataframe tbody tr th:only-of-type {\n",
       "        vertical-align: middle;\n",
       "    }\n",
       "\n",
       "    .dataframe tbody tr th {\n",
       "        vertical-align: top;\n",
       "    }\n",
       "\n",
       "    .dataframe thead th {\n",
       "        text-align: right;\n",
       "    }\n",
       "</style>\n",
       "<table border=\"1\" class=\"dataframe\">\n",
       "  <thead>\n",
       "    <tr style=\"text-align: right;\">\n",
       "      <th></th>\n",
       "      <th>id_movie</th>\n",
       "      <th>id_client</th>\n",
       "      <th>rate</th>\n",
       "      <th>rate_day</th>\n",
       "    </tr>\n",
       "  </thead>\n",
       "  <tbody>\n",
       "    <tr>\n",
       "      <th>0</th>\n",
       "      <td>1</td>\n",
       "      <td>822109</td>\n",
       "      <td>5</td>\n",
       "      <td>2005-05-13</td>\n",
       "    </tr>\n",
       "    <tr>\n",
       "      <th>1</th>\n",
       "      <td>1</td>\n",
       "      <td>885013</td>\n",
       "      <td>4</td>\n",
       "      <td>2005-10-19</td>\n",
       "    </tr>\n",
       "    <tr>\n",
       "      <th>2</th>\n",
       "      <td>1</td>\n",
       "      <td>30878</td>\n",
       "      <td>4</td>\n",
       "      <td>2005-12-26</td>\n",
       "    </tr>\n",
       "    <tr>\n",
       "      <th>3</th>\n",
       "      <td>1</td>\n",
       "      <td>823519</td>\n",
       "      <td>3</td>\n",
       "      <td>2004-05-03</td>\n",
       "    </tr>\n",
       "    <tr>\n",
       "      <th>4</th>\n",
       "      <td>1</td>\n",
       "      <td>893988</td>\n",
       "      <td>3</td>\n",
       "      <td>2005-11-17</td>\n",
       "    </tr>\n",
       "  </tbody>\n",
       "</table>\n",
       "</div>"
      ],
      "text/plain": [
       "   id_movie  id_client  rate    rate_day\n",
       "0         1     822109     5  2005-05-13\n",
       "1         1     885013     4  2005-10-19\n",
       "2         1      30878     4  2005-12-26\n",
       "3         1     823519     3  2004-05-03\n",
       "4         1     893988     3  2005-11-17"
      ]
     },
     "execution_count": 11,
     "metadata": {},
     "output_type": "execute_result"
    }
   ],
   "source": [
    "df_top_100 = df.groupby('id_client',group_keys=False).head(100)\n",
    "df_top_100.head()"
   ]
  },
  {
   "cell_type": "code",
   "execution_count": 12,
   "id": "2c2ad9aa",
   "metadata": {},
   "outputs": [
    {
     "name": "stdout",
     "output_type": "stream",
     "text": [
      "Wall time: 356 ms\n"
     ]
    }
   ],
   "source": [
    "%%time\n",
    "df_top_100.head(100*100).to_csv(path+filename_out.split('.')[0]+'_top100.csv')"
   ]
  },
  {
   "cell_type": "markdown",
   "id": "07c3750c",
   "metadata": {},
   "source": [
    "# Qualifying"
   ]
  },
  {
   "cell_type": "code",
   "execution_count": 13,
   "id": "0806d4f7",
   "metadata": {},
   "outputs": [
    {
     "name": "stdout",
     "output_type": "stream",
     "text": [
      "../data/qualifying.txt\n",
      "../data/qualifying.csv\n"
     ]
    }
   ],
   "source": [
    "path = \"../data/\"\n",
    "filename1 = \"qualifying.txt\"\n",
    "filepath1 = path+filename1\n",
    "print(filepath1)\n",
    "filename_out = \"qualifying.csv\"\n",
    "filepath2 = path+filename_out\n",
    "print(filepath2)"
   ]
  },
  {
   "cell_type": "code",
   "execution_count": 14,
   "id": "35d5eb6f",
   "metadata": {},
   "outputs": [
    {
     "name": "stdout",
     "output_type": "stream",
     "text": [
      "Wall time: 7.47 s\n"
     ]
    }
   ],
   "source": [
    "%%time\n",
    "# Abre el archivo en modo lectura\n",
    "id_movie = 0\n",
    "\n",
    "with open(filepath1, \"r\") as input_file:\n",
    "    with open(filepath2, \"w\") as output_file:\n",
    "        for linea in input_file:\n",
    "            if linea.endswith(':\\n'):\n",
    "                id_movie = linea[:-2]\n",
    "            else:\n",
    "                output_file.write(f\"{id_movie},{linea}\")"
   ]
  },
  {
   "cell_type": "code",
   "execution_count": 15,
   "id": "14af0e32",
   "metadata": {},
   "outputs": [
    {
     "name": "stdout",
     "output_type": "stream",
     "text": [
      "Wall time: 2.65 s\n"
     ]
    },
    {
     "data": {
      "text/html": [
       "<div>\n",
       "<style scoped>\n",
       "    .dataframe tbody tr th:only-of-type {\n",
       "        vertical-align: middle;\n",
       "    }\n",
       "\n",
       "    .dataframe tbody tr th {\n",
       "        vertical-align: top;\n",
       "    }\n",
       "\n",
       "    .dataframe thead th {\n",
       "        text-align: right;\n",
       "    }\n",
       "</style>\n",
       "<table border=\"1\" class=\"dataframe\">\n",
       "  <thead>\n",
       "    <tr style=\"text-align: right;\">\n",
       "      <th></th>\n",
       "      <th>id_movie</th>\n",
       "      <th>id_cliente</th>\n",
       "      <th>rate_day</th>\n",
       "    </tr>\n",
       "  </thead>\n",
       "  <tbody>\n",
       "    <tr>\n",
       "      <th>0</th>\n",
       "      <td>1</td>\n",
       "      <td>1046323</td>\n",
       "      <td>2005-12-19</td>\n",
       "    </tr>\n",
       "    <tr>\n",
       "      <th>1</th>\n",
       "      <td>1</td>\n",
       "      <td>1080030</td>\n",
       "      <td>2005-12-23</td>\n",
       "    </tr>\n",
       "    <tr>\n",
       "      <th>2</th>\n",
       "      <td>1</td>\n",
       "      <td>1830096</td>\n",
       "      <td>2005-03-14</td>\n",
       "    </tr>\n",
       "    <tr>\n",
       "      <th>3</th>\n",
       "      <td>1</td>\n",
       "      <td>368059</td>\n",
       "      <td>2005-05-26</td>\n",
       "    </tr>\n",
       "    <tr>\n",
       "      <th>4</th>\n",
       "      <td>1</td>\n",
       "      <td>802003</td>\n",
       "      <td>2005-11-07</td>\n",
       "    </tr>\n",
       "  </tbody>\n",
       "</table>\n",
       "</div>"
      ],
      "text/plain": [
       "   id_movie  id_cliente   rate_day\n",
       "0         1     1046323 2005-12-19\n",
       "1         1     1080030 2005-12-23\n",
       "2         1     1830096 2005-03-14\n",
       "3         1      368059 2005-05-26\n",
       "4         1      802003 2005-11-07"
      ]
     },
     "execution_count": 15,
     "metadata": {},
     "output_type": "execute_result"
    }
   ],
   "source": [
    "%%time\n",
    "df = pd.read_csv(filepath2,header=None,names=['id_movie','id_client','rate_day'],parse_dates=[2])\n",
    "#df = pd.read_csv(filepath2,header=None,names=['id_client','id_movie','rate_day'])\n",
    "df.head()"
   ]
  },
  {
   "cell_type": "code",
   "execution_count": 16,
   "id": "2cc70419",
   "metadata": {},
   "outputs": [
    {
     "name": "stdout",
     "output_type": "stream",
     "text": [
      "<class 'pandas.core.frame.DataFrame'>\n",
      "RangeIndex: 2817131 entries, 0 to 2817130\n",
      "Data columns (total 3 columns):\n",
      " #   Column      Dtype         \n",
      "---  ------      -----         \n",
      " 0   id_movie    int64         \n",
      " 1   id_cliente  int64         \n",
      " 2   rate_day    datetime64[ns]\n",
      "dtypes: datetime64[ns](1), int64(2)\n",
      "memory usage: 64.5 MB\n"
     ]
    }
   ],
   "source": [
    "df.info()"
   ]
  },
  {
   "cell_type": "markdown",
   "id": "9bf07323",
   "metadata": {},
   "source": [
    "# Probe"
   ]
  },
  {
   "cell_type": "code",
   "execution_count": 17,
   "id": "92de97f7",
   "metadata": {},
   "outputs": [
    {
     "name": "stdout",
     "output_type": "stream",
     "text": [
      "../data/probe.txt\n",
      "../data/probe.csv\n"
     ]
    }
   ],
   "source": [
    "path = \"../data/\"\n",
    "filename1 = \"probe.txt\"\n",
    "filepath1 = path+filename1\n",
    "print(filepath1)\n",
    "filename_out = \"probe.csv\"\n",
    "filepath2 = path+filename_out\n",
    "print(filepath2)"
   ]
  },
  {
   "cell_type": "code",
   "execution_count": 18,
   "id": "4aa56123",
   "metadata": {},
   "outputs": [
    {
     "name": "stdout",
     "output_type": "stream",
     "text": [
      "Wall time: 3.65 s\n"
     ]
    }
   ],
   "source": [
    "%%time\n",
    "# Abre el archivo en modo lectura\n",
    "id_movie = 0\n",
    "\n",
    "with open(filepath1, \"r\") as input_file:\n",
    "    with open(filepath2, \"w\") as output_file:\n",
    "        for linea in input_file:\n",
    "            if linea.endswith(':\\n'):\n",
    "                id_movie = linea[:-2]\n",
    "            else:\n",
    "                output_file.write(f\"{id_movie},{linea}\")"
   ]
  },
  {
   "cell_type": "code",
   "execution_count": 19,
   "id": "ea503eeb",
   "metadata": {},
   "outputs": [
    {
     "name": "stdout",
     "output_type": "stream",
     "text": [
      "Wall time: 531 ms\n"
     ]
    },
    {
     "data": {
      "text/html": [
       "<div>\n",
       "<style scoped>\n",
       "    .dataframe tbody tr th:only-of-type {\n",
       "        vertical-align: middle;\n",
       "    }\n",
       "\n",
       "    .dataframe tbody tr th {\n",
       "        vertical-align: top;\n",
       "    }\n",
       "\n",
       "    .dataframe thead th {\n",
       "        text-align: right;\n",
       "    }\n",
       "</style>\n",
       "<table border=\"1\" class=\"dataframe\">\n",
       "  <thead>\n",
       "    <tr style=\"text-align: right;\">\n",
       "      <th></th>\n",
       "      <th>id_movie</th>\n",
       "      <th>id_cliente</th>\n",
       "    </tr>\n",
       "  </thead>\n",
       "  <tbody>\n",
       "    <tr>\n",
       "      <th>0</th>\n",
       "      <td>1</td>\n",
       "      <td>30878</td>\n",
       "    </tr>\n",
       "    <tr>\n",
       "      <th>1</th>\n",
       "      <td>1</td>\n",
       "      <td>2647871</td>\n",
       "    </tr>\n",
       "    <tr>\n",
       "      <th>2</th>\n",
       "      <td>1</td>\n",
       "      <td>1283744</td>\n",
       "    </tr>\n",
       "    <tr>\n",
       "      <th>3</th>\n",
       "      <td>1</td>\n",
       "      <td>2488120</td>\n",
       "    </tr>\n",
       "    <tr>\n",
       "      <th>4</th>\n",
       "      <td>1</td>\n",
       "      <td>317050</td>\n",
       "    </tr>\n",
       "  </tbody>\n",
       "</table>\n",
       "</div>"
      ],
      "text/plain": [
       "   id_movie  id_cliente\n",
       "0         1       30878\n",
       "1         1     2647871\n",
       "2         1     1283744\n",
       "3         1     2488120\n",
       "4         1      317050"
      ]
     },
     "execution_count": 19,
     "metadata": {},
     "output_type": "execute_result"
    }
   ],
   "source": [
    "%%time\n",
    "df = pd.read_csv(filepath2,header=None,names=['id_movie','id_cliente'])\n",
    "df.head()"
   ]
  },
  {
   "cell_type": "markdown",
   "id": "aa7d60f9",
   "metadata": {},
   "source": [
    "# Movie Titles"
   ]
  },
  {
   "cell_type": "code",
   "execution_count": 3,
   "id": "6579b3bd",
   "metadata": {},
   "outputs": [
    {
     "name": "stdout",
     "output_type": "stream",
     "text": [
      "Wall time: 117 ms\n"
     ]
    }
   ],
   "source": [
    "%%time\n",
    "\n",
    "# Queremos evitar que las peliculas que tienen comas en el titulo den problemas\n",
    "\n",
    "with open('../data/movie_titles.csv', \"w\") as output_file:\n",
    "    \n",
    "    with open('../data/movie_titles_orig.csv') as input_file:\n",
    "        \n",
    "        for linea in input_file:\n",
    "            \n",
    "            linea_splt = linea.split(',')\n",
    "            \n",
    "            nueva_linea = ';'.join([linea_splt[0],linea_splt[1],','.join(linea_splt[2:])])\n",
    "            \n",
    "            output_file.write(nueva_linea)\n",
    "            "
   ]
  },
  {
   "cell_type": "code",
   "execution_count": null,
   "id": "1fc82c41",
   "metadata": {},
   "outputs": [],
   "source": []
  }
 ],
 "metadata": {
  "kernelspec": {
   "display_name": "Python 3",
   "language": "python",
   "name": "python3"
  },
  "language_info": {
   "codemirror_mode": {
    "name": "ipython",
    "version": 3
   },
   "file_extension": ".py",
   "mimetype": "text/x-python",
   "name": "python",
   "nbconvert_exporter": "python",
   "pygments_lexer": "ipython3",
   "version": "3.8.8"
  }
 },
 "nbformat": 4,
 "nbformat_minor": 5
}
