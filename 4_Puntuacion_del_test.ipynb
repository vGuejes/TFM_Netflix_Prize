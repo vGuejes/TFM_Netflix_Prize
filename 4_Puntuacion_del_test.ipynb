{
 "cells": [
  {
   "cell_type": "code",
   "execution_count": 1,
   "id": "891b0009",
   "metadata": {},
   "outputs": [],
   "source": [
    "import numpy as np\n",
    "import pandas as pd\n",
    "import pandasql as psql\n",
    "import matplotlib.pyplot as plt\n",
    "import seaborn as sns\n",
    "from time import time\n",
    "\n",
    "from sklearn.metrics import mean_squared_error, mean_absolute_error\n",
    "\n",
    "import numpy as np\n",
    "from scipy.spatial.distance import cdist\n",
    "\n",
    "import gc\n",
    "\n",
    "seed=15"
   ]
  },
  {
   "cell_type": "markdown",
   "id": "bd5b6bba",
   "metadata": {},
   "source": [
    "# Lectura de los datos y embeddings"
   ]
  },
  {
   "cell_type": "code",
   "execution_count": 2,
   "id": "c0988c30",
   "metadata": {},
   "outputs": [
    {
     "name": "stdout",
     "output_type": "stream",
     "text": [
      "Wall time: 974 ms\n"
     ]
    },
    {
     "data": {
      "text/plain": [
       "(8556951, 3)"
      ]
     },
     "execution_count": 2,
     "metadata": {},
     "output_type": "execute_result"
    }
   ],
   "source": [
    "%%time\n",
    "df_train_orig = pd.read_parquet('../data/df_filt_train_100_100.zip')\n",
    "df_train_orig.shape"
   ]
  },
  {
   "cell_type": "code",
   "execution_count": 3,
   "id": "b5baf01d",
   "metadata": {},
   "outputs": [
    {
     "data": {
      "text/html": [
       "<div>\n",
       "<style scoped>\n",
       "    .dataframe tbody tr th:only-of-type {\n",
       "        vertical-align: middle;\n",
       "    }\n",
       "\n",
       "    .dataframe tbody tr th {\n",
       "        vertical-align: top;\n",
       "    }\n",
       "\n",
       "    .dataframe thead th {\n",
       "        text-align: right;\n",
       "    }\n",
       "</style>\n",
       "<table border=\"1\" class=\"dataframe\">\n",
       "  <thead>\n",
       "    <tr style=\"text-align: right;\">\n",
       "      <th></th>\n",
       "      <th>movie_id</th>\n",
       "      <th>user_id</th>\n",
       "      <th>rating</th>\n",
       "    </tr>\n",
       "  </thead>\n",
       "  <tbody>\n",
       "    <tr>\n",
       "      <th>10930635</th>\n",
       "      <td>2128</td>\n",
       "      <td>2000429</td>\n",
       "      <td>4</td>\n",
       "    </tr>\n",
       "    <tr>\n",
       "      <th>46725692</th>\n",
       "      <td>8387</td>\n",
       "      <td>382224</td>\n",
       "      <td>3</td>\n",
       "    </tr>\n",
       "    <tr>\n",
       "      <th>27446119</th>\n",
       "      <td>5075</td>\n",
       "      <td>1617455</td>\n",
       "      <td>4</td>\n",
       "    </tr>\n",
       "    <tr>\n",
       "      <th>80443653</th>\n",
       "      <td>14491</td>\n",
       "      <td>143113</td>\n",
       "      <td>3</td>\n",
       "    </tr>\n",
       "    <tr>\n",
       "      <th>85964770</th>\n",
       "      <td>15246</td>\n",
       "      <td>768876</td>\n",
       "      <td>5</td>\n",
       "    </tr>\n",
       "    <tr>\n",
       "      <th>80408073</th>\n",
       "      <td>14484</td>\n",
       "      <td>2261348</td>\n",
       "      <td>4</td>\n",
       "    </tr>\n",
       "    <tr>\n",
       "      <th>24386603</th>\n",
       "      <td>4577</td>\n",
       "      <td>2451473</td>\n",
       "      <td>3</td>\n",
       "    </tr>\n",
       "    <tr>\n",
       "      <th>88071659</th>\n",
       "      <td>15657</td>\n",
       "      <td>2364018</td>\n",
       "      <td>3</td>\n",
       "    </tr>\n",
       "    <tr>\n",
       "      <th>91429355</th>\n",
       "      <td>16265</td>\n",
       "      <td>2110908</td>\n",
       "      <td>5</td>\n",
       "    </tr>\n",
       "    <tr>\n",
       "      <th>11491757</th>\n",
       "      <td>2186</td>\n",
       "      <td>662478</td>\n",
       "      <td>3</td>\n",
       "    </tr>\n",
       "  </tbody>\n",
       "</table>\n",
       "</div>"
      ],
      "text/plain": [
       "          movie_id  user_id  rating\n",
       "10930635      2128  2000429       4\n",
       "46725692      8387   382224       3\n",
       "27446119      5075  1617455       4\n",
       "80443653     14491   143113       3\n",
       "85964770     15246   768876       5\n",
       "80408073     14484  2261348       4\n",
       "24386603      4577  2451473       3\n",
       "88071659     15657  2364018       3\n",
       "91429355     16265  2110908       5\n",
       "11491757      2186   662478       3"
      ]
     },
     "execution_count": 3,
     "metadata": {},
     "output_type": "execute_result"
    }
   ],
   "source": [
    "df_train_orig.head(10)"
   ]
  },
  {
   "cell_type": "code",
   "execution_count": 4,
   "id": "de2e1d9a",
   "metadata": {},
   "outputs": [
    {
     "name": "stdout",
     "output_type": "stream",
     "text": [
      "Wall time: 413 ms\n"
     ]
    },
    {
     "data": {
      "text/plain": [
       "(6417714, 3)"
      ]
     },
     "execution_count": 4,
     "metadata": {},
     "output_type": "execute_result"
    }
   ],
   "source": [
    "%%time\n",
    "df_val_orig = pd.read_parquet('../data/df_filt_val_100_100.zip')\n",
    "df_val_orig.shape"
   ]
  },
  {
   "cell_type": "code",
   "execution_count": 5,
   "id": "67f1501d",
   "metadata": {},
   "outputs": [
    {
     "data": {
      "text/html": [
       "<div>\n",
       "<style scoped>\n",
       "    .dataframe tbody tr th:only-of-type {\n",
       "        vertical-align: middle;\n",
       "    }\n",
       "\n",
       "    .dataframe tbody tr th {\n",
       "        vertical-align: top;\n",
       "    }\n",
       "\n",
       "    .dataframe thead th {\n",
       "        text-align: right;\n",
       "    }\n",
       "</style>\n",
       "<table border=\"1\" class=\"dataframe\">\n",
       "  <thead>\n",
       "    <tr style=\"text-align: right;\">\n",
       "      <th></th>\n",
       "      <th>movie_id</th>\n",
       "      <th>user_id</th>\n",
       "      <th>rating</th>\n",
       "    </tr>\n",
       "  </thead>\n",
       "  <tbody>\n",
       "    <tr>\n",
       "      <th>3884480</th>\n",
       "      <td>752</td>\n",
       "      <td>1551333</td>\n",
       "      <td>5</td>\n",
       "    </tr>\n",
       "    <tr>\n",
       "      <th>83843802</th>\n",
       "      <td>14961</td>\n",
       "      <td>2009898</td>\n",
       "      <td>4</td>\n",
       "    </tr>\n",
       "    <tr>\n",
       "      <th>24357576</th>\n",
       "      <td>4577</td>\n",
       "      <td>168479</td>\n",
       "      <td>5</td>\n",
       "    </tr>\n",
       "    <tr>\n",
       "      <th>49181371</th>\n",
       "      <td>8846</td>\n",
       "      <td>1908261</td>\n",
       "      <td>4</td>\n",
       "    </tr>\n",
       "    <tr>\n",
       "      <th>53710780</th>\n",
       "      <td>9757</td>\n",
       "      <td>659928</td>\n",
       "      <td>3</td>\n",
       "    </tr>\n",
       "    <tr>\n",
       "      <th>85028019</th>\n",
       "      <td>15116</td>\n",
       "      <td>2339843</td>\n",
       "      <td>4</td>\n",
       "    </tr>\n",
       "    <tr>\n",
       "      <th>10697378</th>\n",
       "      <td>2108</td>\n",
       "      <td>631598</td>\n",
       "      <td>5</td>\n",
       "    </tr>\n",
       "    <tr>\n",
       "      <th>49339509</th>\n",
       "      <td>8880</td>\n",
       "      <td>1712681</td>\n",
       "      <td>4</td>\n",
       "    </tr>\n",
       "    <tr>\n",
       "      <th>85932015</th>\n",
       "      <td>15234</td>\n",
       "      <td>756211</td>\n",
       "      <td>2</td>\n",
       "    </tr>\n",
       "    <tr>\n",
       "      <th>13763540</th>\n",
       "      <td>2617</td>\n",
       "      <td>2030407</td>\n",
       "      <td>3</td>\n",
       "    </tr>\n",
       "  </tbody>\n",
       "</table>\n",
       "</div>"
      ],
      "text/plain": [
       "          movie_id  user_id  rating\n",
       "3884480        752  1551333       5\n",
       "83843802     14961  2009898       4\n",
       "24357576      4577   168479       5\n",
       "49181371      8846  1908261       4\n",
       "53710780      9757   659928       3\n",
       "85028019     15116  2339843       4\n",
       "10697378      2108   631598       5\n",
       "49339509      8880  1712681       4\n",
       "85932015     15234   756211       2\n",
       "13763540      2617  2030407       3"
      ]
     },
     "execution_count": 5,
     "metadata": {},
     "output_type": "execute_result"
    }
   ],
   "source": [
    "df_val_orig.head(10)"
   ]
  },
  {
   "cell_type": "code",
   "execution_count": 6,
   "id": "a0d87f4c",
   "metadata": {},
   "outputs": [],
   "source": [
    "df_trainval_orig = pd.concat([df_train_orig,df_val_orig])"
   ]
  },
  {
   "cell_type": "code",
   "execution_count": 7,
   "id": "461ee6fc",
   "metadata": {},
   "outputs": [
    {
     "data": {
      "text/plain": [
       "(14974665, 3)"
      ]
     },
     "execution_count": 7,
     "metadata": {},
     "output_type": "execute_result"
    }
   ],
   "source": [
    "df_trainval_orig.shape"
   ]
  },
  {
   "cell_type": "code",
   "execution_count": 8,
   "id": "c62365f6",
   "metadata": {},
   "outputs": [
    {
     "name": "stdout",
     "output_type": "stream",
     "text": [
      "Wall time: 390 ms\n"
     ]
    },
    {
     "data": {
      "text/plain": [
       "(6417714, 3)"
      ]
     },
     "execution_count": 8,
     "metadata": {},
     "output_type": "execute_result"
    }
   ],
   "source": [
    "%%time\n",
    "df_test_orig = pd.read_parquet('../data/df_filt_test_100_100.zip')\n",
    "df_test_orig.shape"
   ]
  },
  {
   "cell_type": "code",
   "execution_count": 9,
   "id": "8ac3bd1a",
   "metadata": {},
   "outputs": [
    {
     "data": {
      "text/html": [
       "<div>\n",
       "<style scoped>\n",
       "    .dataframe tbody tr th:only-of-type {\n",
       "        vertical-align: middle;\n",
       "    }\n",
       "\n",
       "    .dataframe tbody tr th {\n",
       "        vertical-align: top;\n",
       "    }\n",
       "\n",
       "    .dataframe thead th {\n",
       "        text-align: right;\n",
       "    }\n",
       "</style>\n",
       "<table border=\"1\" class=\"dataframe\">\n",
       "  <thead>\n",
       "    <tr style=\"text-align: right;\">\n",
       "      <th></th>\n",
       "      <th>movie_id</th>\n",
       "      <th>user_id</th>\n",
       "      <th>rating</th>\n",
       "    </tr>\n",
       "  </thead>\n",
       "  <tbody>\n",
       "    <tr>\n",
       "      <th>32205464</th>\n",
       "      <td>5862</td>\n",
       "      <td>98185</td>\n",
       "      <td>5</td>\n",
       "    </tr>\n",
       "    <tr>\n",
       "      <th>92053487</th>\n",
       "      <td>16349</td>\n",
       "      <td>540005</td>\n",
       "      <td>3</td>\n",
       "    </tr>\n",
       "    <tr>\n",
       "      <th>49376257</th>\n",
       "      <td>8883</td>\n",
       "      <td>1967541</td>\n",
       "      <td>3</td>\n",
       "    </tr>\n",
       "    <tr>\n",
       "      <th>40067268</th>\n",
       "      <td>7067</td>\n",
       "      <td>439729</td>\n",
       "      <td>2</td>\n",
       "    </tr>\n",
       "    <tr>\n",
       "      <th>15903334</th>\n",
       "      <td>3098</td>\n",
       "      <td>1484284</td>\n",
       "      <td>3</td>\n",
       "    </tr>\n",
       "    <tr>\n",
       "      <th>65188281</th>\n",
       "      <td>11907</td>\n",
       "      <td>2304849</td>\n",
       "      <td>2</td>\n",
       "    </tr>\n",
       "    <tr>\n",
       "      <th>85978538</th>\n",
       "      <td>15257</td>\n",
       "      <td>1990901</td>\n",
       "      <td>4</td>\n",
       "    </tr>\n",
       "    <tr>\n",
       "      <th>91305866</th>\n",
       "      <td>16242</td>\n",
       "      <td>1562812</td>\n",
       "      <td>4</td>\n",
       "    </tr>\n",
       "    <tr>\n",
       "      <th>75978374</th>\n",
       "      <td>13748</td>\n",
       "      <td>1848739</td>\n",
       "      <td>3</td>\n",
       "    </tr>\n",
       "    <tr>\n",
       "      <th>94011219</th>\n",
       "      <td>16698</td>\n",
       "      <td>2630337</td>\n",
       "      <td>5</td>\n",
       "    </tr>\n",
       "  </tbody>\n",
       "</table>\n",
       "</div>"
      ],
      "text/plain": [
       "          movie_id  user_id  rating\n",
       "32205464      5862    98185       5\n",
       "92053487     16349   540005       3\n",
       "49376257      8883  1967541       3\n",
       "40067268      7067   439729       2\n",
       "15903334      3098  1484284       3\n",
       "65188281     11907  2304849       2\n",
       "85978538     15257  1990901       4\n",
       "91305866     16242  1562812       4\n",
       "75978374     13748  1848739       3\n",
       "94011219     16698  2630337       5"
      ]
     },
     "execution_count": 9,
     "metadata": {},
     "output_type": "execute_result"
    }
   ],
   "source": [
    "df_test_orig.head(10)"
   ]
  },
  {
   "cell_type": "markdown",
   "id": "f2874f1a",
   "metadata": {},
   "source": [
    "Leemos las traducciones de los IDs para los embeddings"
   ]
  },
  {
   "cell_type": "code",
   "execution_count": 10,
   "id": "1816e184",
   "metadata": {},
   "outputs": [
    {
     "data": {
      "text/html": [
       "<div>\n",
       "<style scoped>\n",
       "    .dataframe tbody tr th:only-of-type {\n",
       "        vertical-align: middle;\n",
       "    }\n",
       "\n",
       "    .dataframe tbody tr th {\n",
       "        vertical-align: top;\n",
       "    }\n",
       "\n",
       "    .dataframe thead th {\n",
       "        text-align: right;\n",
       "    }\n",
       "</style>\n",
       "<table border=\"1\" class=\"dataframe\">\n",
       "  <thead>\n",
       "    <tr style=\"text-align: right;\">\n",
       "      <th></th>\n",
       "      <th>movie_id</th>\n",
       "      <th>movie_id_orig</th>\n",
       "    </tr>\n",
       "  </thead>\n",
       "  <tbody>\n",
       "    <tr>\n",
       "      <th>0</th>\n",
       "      <td>3588</td>\n",
       "      <td>2128</td>\n",
       "    </tr>\n",
       "    <tr>\n",
       "      <th>1</th>\n",
       "      <td>6336</td>\n",
       "      <td>8387</td>\n",
       "    </tr>\n",
       "    <tr>\n",
       "      <th>2</th>\n",
       "      <td>4885</td>\n",
       "      <td>5075</td>\n",
       "    </tr>\n",
       "    <tr>\n",
       "      <th>3</th>\n",
       "      <td>1987</td>\n",
       "      <td>14491</td>\n",
       "    </tr>\n",
       "    <tr>\n",
       "      <th>4</th>\n",
       "      <td>2323</td>\n",
       "      <td>15246</td>\n",
       "    </tr>\n",
       "  </tbody>\n",
       "</table>\n",
       "</div>"
      ],
      "text/plain": [
       "   movie_id  movie_id_orig\n",
       "0      3588           2128\n",
       "1      6336           8387\n",
       "2      4885           5075\n",
       "3      1987          14491\n",
       "4      2323          15246"
      ]
     },
     "execution_count": 10,
     "metadata": {},
     "output_type": "execute_result"
    }
   ],
   "source": [
    "translate_movies = pd.read_csv('translate_movies_tts_100_100.csv')\n",
    "translate_movies.head()"
   ]
  },
  {
   "cell_type": "code",
   "execution_count": 11,
   "id": "7ce94939",
   "metadata": {},
   "outputs": [
    {
     "data": {
      "text/html": [
       "<div>\n",
       "<style scoped>\n",
       "    .dataframe tbody tr th:only-of-type {\n",
       "        vertical-align: middle;\n",
       "    }\n",
       "\n",
       "    .dataframe tbody tr th {\n",
       "        vertical-align: top;\n",
       "    }\n",
       "\n",
       "    .dataframe thead th {\n",
       "        text-align: right;\n",
       "    }\n",
       "</style>\n",
       "<table border=\"1\" class=\"dataframe\">\n",
       "  <thead>\n",
       "    <tr style=\"text-align: right;\">\n",
       "      <th></th>\n",
       "      <th>user_id</th>\n",
       "      <th>user_id_orig</th>\n",
       "    </tr>\n",
       "  </thead>\n",
       "  <tbody>\n",
       "    <tr>\n",
       "      <th>0</th>\n",
       "      <td>31206</td>\n",
       "      <td>2000429</td>\n",
       "    </tr>\n",
       "    <tr>\n",
       "      <th>1</th>\n",
       "      <td>55088</td>\n",
       "      <td>382224</td>\n",
       "    </tr>\n",
       "    <tr>\n",
       "      <th>2</th>\n",
       "      <td>19393</td>\n",
       "      <td>1617455</td>\n",
       "    </tr>\n",
       "    <tr>\n",
       "      <th>3</th>\n",
       "      <td>13510</td>\n",
       "      <td>143113</td>\n",
       "    </tr>\n",
       "    <tr>\n",
       "      <th>4</th>\n",
       "      <td>67063</td>\n",
       "      <td>768876</td>\n",
       "    </tr>\n",
       "  </tbody>\n",
       "</table>\n",
       "</div>"
      ],
      "text/plain": [
       "   user_id  user_id_orig\n",
       "0    31206       2000429\n",
       "1    55088        382224\n",
       "2    19393       1617455\n",
       "3    13510        143113\n",
       "4    67063        768876"
      ]
     },
     "execution_count": 11,
     "metadata": {},
     "output_type": "execute_result"
    }
   ],
   "source": [
    "translate_users = pd.read_csv('translate_users_tts_100_100.csv')\n",
    "translate_users.head()"
   ]
  },
  {
   "cell_type": "code",
   "execution_count": 12,
   "id": "b6f0c91a",
   "metadata": {},
   "outputs": [],
   "source": [
    "'''query_df_trainval_translate = \"\"\"\n",
    "SELECT b.movie_id\n",
    "    , c.user_id\n",
    "    , a.rating\n",
    "    , a.movie_id as movie_id_orig\n",
    "    , a.user_id as user_id_orig\n",
    "\n",
    "from df_trainval_orig as a\n",
    "\n",
    "left join translate_movies as b\n",
    "    on a.movie_id = b.movie_id_orig\n",
    "\n",
    "left join translate_users as c\n",
    "    on a.user_id = c.user_id_orig\n",
    "\n",
    "\"\"\"\n",
    "'''\n",
    "\n",
    "query_df_trainval_translate = \"\"\"\n",
    "SELECT b.movie_id\n",
    "    , c.user_id\n",
    "    , a.rating\n",
    "\n",
    "from df_trainval_orig as a\n",
    "\n",
    "left join translate_movies as b\n",
    "    on a.movie_id = b.movie_id_orig\n",
    "\n",
    "left join translate_users as c\n",
    "    on a.user_id = c.user_id_orig\n",
    "\n",
    "\"\"\""
   ]
  },
  {
   "cell_type": "code",
   "execution_count": 13,
   "id": "2f6c849c",
   "metadata": {},
   "outputs": [
    {
     "name": "stdout",
     "output_type": "stream",
     "text": [
      "Wall time: 4min 42s\n"
     ]
    },
    {
     "data": {
      "text/html": [
       "<div>\n",
       "<style scoped>\n",
       "    .dataframe tbody tr th:only-of-type {\n",
       "        vertical-align: middle;\n",
       "    }\n",
       "\n",
       "    .dataframe tbody tr th {\n",
       "        vertical-align: top;\n",
       "    }\n",
       "\n",
       "    .dataframe thead th {\n",
       "        text-align: right;\n",
       "    }\n",
       "</style>\n",
       "<table border=\"1\" class=\"dataframe\">\n",
       "  <thead>\n",
       "    <tr style=\"text-align: right;\">\n",
       "      <th></th>\n",
       "      <th>movie_id</th>\n",
       "      <th>user_id</th>\n",
       "      <th>rating</th>\n",
       "    </tr>\n",
       "  </thead>\n",
       "  <tbody>\n",
       "    <tr>\n",
       "      <th>0</th>\n",
       "      <td>3588</td>\n",
       "      <td>31206</td>\n",
       "      <td>4</td>\n",
       "    </tr>\n",
       "    <tr>\n",
       "      <th>1</th>\n",
       "      <td>6336</td>\n",
       "      <td>55088</td>\n",
       "      <td>3</td>\n",
       "    </tr>\n",
       "    <tr>\n",
       "      <th>2</th>\n",
       "      <td>4885</td>\n",
       "      <td>19393</td>\n",
       "      <td>4</td>\n",
       "    </tr>\n",
       "    <tr>\n",
       "      <th>3</th>\n",
       "      <td>1987</td>\n",
       "      <td>13510</td>\n",
       "      <td>3</td>\n",
       "    </tr>\n",
       "    <tr>\n",
       "      <th>4</th>\n",
       "      <td>2323</td>\n",
       "      <td>67063</td>\n",
       "      <td>5</td>\n",
       "    </tr>\n",
       "  </tbody>\n",
       "</table>\n",
       "</div>"
      ],
      "text/plain": [
       "   movie_id  user_id  rating\n",
       "0      3588    31206       4\n",
       "1      6336    55088       3\n",
       "2      4885    19393       4\n",
       "3      1987    13510       3\n",
       "4      2323    67063       5"
      ]
     },
     "execution_count": 13,
     "metadata": {},
     "output_type": "execute_result"
    }
   ],
   "source": [
    "%%time\n",
    "df_trainval = psql.sqldf(query_df_trainval_translate, locals())\n",
    "df_trainval.head()"
   ]
  },
  {
   "cell_type": "code",
   "execution_count": 14,
   "id": "04545e4c",
   "metadata": {},
   "outputs": [
    {
     "data": {
      "text/plain": [
       "(14974665, 3)"
      ]
     },
     "execution_count": 14,
     "metadata": {},
     "output_type": "execute_result"
    }
   ],
   "source": [
    "df_trainval.shape"
   ]
  },
  {
   "cell_type": "code",
   "execution_count": 15,
   "id": "de32dd90",
   "metadata": {},
   "outputs": [],
   "source": [
    "query_df_test_translate = \"\"\"\n",
    "SELECT b.movie_id\n",
    "    , c.user_id\n",
    "    , a.rating\n",
    "\n",
    "from df_test_orig as a\n",
    "\n",
    "left join translate_movies as b\n",
    "    on a.movie_id = b.movie_id_orig\n",
    "\n",
    "left join translate_users as c\n",
    "    on a.user_id = c.user_id_orig\n",
    "\n",
    "\"\"\""
   ]
  },
  {
   "cell_type": "code",
   "execution_count": 16,
   "id": "984d2c74",
   "metadata": {},
   "outputs": [
    {
     "name": "stdout",
     "output_type": "stream",
     "text": [
      "Wall time: 1min 24s\n"
     ]
    },
    {
     "data": {
      "text/html": [
       "<div>\n",
       "<style scoped>\n",
       "    .dataframe tbody tr th:only-of-type {\n",
       "        vertical-align: middle;\n",
       "    }\n",
       "\n",
       "    .dataframe tbody tr th {\n",
       "        vertical-align: top;\n",
       "    }\n",
       "\n",
       "    .dataframe thead th {\n",
       "        text-align: right;\n",
       "    }\n",
       "</style>\n",
       "<table border=\"1\" class=\"dataframe\">\n",
       "  <thead>\n",
       "    <tr style=\"text-align: right;\">\n",
       "      <th></th>\n",
       "      <th>movie_id</th>\n",
       "      <th>user_id</th>\n",
       "      <th>rating</th>\n",
       "    </tr>\n",
       "  </thead>\n",
       "  <tbody>\n",
       "    <tr>\n",
       "      <th>0</th>\n",
       "      <td>5206</td>\n",
       "      <td>73850</td>\n",
       "      <td>5</td>\n",
       "    </tr>\n",
       "    <tr>\n",
       "      <th>1</th>\n",
       "      <td>2816</td>\n",
       "      <td>60041</td>\n",
       "      <td>3</td>\n",
       "    </tr>\n",
       "    <tr>\n",
       "      <th>2</th>\n",
       "      <td>6568</td>\n",
       "      <td>30180</td>\n",
       "      <td>3</td>\n",
       "    </tr>\n",
       "    <tr>\n",
       "      <th>3</th>\n",
       "      <td>5744</td>\n",
       "      <td>56978</td>\n",
       "      <td>2</td>\n",
       "    </tr>\n",
       "    <tr>\n",
       "      <th>4</th>\n",
       "      <td>4013</td>\n",
       "      <td>15170</td>\n",
       "      <td>3</td>\n",
       "    </tr>\n",
       "  </tbody>\n",
       "</table>\n",
       "</div>"
      ],
      "text/plain": [
       "   movie_id  user_id  rating\n",
       "0      5206    73850       5\n",
       "1      2816    60041       3\n",
       "2      6568    30180       3\n",
       "3      5744    56978       2\n",
       "4      4013    15170       3"
      ]
     },
     "execution_count": 16,
     "metadata": {},
     "output_type": "execute_result"
    }
   ],
   "source": [
    "%%time\n",
    "df_test = psql.sqldf(query_df_test_translate, locals())\n",
    "df_test.head()"
   ]
  },
  {
   "cell_type": "code",
   "execution_count": 17,
   "id": "01b862a7",
   "metadata": {},
   "outputs": [
    {
     "name": "stdout",
     "output_type": "stream",
     "text": [
      "<class 'pandas.core.frame.DataFrame'>\n",
      "RangeIndex: 6417714 entries, 0 to 6417713\n",
      "Data columns (total 3 columns):\n",
      " #   Column    Dtype\n",
      "---  ------    -----\n",
      " 0   movie_id  int64\n",
      " 1   user_id   int64\n",
      " 2   rating    int64\n",
      "dtypes: int64(3)\n",
      "memory usage: 146.9 MB\n"
     ]
    }
   ],
   "source": [
    "df_test.info()"
   ]
  },
  {
   "cell_type": "code",
   "execution_count": 18,
   "id": "ec5d2e01",
   "metadata": {},
   "outputs": [
    {
     "data": {
      "text/plain": [
       "(6417714, 3)"
      ]
     },
     "execution_count": 18,
     "metadata": {},
     "output_type": "execute_result"
    }
   ],
   "source": [
    "df_test.shape"
   ]
  },
  {
   "cell_type": "code",
   "execution_count": 19,
   "id": "2bb90046",
   "metadata": {},
   "outputs": [
    {
     "name": "stdout",
     "output_type": "stream",
     "text": [
      "./embeddings/user_embeddings_dim10_20_10k.npy\n",
      "./embeddings/movie_embeddings_dim10_20_10k.npy\n"
     ]
    }
   ],
   "source": [
    "# cargamos los embeddings\n",
    "emb_dim = 10\n",
    "lr_str = 20\n",
    "niter_str = \"10k\"\n",
    "\n",
    "modelo = \"embeddings/\"\n",
    "tamanyo = f\"_dim{emb_dim}_{lr_str}_{niter_str}\"\n",
    "\n",
    "print(f'./{modelo}user_embeddings{tamanyo}.npy')\n",
    "print(f'./{modelo}movie_embeddings{tamanyo}.npy')\n",
    "\n",
    "user_embeddings = np.load(f'./{modelo}user_embeddings{tamanyo}.npy')\n",
    "movie_embeddings = np.load(f'./{modelo}movie_embeddings{tamanyo}.npy')"
   ]
  },
  {
   "cell_type": "markdown",
   "id": "7212fa08",
   "metadata": {},
   "source": [
    "# Funciones de predicción"
   ]
  },
  {
   "cell_type": "code",
   "execution_count": 20,
   "id": "f79b8664",
   "metadata": {},
   "outputs": [],
   "source": [
    "def predict_dot_product(user_id, movie_id, user_embeddings=user_embeddings, movie_embeddings=movie_embeddings):\n",
    "    return np.dot(user_embeddings[user_id],movie_embeddings[movie_id])"
   ]
  },
  {
   "cell_type": "code",
   "execution_count": 21,
   "id": "96db1500",
   "metadata": {},
   "outputs": [],
   "source": [
    "def create_index(df_input, var):\n",
    "    \"\"\"\n",
    "    Crea un diccionario que mapea cada user_id a los índices de las películas que ha visto.\n",
    "\n",
    "    Args:\n",
    "        df_input (pd.DataFrame): DataFrame con columnas ['user_id', 'movie_id', 'rating'].\n",
    "\n",
    "    Returns:\n",
    "        dict: Diccionario con user_id como clave y lista de índices como valor.\n",
    "    \"\"\"\n",
    "    indices = {}\n",
    "    for var_id, group in df_input.groupby(var):\n",
    "        indices[var_id] = group.index.tolist()\n",
    "    return indices\n"
   ]
  },
  {
   "cell_type": "code",
   "execution_count": 22,
   "id": "c7d057ee",
   "metadata": {},
   "outputs": [
    {
     "name": "stdout",
     "output_type": "stream",
     "text": [
      "Wall time: 8.09 s\n"
     ]
    }
   ],
   "source": [
    "%%time\n",
    "user_index = create_index(df_trainval,\"user_id\")\n",
    "movie_index = create_index(df_trainval,\"movie_id\")"
   ]
  },
  {
   "cell_type": "code",
   "execution_count": 27,
   "id": "04fdac69",
   "metadata": {},
   "outputs": [],
   "source": [
    "def predict_with_k_nearest_movies(target_movie_id, user_id, k=10, movie_embeddings=movie_embeddings, df_input=df_trainval, user_index=user_index):\n",
    "    \"\"\"\n",
    "    Predice la calificación de una película objetivo para un usuario dado basándose en las k-nearest películas calificadas por el usuario.\n",
    "\n",
    "    Args:\n",
    "        target_movie_id (int): ID de la película objetivo para la que queremos predecir la calificación.\n",
    "        user_id (int): ID del usuario para quien estamos prediciendo la calificación.\n",
    "        k (int): Valores para k (número de vecinos más cercanos) a usar para la predicción.\n",
    "        movie_embeddings (np.array): Array de embeddings de películas donde el índice corresponde a movie_id.\n",
    "        df_input (pd.DataFrame): DataFrame con columnas ['user_id', 'movie_id', 'rating'] con calificaciones de usuarios.\n",
    "        user_index (dict): Diccionario con user_id como clave y lista de índices de las películas que ha visto como valor.\n",
    "        \n",
    "    Returns:\n",
    "        pred: Calificacion predicha.\n",
    "    \"\"\"\n",
    "\n",
    "    # Filtrar las películas calificadas por el usuario (usando los índices en lugar de aplicar condiciones)\n",
    "    df_filt = df_input.iloc[user_index[user_id]][['movie_id', 'rating']]\n",
    "    movies_ids = df_filt['movie_id'].values\n",
    "\n",
    "    # Calcular las distancias entre la película objetivo y las películas calificadas por el usuario\n",
    "    distances = cdist(movie_embeddings[movies_ids], movie_embeddings[target_movie_id].reshape(1, -1)).flatten()\n",
    "    distances_argsort = np.argsort(distances)\n",
    "\n",
    "    # Precalcular las inversas de las distancias para los vecinos más cercanos\n",
    "    inverse_distances = 1 / distances[distances_argsort]\n",
    "\n",
    "    nearest_inverse_distances = inverse_distances[:k]\n",
    "    nearest_ratings = df_filt.iloc[distances_argsort[:k], 1].values\n",
    "\n",
    "    # Predicción ponderada por la inversa de las distancias\n",
    "    pred = np.dot(nearest_inverse_distances, nearest_ratings) / nearest_inverse_distances.sum()\n",
    "\n",
    "    return pred\n"
   ]
  },
  {
   "cell_type": "code",
   "execution_count": 28,
   "id": "b69d5606",
   "metadata": {},
   "outputs": [],
   "source": [
    "def predict_with_k_nearest_users(target_user_id, movie_id, k=10, user_embeddings=user_embeddings, df_input=df_trainval, movie_index=movie_index):\n",
    "    \"\"\"\n",
    "    Predice la calificación de una película objetivo para un usuario dado basándose en los k usuarios más cercanos\n",
    "    que han calificado la película.\n",
    "\n",
    "    Args:\n",
    "        target_user_id (int): ID del usuario objetivo para el cual queremos predecir la calificación.\n",
    "        movie_id (int): ID de la película para la cual estamos prediciendo la calificación.\n",
    "        ks (list of int): Lista de valores para k (número de vecinos más cercanos) a usar para la predicción.\n",
    "        user_embeddings (np.array): Array de embeddings de usuarios donde el índice corresponde a user_id.\n",
    "        df_input (pd.DataFrame): DataFrame que contiene las columnas ['user_id', 'movie_id', 'rating'] con calificaciones de usuarios.\n",
    "        movie_index (dict): Diccionario con movie_id como clave y lista de índices de los usuarios que han calificado esa película como valor.\n",
    "\n",
    "    Returns:\n",
    "        pred: Calificacion predicha.\n",
    "    \"\"\"\n",
    "\n",
    "    # Filtrar los usuarios que han calificado la película (usando los índices en lugar de aplicar condiciones)\n",
    "    df_filt = df_input.iloc[movie_index[movie_id]][['user_id', 'rating']]\n",
    "    users_ids = df_filt['user_id'].values\n",
    "\n",
    "    # Calcular las distancias entre el usuario objetivo y los usuarios que han calificado la película\n",
    "    distances = cdist(user_embeddings[users_ids], user_embeddings[target_user_id].reshape(1, -1)).flatten()\n",
    "    distances_argsort = np.argsort(distances)\n",
    "\n",
    "    # Precalcular las inversas de las distancias para los vecinos más cercanos\n",
    "    inverse_distances = 1 / distances[distances_argsort]\n",
    "\n",
    "    nearest_inverse_distances = inverse_distances[:k]\n",
    "    nearest_ratings = df_filt.iloc[distances_argsort[:k], 1].values\n",
    "\n",
    "    # Predicción ponderada por la inversa de las distancias\n",
    "    pred = np.dot(nearest_inverse_distances, nearest_ratings) / nearest_inverse_distances.sum()\n",
    "\n",
    "    return pred\n"
   ]
  },
  {
   "cell_type": "markdown",
   "id": "05e3ab61",
   "metadata": {},
   "source": [
    "# Puntuación del test"
   ]
  },
  {
   "cell_type": "code",
   "execution_count": 29,
   "id": "31978722",
   "metadata": {},
   "outputs": [
    {
     "name": "stdout",
     "output_type": "stream",
     "text": [
      "predict_with_k_nearest_movies: 137.3395547469457 mins\n",
      "\n",
      "predict_with_k_nearest_users:  755.3119462132454 mins\n",
      "\n",
      "df_predict_dot_product: 2.622064391771952 mins\n",
      "Wall time: 14h 55min 18s\n"
     ]
    },
    {
     "data": {
      "text/plain": [
       "0"
      ]
     },
     "execution_count": 29,
     "metadata": {},
     "output_type": "execute_result"
    }
   ],
   "source": [
    "%%time\n",
    "# CUIDADO QUE ESTE TARDA\n",
    "k_movie = 6\n",
    "k_users = 7\n",
    "\n",
    "gc.collect()\n",
    "\n",
    "t0 = time()\n",
    "df_test['prediction_movies'] = df_test.apply(lambda row: predict_with_k_nearest_movies(int(row['movie_id']), int(row['user_id']), k=k_movie), axis=1)\n",
    "t1 = time()\n",
    "print(f\"predict_with_k_nearest_movies: {(t1-t0)/60} mins\\n\")\n",
    "\n",
    "gc.collect()\n",
    "\n",
    "t0 = time()\n",
    "df_test['prediction_users']  = df_test.apply(lambda row: predict_with_k_nearest_users(int(row['user_id']), int(row['movie_id']), k=k_users), axis=1)\n",
    "t1 = time()\n",
    "print(f\"predict_with_k_nearest_users:  {(t1-t0)/60} mins\\n\")\n",
    "\n",
    "gc.collect()\n",
    "\n",
    "t0 = time()\n",
    "df_test['prediction_dot'] = df_test.apply(lambda row: predict_dot_product(int(row['user_id']), int(row['movie_id'])), axis=1)\n",
    "t1 = time()\n",
    "print(f\"df_predict_dot_product: {(t1-t0)/60} mins\")\n",
    "\n",
    "gc.collect()"
   ]
  },
  {
   "cell_type": "code",
   "execution_count": 31,
   "id": "46e122b7",
   "metadata": {},
   "outputs": [],
   "source": [
    "df_test.to_parquet('../data/df_filt_test_100_100_punt.zip',compression='gzip')"
   ]
  },
  {
   "cell_type": "code",
   "execution_count": 35,
   "id": "3eec9af8",
   "metadata": {},
   "outputs": [
    {
     "name": "stdout",
     "output_type": "stream",
     "text": [
      "PUNTO 2: TIEMPO 0.18988418579101562\n",
      "MAE movie: 0.741120166619776\n",
      "MAE users: 0.8369547226571441\n",
      "MAE dot:   0.7252175457289387\n",
      "\n",
      "PUNTO 3: TIEMPO 0.16689705848693848\n",
      "RMSE movie: 0.9573234999623015\n",
      "RMSE users: 1.0492692721790036\n",
      "RMSE dot:   0.926698879171664\n",
      "\n",
      "PUNTO 4: TIEMPO 0.07994842529296875\n",
      "ME movie: 0.009340945393179754\n",
      "ME users: -0.020291249176279447\n",
      "ME dot:   -0.0031215966588185786\n",
      "\n",
      "Wall time: 437 ms\n"
     ]
    }
   ],
   "source": [
    "%%time\n",
    "# Calculo de las metricas\n",
    "t0=time()\n",
    "\n",
    "metricas_movies1 = mean_absolute_error(y_true=df_test['rating'], y_pred=df_test[f'prediction_movies'])\n",
    "metricas_users1 = mean_absolute_error(y_true=df_test['rating'], y_pred=df_test[f'prediction_users'])\n",
    "metricas_dot1 = mean_absolute_error(y_true=df_test['rating'], y_pred=df_test['prediction_dot'])\n",
    "\n",
    "t1=time()\n",
    "print(f\"PUNTO 2: TIEMPO {t1-t0}\")\n",
    "print(f\"MAE movie: {metricas_movies1}\")\n",
    "print(f\"MAE users: {metricas_users1}\")\n",
    "print(f\"MAE dot:   {metricas_dot1}\")\n",
    "print()\n",
    "t0=time()\n",
    "\n",
    "metricas_movies2 = mean_squared_error(y_true=df_test['rating'], y_pred=df_test[f'prediction_movies'])**0.5\n",
    "metricas_users2 = mean_squared_error(y_true=df_test['rating'], y_pred=df_test[f'prediction_users'])**0.5\n",
    "metricas_dot2 = mean_squared_error(y_true=df_test['rating'], y_pred=df_test['prediction_dot'])**0.5\n",
    "\n",
    "t1=time()\n",
    "print(f\"PUNTO 3: TIEMPO {t1-t0}\")\n",
    "print(f\"RMSE movie: {metricas_movies2}\")\n",
    "print(f\"RMSE users: {metricas_users2}\")\n",
    "print(f\"RMSE dot:   {metricas_dot2}\")\n",
    "print()\n",
    "t0=time()\n",
    "\n",
    "metricas_movies3 = (df_test[f'prediction_movies'] - df_test['rating']).mean()\n",
    "metricas_users3 = (df_test[f'prediction_users'] - df_test['rating']).mean()\n",
    "metricas_dot3 = (df_test[f'prediction_dot'] - df_test['rating']).mean()\n",
    "\n",
    "t1=time()\n",
    "print(f\"PUNTO 4: TIEMPO {t1-t0}\")\n",
    "print(f\"ME movie: {metricas_movies3}\")\n",
    "print(f\"ME users: {metricas_users3}\")\n",
    "print(f\"ME dot:   {metricas_dot3}\")\n",
    "print()"
   ]
  },
  {
   "cell_type": "code",
   "execution_count": null,
   "id": "1bc5a7ff",
   "metadata": {},
   "outputs": [],
   "source": []
  },
  {
   "cell_type": "code",
   "execution_count": null,
   "id": "7e6a483c",
   "metadata": {},
   "outputs": [],
   "source": []
  },
  {
   "cell_type": "code",
   "execution_count": null,
   "id": "56c60c07",
   "metadata": {},
   "outputs": [],
   "source": []
  },
  {
   "cell_type": "code",
   "execution_count": null,
   "id": "38fde878",
   "metadata": {},
   "outputs": [],
   "source": []
  },
  {
   "cell_type": "code",
   "execution_count": null,
   "id": "c772d2e2",
   "metadata": {},
   "outputs": [],
   "source": []
  }
 ],
 "metadata": {
  "kernelspec": {
   "display_name": "Python 3",
   "language": "python",
   "name": "python3"
  },
  "language_info": {
   "codemirror_mode": {
    "name": "ipython",
    "version": 3
   },
   "file_extension": ".py",
   "mimetype": "text/x-python",
   "name": "python",
   "nbconvert_exporter": "python",
   "pygments_lexer": "ipython3",
   "version": "3.8.8"
  }
 },
 "nbformat": 4,
 "nbformat_minor": 5
}
