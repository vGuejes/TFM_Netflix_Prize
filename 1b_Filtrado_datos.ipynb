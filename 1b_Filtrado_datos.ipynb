{
 "cells": [
  {
   "cell_type": "code",
   "execution_count": 1,
   "id": "c697af1d",
   "metadata": {},
   "outputs": [],
   "source": [
    "import numpy as np\n",
    "import pandas as pd\n",
    "import matplotlib.pyplot as plt\n",
    "import seaborn as sns\n",
    "from time import time\n",
    "\n",
    "\n",
    "from sklearn.model_selection import train_test_split\n",
    "\n",
    "import gc\n",
    "\n",
    "seed=15"
   ]
  },
  {
   "cell_type": "code",
   "execution_count": 2,
   "id": "8936fe20",
   "metadata": {},
   "outputs": [
    {
     "name": "stdout",
     "output_type": "stream",
     "text": [
      "_i2: 312 bytes\n",
      "_i: 238 bytes\n",
      "_i1: 238 bytes\n",
      "_oh: 232 bytes\n",
      "Out: 232 bytes\n",
      "train_test_split: 136 bytes\n",
      "__doc__: 113 bytes\n",
      "_ih: 96 bytes\n",
      "In: 96 bytes\n",
      "__builtin__: 72 bytes\n",
      "__builtins__: 72 bytes\n",
      "np: 72 bytes\n",
      "pd: 72 bytes\n",
      "plt: 72 bytes\n",
      "sns: 72 bytes\n",
      "time: 72 bytes\n",
      "gc: 72 bytes\n",
      "sys: 72 bytes\n",
      "_dh: 64 bytes\n",
      "get_ipython: 64 bytes\n",
      "__name__: 57 bytes\n",
      "_: 51 bytes\n",
      "__: 51 bytes\n",
      "___: 51 bytes\n",
      "_ii: 51 bytes\n",
      "_iii: 51 bytes\n",
      "exit: 48 bytes\n",
      "quit: 48 bytes\n",
      "seed: 28 bytes\n",
      "__package__: 16 bytes\n",
      "__loader__: 16 bytes\n",
      "__spec__: 16 bytes\n"
     ]
    }
   ],
   "source": [
    "# aux\n",
    "import sys\n",
    "\n",
    "variable_sizes = {name: sys.getsizeof(obj) for name, obj in globals().items()}\n",
    "\n",
    "sorted_variable_sizes = sorted(variable_sizes.items(), key=lambda x: x[1], reverse=True)\n",
    "\n",
    "for name, size in sorted_variable_sizes:\n",
    "    print(f\"{name}: {size} bytes\")\n"
   ]
  },
  {
   "cell_type": "code",
   "execution_count": 3,
   "id": "ed885137",
   "metadata": {},
   "outputs": [],
   "source": [
    "#del df_client"
   ]
  },
  {
   "cell_type": "code",
   "execution_count": 4,
   "id": "6fec17e0",
   "metadata": {},
   "outputs": [
    {
     "data": {
      "text/plain": [
       "45"
      ]
     },
     "execution_count": 4,
     "metadata": {},
     "output_type": "execute_result"
    }
   ],
   "source": [
    "gc.collect()"
   ]
  },
  {
   "cell_type": "code",
   "execution_count": 5,
   "id": "a08e2dc9",
   "metadata": {},
   "outputs": [],
   "source": [
    "min_rates_movies = 100\n",
    "min_rates_users = 100"
   ]
  },
  {
   "cell_type": "markdown",
   "id": "16df1505",
   "metadata": {},
   "source": [
    "# Lectura de datos"
   ]
  },
  {
   "cell_type": "code",
   "execution_count": 6,
   "id": "fc2da3c8",
   "metadata": {},
   "outputs": [
    {
     "name": "stdout",
     "output_type": "stream",
     "text": [
      "Wall time: 43.6 s\n"
     ]
    }
   ],
   "source": [
    "%%time\n",
    "df1 = pd.read_parquet(\"../data/combined_data_con_id.gzip\")"
   ]
  },
  {
   "cell_type": "code",
   "execution_count": 7,
   "id": "07520aeb",
   "metadata": {},
   "outputs": [],
   "source": [
    "df1 = df1.rename(columns={\"id_client\": \"user_id\", \"id_movie\": \"movie_id\", 'rate':'rating','rate_day':'rate_day'})"
   ]
  },
  {
   "cell_type": "code",
   "execution_count": 8,
   "id": "953d45a9",
   "metadata": {},
   "outputs": [
    {
     "data": {
      "text/html": [
       "<div>\n",
       "<style scoped>\n",
       "    .dataframe tbody tr th:only-of-type {\n",
       "        vertical-align: middle;\n",
       "    }\n",
       "\n",
       "    .dataframe tbody tr th {\n",
       "        vertical-align: top;\n",
       "    }\n",
       "\n",
       "    .dataframe thead th {\n",
       "        text-align: right;\n",
       "    }\n",
       "</style>\n",
       "<table border=\"1\" class=\"dataframe\">\n",
       "  <thead>\n",
       "    <tr style=\"text-align: right;\">\n",
       "      <th></th>\n",
       "      <th>movie_id</th>\n",
       "      <th>user_id</th>\n",
       "      <th>rating</th>\n",
       "      <th>rate_day</th>\n",
       "    </tr>\n",
       "  </thead>\n",
       "  <tbody>\n",
       "    <tr>\n",
       "      <th>0</th>\n",
       "      <td>1</td>\n",
       "      <td>822109</td>\n",
       "      <td>5</td>\n",
       "      <td>2005-05-13</td>\n",
       "    </tr>\n",
       "    <tr>\n",
       "      <th>1</th>\n",
       "      <td>1</td>\n",
       "      <td>885013</td>\n",
       "      <td>4</td>\n",
       "      <td>2005-10-19</td>\n",
       "    </tr>\n",
       "    <tr>\n",
       "      <th>2</th>\n",
       "      <td>1</td>\n",
       "      <td>30878</td>\n",
       "      <td>4</td>\n",
       "      <td>2005-12-26</td>\n",
       "    </tr>\n",
       "    <tr>\n",
       "      <th>3</th>\n",
       "      <td>1</td>\n",
       "      <td>823519</td>\n",
       "      <td>3</td>\n",
       "      <td>2004-05-03</td>\n",
       "    </tr>\n",
       "    <tr>\n",
       "      <th>4</th>\n",
       "      <td>1</td>\n",
       "      <td>893988</td>\n",
       "      <td>3</td>\n",
       "      <td>2005-11-17</td>\n",
       "    </tr>\n",
       "  </tbody>\n",
       "</table>\n",
       "</div>"
      ],
      "text/plain": [
       "   movie_id  user_id  rating    rate_day\n",
       "0         1   822109       5  2005-05-13\n",
       "1         1   885013       4  2005-10-19\n",
       "2         1    30878       4  2005-12-26\n",
       "3         1   823519       3  2004-05-03\n",
       "4         1   893988       3  2005-11-17"
      ]
     },
     "execution_count": 8,
     "metadata": {},
     "output_type": "execute_result"
    }
   ],
   "source": [
    "df1.head()"
   ]
  },
  {
   "cell_type": "code",
   "execution_count": 9,
   "id": "1f45f507",
   "metadata": {},
   "outputs": [
    {
     "name": "stdout",
     "output_type": "stream",
     "text": [
      "Wall time: 3.87 s\n"
     ]
    },
    {
     "data": {
      "text/plain": [
       "movie_id\n",
       "1     546\n",
       "2     145\n",
       "3    2012\n",
       "4     142\n",
       "5    1140\n",
       "Name: user_id, dtype: int64"
      ]
     },
     "execution_count": 9,
     "metadata": {},
     "output_type": "execute_result"
    }
   ],
   "source": [
    "%%time\n",
    "df_movie = df1.groupby('movie_id')['user_id'].count()\n",
    "df_movie.head()"
   ]
  },
  {
   "cell_type": "code",
   "execution_count": 10,
   "id": "f03a066c",
   "metadata": {},
   "outputs": [
    {
     "data": {
      "text/plain": [
       "(17770,)"
      ]
     },
     "execution_count": 10,
     "metadata": {},
     "output_type": "execute_result"
    }
   ],
   "source": [
    "df_movie.shape"
   ]
  },
  {
   "cell_type": "code",
   "execution_count": 11,
   "id": "e401f58a",
   "metadata": {},
   "outputs": [
    {
     "name": "stdout",
     "output_type": "stream",
     "text": [
      "1:\t17770\t100.00%\n",
      "10:\t17768\t99.99%\n",
      "100:\t16795\t94.51%\n",
      "1000:\t7127\t40.11%\n",
      "10000:\t2042\t11.49%\n"
     ]
    }
   ],
   "source": [
    "for i in range(5):\n",
    "    df_shape = df_movie[df_movie>=10**i].shape[0]\n",
    "    print(f\"{10**i}:\\t{df_shape}\\t{df_shape/df_movie.shape[0]:.2%}\")"
   ]
  },
  {
   "cell_type": "code",
   "execution_count": 12,
   "id": "171e4f21",
   "metadata": {},
   "outputs": [
    {
     "data": {
      "text/plain": [
       "user_id\n",
       "6     626\n",
       "7     881\n",
       "8      98\n",
       "10    260\n",
       "25     27\n",
       "Name: movie_id, dtype: int64"
      ]
     },
     "execution_count": 12,
     "metadata": {},
     "output_type": "execute_result"
    }
   ],
   "source": [
    "df_client = df1.groupby('user_id')['movie_id'].count()\n",
    "df_client.head()"
   ]
  },
  {
   "cell_type": "code",
   "execution_count": 13,
   "id": "dce4f713",
   "metadata": {},
   "outputs": [
    {
     "data": {
      "text/plain": [
       "(480189,)"
      ]
     },
     "execution_count": 13,
     "metadata": {},
     "output_type": "execute_result"
    }
   ],
   "source": [
    "df_client.shape"
   ]
  },
  {
   "cell_type": "code",
   "execution_count": 14,
   "id": "878c365b",
   "metadata": {},
   "outputs": [
    {
     "name": "stdout",
     "output_type": "stream",
     "text": [
      "  0 (     1): 480189 (100.00%)\n",
      "  1 (    10): 463770 (96.58%)\n",
      "  2 (   100): 236117 (49.17%)\n",
      "  3 (  1000):  13141 ( 2.74%)\n",
      "  4 ( 10000):      5 ( 0.00%)\n",
      "  5 (100000):      0 ( 0.00%)\n"
     ]
    }
   ],
   "source": [
    "result = 1\n",
    "b=10\n",
    "i=0\n",
    "while result > 0 and i<100:\n",
    "    result = df_client[df_client>=b**i].shape[0]\n",
    "    print(f\"{i:3d} ({b**i:6d}): {result:6d} ({result/df_client.shape[0]:6.2%})\")\n",
    "    i+=1"
   ]
  },
  {
   "cell_type": "code",
   "execution_count": 15,
   "id": "fb7917a0",
   "metadata": {
    "collapsed": true
   },
   "outputs": [
    {
     "name": "stdout",
     "output_type": "stream",
     "text": [
      "Iteration movie count      1, user count      1: Time elapsed 0.6688070654869079 mins\n",
      "Iteration movie count      1, user count     10: Time elapsed 1.7078291376431782 mins\n",
      "Iteration movie count      1, user count    100: Time elapsed 2.6601440350214642 mins\n",
      "Iteration movie count      1, user count   1000: Time elapsed 3.011207624276479 mins\n",
      "Iteration movie count     10, user count      1: Time elapsed 3.6728853742281595 mins\n",
      "Iteration movie count     10, user count     10: Time elapsed 4.666668200492859 mins\n",
      "Iteration movie count     10, user count    100: Time elapsed 5.502982389926911 mins\n",
      "Iteration movie count     10, user count   1000: Time elapsed 5.851259895165762 mins\n",
      "Iteration movie count    100, user count      1: Time elapsed 6.360357729593913 mins\n"
     ]
    },
    {
     "ename": "KeyboardInterrupt",
     "evalue": "",
     "output_type": "error",
     "traceback": [
      "\u001b[1;31m---------------------------------------------------------------------------\u001b[0m",
      "\u001b[1;31mKeyboardInterrupt\u001b[0m                         Traceback (most recent call last)",
      "\u001b[1;32m<timed exec>\u001b[0m in \u001b[0;36m<module>\u001b[1;34m\u001b[0m\n",
      "\u001b[1;32m~\\anaconda3\\lib\\site-packages\\pandas\\core\\frame.py\u001b[0m in \u001b[0;36m__getitem__\u001b[1;34m(self, key)\u001b[0m\n\u001b[0;32m   3013\u001b[0m         \u001b[1;31m# Do we have a (boolean) 1d indexer?\u001b[0m\u001b[1;33m\u001b[0m\u001b[1;33m\u001b[0m\u001b[1;33m\u001b[0m\u001b[0m\n\u001b[0;32m   3014\u001b[0m         \u001b[1;32mif\u001b[0m \u001b[0mcom\u001b[0m\u001b[1;33m.\u001b[0m\u001b[0mis_bool_indexer\u001b[0m\u001b[1;33m(\u001b[0m\u001b[0mkey\u001b[0m\u001b[1;33m)\u001b[0m\u001b[1;33m:\u001b[0m\u001b[1;33m\u001b[0m\u001b[1;33m\u001b[0m\u001b[0m\n\u001b[1;32m-> 3015\u001b[1;33m             \u001b[1;32mreturn\u001b[0m \u001b[0mself\u001b[0m\u001b[1;33m.\u001b[0m\u001b[0m_getitem_bool_array\u001b[0m\u001b[1;33m(\u001b[0m\u001b[0mkey\u001b[0m\u001b[1;33m)\u001b[0m\u001b[1;33m\u001b[0m\u001b[1;33m\u001b[0m\u001b[0m\n\u001b[0m\u001b[0;32m   3016\u001b[0m \u001b[1;33m\u001b[0m\u001b[0m\n\u001b[0;32m   3017\u001b[0m         \u001b[1;31m# We are left with two options: a single key, and a collection of keys,\u001b[0m\u001b[1;33m\u001b[0m\u001b[1;33m\u001b[0m\u001b[1;33m\u001b[0m\u001b[0m\n",
      "\u001b[1;32m~\\anaconda3\\lib\\site-packages\\pandas\\core\\frame.py\u001b[0m in \u001b[0;36m_getitem_bool_array\u001b[1;34m(self, key)\u001b[0m\n\u001b[0;32m   3068\u001b[0m         \u001b[0mkey\u001b[0m \u001b[1;33m=\u001b[0m \u001b[0mcheck_bool_indexer\u001b[0m\u001b[1;33m(\u001b[0m\u001b[0mself\u001b[0m\u001b[1;33m.\u001b[0m\u001b[0mindex\u001b[0m\u001b[1;33m,\u001b[0m \u001b[0mkey\u001b[0m\u001b[1;33m)\u001b[0m\u001b[1;33m\u001b[0m\u001b[1;33m\u001b[0m\u001b[0m\n\u001b[0;32m   3069\u001b[0m         \u001b[0mindexer\u001b[0m \u001b[1;33m=\u001b[0m \u001b[0mkey\u001b[0m\u001b[1;33m.\u001b[0m\u001b[0mnonzero\u001b[0m\u001b[1;33m(\u001b[0m\u001b[1;33m)\u001b[0m\u001b[1;33m[\u001b[0m\u001b[1;36m0\u001b[0m\u001b[1;33m]\u001b[0m\u001b[1;33m\u001b[0m\u001b[1;33m\u001b[0m\u001b[0m\n\u001b[1;32m-> 3070\u001b[1;33m         \u001b[1;32mreturn\u001b[0m \u001b[0mself\u001b[0m\u001b[1;33m.\u001b[0m\u001b[0m_take_with_is_copy\u001b[0m\u001b[1;33m(\u001b[0m\u001b[0mindexer\u001b[0m\u001b[1;33m,\u001b[0m \u001b[0maxis\u001b[0m\u001b[1;33m=\u001b[0m\u001b[1;36m0\u001b[0m\u001b[1;33m)\u001b[0m\u001b[1;33m\u001b[0m\u001b[1;33m\u001b[0m\u001b[0m\n\u001b[0m\u001b[0;32m   3071\u001b[0m \u001b[1;33m\u001b[0m\u001b[0m\n\u001b[0;32m   3072\u001b[0m     \u001b[1;32mdef\u001b[0m \u001b[0m_getitem_multilevel\u001b[0m\u001b[1;33m(\u001b[0m\u001b[0mself\u001b[0m\u001b[1;33m,\u001b[0m \u001b[0mkey\u001b[0m\u001b[1;33m)\u001b[0m\u001b[1;33m:\u001b[0m\u001b[1;33m\u001b[0m\u001b[1;33m\u001b[0m\u001b[0m\n",
      "\u001b[1;32m~\\anaconda3\\lib\\site-packages\\pandas\\core\\generic.py\u001b[0m in \u001b[0;36m_take_with_is_copy\u001b[1;34m(self, indices, axis)\u001b[0m\n\u001b[0;32m   3598\u001b[0m         \u001b[0mSee\u001b[0m \u001b[0mthe\u001b[0m \u001b[0mdocstring\u001b[0m \u001b[0mof\u001b[0m\u001b[0;31m \u001b[0m\u001b[0;31m`\u001b[0m\u001b[0mtake\u001b[0m\u001b[0;31m`\u001b[0m \u001b[1;32mfor\u001b[0m \u001b[0mfull\u001b[0m \u001b[0mexplanation\u001b[0m \u001b[0mof\u001b[0m \u001b[0mthe\u001b[0m \u001b[0mparameters\u001b[0m\u001b[1;33m.\u001b[0m\u001b[1;33m\u001b[0m\u001b[1;33m\u001b[0m\u001b[0m\n\u001b[0;32m   3599\u001b[0m         \"\"\"\n\u001b[1;32m-> 3600\u001b[1;33m         \u001b[0mresult\u001b[0m \u001b[1;33m=\u001b[0m \u001b[0mself\u001b[0m\u001b[1;33m.\u001b[0m\u001b[0mtake\u001b[0m\u001b[1;33m(\u001b[0m\u001b[0mindices\u001b[0m\u001b[1;33m=\u001b[0m\u001b[0mindices\u001b[0m\u001b[1;33m,\u001b[0m \u001b[0maxis\u001b[0m\u001b[1;33m=\u001b[0m\u001b[0maxis\u001b[0m\u001b[1;33m)\u001b[0m\u001b[1;33m\u001b[0m\u001b[1;33m\u001b[0m\u001b[0m\n\u001b[0m\u001b[0;32m   3601\u001b[0m         \u001b[1;31m# Maybe set copy if we didn't actually change the index.\u001b[0m\u001b[1;33m\u001b[0m\u001b[1;33m\u001b[0m\u001b[1;33m\u001b[0m\u001b[0m\n\u001b[0;32m   3602\u001b[0m         \u001b[1;32mif\u001b[0m \u001b[1;32mnot\u001b[0m \u001b[0mresult\u001b[0m\u001b[1;33m.\u001b[0m\u001b[0m_get_axis\u001b[0m\u001b[1;33m(\u001b[0m\u001b[0maxis\u001b[0m\u001b[1;33m)\u001b[0m\u001b[1;33m.\u001b[0m\u001b[0mequals\u001b[0m\u001b[1;33m(\u001b[0m\u001b[0mself\u001b[0m\u001b[1;33m.\u001b[0m\u001b[0m_get_axis\u001b[0m\u001b[1;33m(\u001b[0m\u001b[0maxis\u001b[0m\u001b[1;33m)\u001b[0m\u001b[1;33m)\u001b[0m\u001b[1;33m:\u001b[0m\u001b[1;33m\u001b[0m\u001b[1;33m\u001b[0m\u001b[0m\n",
      "\u001b[1;32m~\\anaconda3\\lib\\site-packages\\pandas\\core\\generic.py\u001b[0m in \u001b[0;36mtake\u001b[1;34m(self, indices, axis, is_copy, **kwargs)\u001b[0m\n\u001b[0;32m   3584\u001b[0m         \u001b[0mself\u001b[0m\u001b[1;33m.\u001b[0m\u001b[0m_consolidate_inplace\u001b[0m\u001b[1;33m(\u001b[0m\u001b[1;33m)\u001b[0m\u001b[1;33m\u001b[0m\u001b[1;33m\u001b[0m\u001b[0m\n\u001b[0;32m   3585\u001b[0m \u001b[1;33m\u001b[0m\u001b[0m\n\u001b[1;32m-> 3586\u001b[1;33m         new_data = self._mgr.take(\n\u001b[0m\u001b[0;32m   3587\u001b[0m             \u001b[0mindices\u001b[0m\u001b[1;33m,\u001b[0m \u001b[0maxis\u001b[0m\u001b[1;33m=\u001b[0m\u001b[0mself\u001b[0m\u001b[1;33m.\u001b[0m\u001b[0m_get_block_manager_axis\u001b[0m\u001b[1;33m(\u001b[0m\u001b[0maxis\u001b[0m\u001b[1;33m)\u001b[0m\u001b[1;33m,\u001b[0m \u001b[0mverify\u001b[0m\u001b[1;33m=\u001b[0m\u001b[1;32mTrue\u001b[0m\u001b[1;33m\u001b[0m\u001b[1;33m\u001b[0m\u001b[0m\n\u001b[0;32m   3588\u001b[0m         )\n",
      "\u001b[1;32m~\\anaconda3\\lib\\site-packages\\pandas\\core\\internals\\managers.py\u001b[0m in \u001b[0;36mtake\u001b[1;34m(self, indexer, axis, verify, convert)\u001b[0m\n\u001b[0;32m   1472\u001b[0m \u001b[1;33m\u001b[0m\u001b[0m\n\u001b[0;32m   1473\u001b[0m         \u001b[0mnew_labels\u001b[0m \u001b[1;33m=\u001b[0m \u001b[0mself\u001b[0m\u001b[1;33m.\u001b[0m\u001b[0maxes\u001b[0m\u001b[1;33m[\u001b[0m\u001b[0maxis\u001b[0m\u001b[1;33m]\u001b[0m\u001b[1;33m.\u001b[0m\u001b[0mtake\u001b[0m\u001b[1;33m(\u001b[0m\u001b[0mindexer\u001b[0m\u001b[1;33m)\u001b[0m\u001b[1;33m\u001b[0m\u001b[1;33m\u001b[0m\u001b[0m\n\u001b[1;32m-> 1474\u001b[1;33m         return self.reindex_indexer(\n\u001b[0m\u001b[0;32m   1475\u001b[0m             \u001b[0mnew_axis\u001b[0m\u001b[1;33m=\u001b[0m\u001b[0mnew_labels\u001b[0m\u001b[1;33m,\u001b[0m \u001b[0mindexer\u001b[0m\u001b[1;33m=\u001b[0m\u001b[0mindexer\u001b[0m\u001b[1;33m,\u001b[0m \u001b[0maxis\u001b[0m\u001b[1;33m=\u001b[0m\u001b[0maxis\u001b[0m\u001b[1;33m,\u001b[0m \u001b[0mallow_dups\u001b[0m\u001b[1;33m=\u001b[0m\u001b[1;32mTrue\u001b[0m\u001b[1;33m\u001b[0m\u001b[1;33m\u001b[0m\u001b[0m\n\u001b[0;32m   1476\u001b[0m         )\n",
      "\u001b[1;32m~\\anaconda3\\lib\\site-packages\\pandas\\core\\internals\\managers.py\u001b[0m in \u001b[0;36mreindex_indexer\u001b[1;34m(self, new_axis, indexer, axis, fill_value, allow_dups, copy, consolidate, only_slice)\u001b[0m\n\u001b[0;32m   1309\u001b[0m             )\n\u001b[0;32m   1310\u001b[0m         \u001b[1;32melse\u001b[0m\u001b[1;33m:\u001b[0m\u001b[1;33m\u001b[0m\u001b[1;33m\u001b[0m\u001b[0m\n\u001b[1;32m-> 1311\u001b[1;33m             new_blocks = [\n\u001b[0m\u001b[0;32m   1312\u001b[0m                 blk.take_nd(\n\u001b[0;32m   1313\u001b[0m                     \u001b[0mindexer\u001b[0m\u001b[1;33m,\u001b[0m\u001b[1;33m\u001b[0m\u001b[1;33m\u001b[0m\u001b[0m\n",
      "\u001b[1;32m~\\anaconda3\\lib\\site-packages\\pandas\\core\\internals\\managers.py\u001b[0m in \u001b[0;36m<listcomp>\u001b[1;34m(.0)\u001b[0m\n\u001b[0;32m   1310\u001b[0m         \u001b[1;32melse\u001b[0m\u001b[1;33m:\u001b[0m\u001b[1;33m\u001b[0m\u001b[1;33m\u001b[0m\u001b[0m\n\u001b[0;32m   1311\u001b[0m             new_blocks = [\n\u001b[1;32m-> 1312\u001b[1;33m                 blk.take_nd(\n\u001b[0m\u001b[0;32m   1313\u001b[0m                     \u001b[0mindexer\u001b[0m\u001b[1;33m,\u001b[0m\u001b[1;33m\u001b[0m\u001b[1;33m\u001b[0m\u001b[0m\n\u001b[0;32m   1314\u001b[0m                     \u001b[0maxis\u001b[0m\u001b[1;33m=\u001b[0m\u001b[0maxis\u001b[0m\u001b[1;33m,\u001b[0m\u001b[1;33m\u001b[0m\u001b[1;33m\u001b[0m\u001b[0m\n",
      "\u001b[1;32m~\\anaconda3\\lib\\site-packages\\pandas\\core\\internals\\blocks.py\u001b[0m in \u001b[0;36mtake_nd\u001b[1;34m(self, indexer, axis, new_mgr_locs, fill_value)\u001b[0m\n\u001b[0;32m   1393\u001b[0m             \u001b[0mallow_fill\u001b[0m \u001b[1;33m=\u001b[0m \u001b[1;32mTrue\u001b[0m\u001b[1;33m\u001b[0m\u001b[1;33m\u001b[0m\u001b[0m\n\u001b[0;32m   1394\u001b[0m \u001b[1;33m\u001b[0m\u001b[0m\n\u001b[1;32m-> 1395\u001b[1;33m         new_values = algos.take_nd(\n\u001b[0m\u001b[0;32m   1396\u001b[0m             \u001b[0mvalues\u001b[0m\u001b[1;33m,\u001b[0m \u001b[0mindexer\u001b[0m\u001b[1;33m,\u001b[0m \u001b[0maxis\u001b[0m\u001b[1;33m=\u001b[0m\u001b[0maxis\u001b[0m\u001b[1;33m,\u001b[0m \u001b[0mallow_fill\u001b[0m\u001b[1;33m=\u001b[0m\u001b[0mallow_fill\u001b[0m\u001b[1;33m,\u001b[0m \u001b[0mfill_value\u001b[0m\u001b[1;33m=\u001b[0m\u001b[0mfill_value\u001b[0m\u001b[1;33m\u001b[0m\u001b[1;33m\u001b[0m\u001b[0m\n\u001b[0;32m   1397\u001b[0m         )\n",
      "\u001b[1;32m~\\anaconda3\\lib\\site-packages\\pandas\\core\\algorithms.py\u001b[0m in \u001b[0;36mtake_nd\u001b[1;34m(arr, indexer, axis, out, fill_value, allow_fill)\u001b[0m\n\u001b[0;32m   1735\u001b[0m     \u001b[1;32mif\u001b[0m \u001b[0mflip_order\u001b[0m\u001b[1;33m:\u001b[0m\u001b[1;33m\u001b[0m\u001b[1;33m\u001b[0m\u001b[0m\n\u001b[0;32m   1736\u001b[0m         \u001b[0marr\u001b[0m \u001b[1;33m=\u001b[0m \u001b[0marr\u001b[0m\u001b[1;33m.\u001b[0m\u001b[0mT\u001b[0m\u001b[1;33m\u001b[0m\u001b[1;33m\u001b[0m\u001b[0m\n\u001b[1;32m-> 1737\u001b[1;33m         \u001b[0maxis\u001b[0m \u001b[1;33m=\u001b[0m \u001b[0marr\u001b[0m\u001b[1;33m.\u001b[0m\u001b[0mndim\u001b[0m \u001b[1;33m-\u001b[0m \u001b[0maxis\u001b[0m \u001b[1;33m-\u001b[0m \u001b[1;36m1\u001b[0m\u001b[1;33m\u001b[0m\u001b[1;33m\u001b[0m\u001b[0m\n\u001b[0m\u001b[0;32m   1738\u001b[0m         \u001b[1;32mif\u001b[0m \u001b[0mout\u001b[0m \u001b[1;32mis\u001b[0m \u001b[1;32mnot\u001b[0m \u001b[1;32mNone\u001b[0m\u001b[1;33m:\u001b[0m\u001b[1;33m\u001b[0m\u001b[1;33m\u001b[0m\u001b[0m\n\u001b[0;32m   1739\u001b[0m             \u001b[0mout\u001b[0m \u001b[1;33m=\u001b[0m \u001b[0mout\u001b[0m\u001b[1;33m.\u001b[0m\u001b[0mT\u001b[0m\u001b[1;33m\u001b[0m\u001b[1;33m\u001b[0m\u001b[0m\n",
      "\u001b[1;31mKeyboardInterrupt\u001b[0m: "
     ]
    }
   ],
   "source": [
    "%%time\n",
    "\n",
    "exp_mv = 4\n",
    "exp_us = 3\n",
    "\n",
    "# Inicializar las potencias de 10\n",
    "movie_range = [10**i for i in range(0, exp_mv+1)]  # Desde 10 hasta 10,000\n",
    "user_range = [10**j for j in range(0, exp_us+1)]   # Desde 10 hasta 10,000\n",
    "\n",
    "\n",
    "# Inicializar una lista para almacenar los resultados\n",
    "mv_count, min_mv_count, usr_count, min_usr_count, shape_count, filtered_dfs = [],[],[],[],[],[]\n",
    "mv_pct, usr_pct = [],[]\n",
    "t0=time()\n",
    "# Filtrar df1 por conteos de películas y usuarios\n",
    "for movie_count in movie_range:\n",
    "    filtered_movies = df_movie[df_movie >= movie_count].index.tolist()\n",
    "    \n",
    "    for user_count in user_range:\n",
    "        min_mv_count.append(movie_count)\n",
    "        min_usr_count.append(user_count)\n",
    "        \n",
    "        # Filtrar películas\n",
    "        mv_count.append(len(filtered_movies))\n",
    "        \n",
    "        # Filtrar usuarios\n",
    "        filtered_users = df_client[df_client >= user_count].index.tolist()\n",
    "        usr_count.append(len(filtered_users))\n",
    "        \n",
    "        # Aplicar los filtros\n",
    "        filtered_df = df1[df1['movie_id'].isin(filtered_movies) & df1['user_id'].isin(filtered_users)]\n",
    "        shape_count.append(filtered_df.shape[0])\n",
    "        \n",
    "        # Almacenar el resultado y las condiciones\n",
    "        #filtered_dfs.append(filtered_df.copy())\n",
    "        t1=time()\n",
    "        print(f\"Iteration movie count {movie_count:6d}, user count {user_count:6d}: Time elapsed {(t1-t0)/60} mins\")\n",
    "\n",
    "n_usrs = df_client.shape[0]\n",
    "n_mvs = df_movie.shape[0]\n",
    "max_shape = df1.shape[0]\n",
    "\n",
    "usr_pct = [c*100/n_usrs for c in usr_count]\n",
    "mv_pct = [c*100/n_mvs for c in mv_count]\n",
    "ratio_lst = [shape_count[i]/(mv_count[i]*usr_count[i]) for i in range(len(usr_count))]\n",
    "pct_full = [s*100/max_shape for s in shape_count]\n",
    "    \n",
    "df_conteos = pd.DataFrame({'Movie_min_ratings':min_mv_count\n",
    "                           ,'User_min_ratings':min_usr_count\n",
    "                           ,'Movie_count':mv_count\n",
    "                           ,'Movie_pct':mv_pct\n",
    "                           ,'User_count':usr_count\n",
    "                           ,'User_pct':usr_pct\n",
    "                           ,'Shape':shape_count\n",
    "                           ,'Ratio':ratio_lst\n",
    "                           ,'Shape_pct':pct_full\n",
    "                          })\n",
    "df_conteos.to_csv('../data/df_conteos_exp10.csv',index=False)\n",
    "df_conteos"
   ]
  },
  {
   "cell_type": "code",
   "execution_count": 28,
   "id": "bdaabbdd",
   "metadata": {},
   "outputs": [
    {
     "data": {
      "text/html": [
       "<div>\n",
       "<style scoped>\n",
       "    .dataframe tbody tr th:only-of-type {\n",
       "        vertical-align: middle;\n",
       "    }\n",
       "\n",
       "    .dataframe tbody tr th {\n",
       "        vertical-align: top;\n",
       "    }\n",
       "\n",
       "    .dataframe thead th {\n",
       "        text-align: right;\n",
       "    }\n",
       "</style>\n",
       "<table border=\"1\" class=\"dataframe\">\n",
       "  <thead>\n",
       "    <tr style=\"text-align: right;\">\n",
       "      <th></th>\n",
       "      <th>Movie_min_ratings</th>\n",
       "      <th>User_min_ratings</th>\n",
       "      <th>Movie_count</th>\n",
       "      <th>Movie_pct</th>\n",
       "      <th>User_count</th>\n",
       "      <th>User_pct</th>\n",
       "      <th>Shape</th>\n",
       "      <th>Ratio</th>\n",
       "      <th>Shape_pct</th>\n",
       "    </tr>\n",
       "  </thead>\n",
       "  <tbody>\n",
       "    <tr>\n",
       "      <th>0</th>\n",
       "      <td>1</td>\n",
       "      <td>1</td>\n",
       "      <td>17770</td>\n",
       "      <td>100.000000</td>\n",
       "      <td>480189</td>\n",
       "      <td>100.000000</td>\n",
       "      <td>100480506</td>\n",
       "      <td>0.011776</td>\n",
       "      <td>100.000000</td>\n",
       "    </tr>\n",
       "    <tr>\n",
       "      <th>1</th>\n",
       "      <td>1</td>\n",
       "      <td>10</td>\n",
       "      <td>17770</td>\n",
       "      <td>100.000000</td>\n",
       "      <td>463770</td>\n",
       "      <td>96.580721</td>\n",
       "      <td>100396383</td>\n",
       "      <td>0.012182</td>\n",
       "      <td>99.916279</td>\n",
       "    </tr>\n",
       "    <tr>\n",
       "      <th>2</th>\n",
       "      <td>1</td>\n",
       "      <td>100</td>\n",
       "      <td>17770</td>\n",
       "      <td>100.000000</td>\n",
       "      <td>236117</td>\n",
       "      <td>49.171680</td>\n",
       "      <td>89973533</td>\n",
       "      <td>0.021444</td>\n",
       "      <td>89.543272</td>\n",
       "    </tr>\n",
       "    <tr>\n",
       "      <th>3</th>\n",
       "      <td>1</td>\n",
       "      <td>1000</td>\n",
       "      <td>17770</td>\n",
       "      <td>100.000000</td>\n",
       "      <td>13141</td>\n",
       "      <td>2.736631</td>\n",
       "      <td>18786255</td>\n",
       "      <td>0.080450</td>\n",
       "      <td>18.696418</td>\n",
       "    </tr>\n",
       "    <tr>\n",
       "      <th>4</th>\n",
       "      <td>10</td>\n",
       "      <td>1</td>\n",
       "      <td>17768</td>\n",
       "      <td>99.988745</td>\n",
       "      <td>480189</td>\n",
       "      <td>100.000000</td>\n",
       "      <td>100480498</td>\n",
       "      <td>0.011777</td>\n",
       "      <td>99.999992</td>\n",
       "    </tr>\n",
       "    <tr>\n",
       "      <th>5</th>\n",
       "      <td>10</td>\n",
       "      <td>10</td>\n",
       "      <td>17768</td>\n",
       "      <td>99.988745</td>\n",
       "      <td>463770</td>\n",
       "      <td>96.580721</td>\n",
       "      <td>100396375</td>\n",
       "      <td>0.012184</td>\n",
       "      <td>99.916271</td>\n",
       "    </tr>\n",
       "    <tr>\n",
       "      <th>6</th>\n",
       "      <td>10</td>\n",
       "      <td>100</td>\n",
       "      <td>17768</td>\n",
       "      <td>99.988745</td>\n",
       "      <td>236117</td>\n",
       "      <td>49.171680</td>\n",
       "      <td>89973526</td>\n",
       "      <td>0.021446</td>\n",
       "      <td>89.543265</td>\n",
       "    </tr>\n",
       "    <tr>\n",
       "      <th>7</th>\n",
       "      <td>10</td>\n",
       "      <td>1000</td>\n",
       "      <td>17768</td>\n",
       "      <td>99.988745</td>\n",
       "      <td>13141</td>\n",
       "      <td>2.736631</td>\n",
       "      <td>18786252</td>\n",
       "      <td>0.080459</td>\n",
       "      <td>18.696415</td>\n",
       "    </tr>\n",
       "    <tr>\n",
       "      <th>8</th>\n",
       "      <td>100</td>\n",
       "      <td>1</td>\n",
       "      <td>16795</td>\n",
       "      <td>94.513225</td>\n",
       "      <td>480189</td>\n",
       "      <td>100.000000</td>\n",
       "      <td>100400917</td>\n",
       "      <td>0.012449</td>\n",
       "      <td>99.920792</td>\n",
       "    </tr>\n",
       "    <tr>\n",
       "      <th>9</th>\n",
       "      <td>100</td>\n",
       "      <td>10</td>\n",
       "      <td>16795</td>\n",
       "      <td>94.513225</td>\n",
       "      <td>463770</td>\n",
       "      <td>96.580721</td>\n",
       "      <td>100317000</td>\n",
       "      <td>0.012879</td>\n",
       "      <td>99.837276</td>\n",
       "    </tr>\n",
       "    <tr>\n",
       "      <th>10</th>\n",
       "      <td>100</td>\n",
       "      <td>100</td>\n",
       "      <td>16795</td>\n",
       "      <td>94.513225</td>\n",
       "      <td>236117</td>\n",
       "      <td>49.171680</td>\n",
       "      <td>89902830</td>\n",
       "      <td>0.022671</td>\n",
       "      <td>89.472907</td>\n",
       "    </tr>\n",
       "    <tr>\n",
       "      <th>11</th>\n",
       "      <td>100</td>\n",
       "      <td>1000</td>\n",
       "      <td>16795</td>\n",
       "      <td>94.513225</td>\n",
       "      <td>13141</td>\n",
       "      <td>2.736631</td>\n",
       "      <td>18757425</td>\n",
       "      <td>0.084989</td>\n",
       "      <td>18.667725</td>\n",
       "    </tr>\n",
       "    <tr>\n",
       "      <th>12</th>\n",
       "      <td>1000</td>\n",
       "      <td>1</td>\n",
       "      <td>7127</td>\n",
       "      <td>40.106922</td>\n",
       "      <td>480189</td>\n",
       "      <td>100.000000</td>\n",
       "      <td>97102345</td>\n",
       "      <td>0.028373</td>\n",
       "      <td>96.637994</td>\n",
       "    </tr>\n",
       "    <tr>\n",
       "      <th>13</th>\n",
       "      <td>1000</td>\n",
       "      <td>10</td>\n",
       "      <td>7127</td>\n",
       "      <td>40.106922</td>\n",
       "      <td>463770</td>\n",
       "      <td>96.580721</td>\n",
       "      <td>97023527</td>\n",
       "      <td>0.029354</td>\n",
       "      <td>96.559553</td>\n",
       "    </tr>\n",
       "    <tr>\n",
       "      <th>14</th>\n",
       "      <td>1000</td>\n",
       "      <td>100</td>\n",
       "      <td>7127</td>\n",
       "      <td>40.106922</td>\n",
       "      <td>236117</td>\n",
       "      <td>49.171680</td>\n",
       "      <td>86963967</td>\n",
       "      <td>0.051678</td>\n",
       "      <td>86.548098</td>\n",
       "    </tr>\n",
       "    <tr>\n",
       "      <th>15</th>\n",
       "      <td>1000</td>\n",
       "      <td>1000</td>\n",
       "      <td>7127</td>\n",
       "      <td>40.106922</td>\n",
       "      <td>13141</td>\n",
       "      <td>2.736631</td>\n",
       "      <td>17703382</td>\n",
       "      <td>0.189026</td>\n",
       "      <td>17.618723</td>\n",
       "    </tr>\n",
       "    <tr>\n",
       "      <th>16</th>\n",
       "      <td>10000</td>\n",
       "      <td>1</td>\n",
       "      <td>2042</td>\n",
       "      <td>11.491277</td>\n",
       "      <td>480189</td>\n",
       "      <td>100.000000</td>\n",
       "      <td>79909265</td>\n",
       "      <td>0.081495</td>\n",
       "      <td>79.527132</td>\n",
       "    </tr>\n",
       "    <tr>\n",
       "      <th>17</th>\n",
       "      <td>10000</td>\n",
       "      <td>10</td>\n",
       "      <td>2042</td>\n",
       "      <td>11.491277</td>\n",
       "      <td>463770</td>\n",
       "      <td>96.580721</td>\n",
       "      <td>79845433</td>\n",
       "      <td>0.084312</td>\n",
       "      <td>79.463606</td>\n",
       "    </tr>\n",
       "    <tr>\n",
       "      <th>18</th>\n",
       "      <td>10000</td>\n",
       "      <td>100</td>\n",
       "      <td>2042</td>\n",
       "      <td>11.491277</td>\n",
       "      <td>236117</td>\n",
       "      <td>49.171680</td>\n",
       "      <td>71011841</td>\n",
       "      <td>0.147281</td>\n",
       "      <td>70.672257</td>\n",
       "    </tr>\n",
       "    <tr>\n",
       "      <th>19</th>\n",
       "      <td>10000</td>\n",
       "      <td>1000</td>\n",
       "      <td>2042</td>\n",
       "      <td>11.491277</td>\n",
       "      <td>13141</td>\n",
       "      <td>2.736631</td>\n",
       "      <td>12168105</td>\n",
       "      <td>0.453460</td>\n",
       "      <td>12.109916</td>\n",
       "    </tr>\n",
       "  </tbody>\n",
       "</table>\n",
       "</div>"
      ],
      "text/plain": [
       "    Movie_min_ratings  User_min_ratings  Movie_count   Movie_pct  User_count  \\\n",
       "0                   1                 1        17770  100.000000      480189   \n",
       "1                   1                10        17770  100.000000      463770   \n",
       "2                   1               100        17770  100.000000      236117   \n",
       "3                   1              1000        17770  100.000000       13141   \n",
       "4                  10                 1        17768   99.988745      480189   \n",
       "5                  10                10        17768   99.988745      463770   \n",
       "6                  10               100        17768   99.988745      236117   \n",
       "7                  10              1000        17768   99.988745       13141   \n",
       "8                 100                 1        16795   94.513225      480189   \n",
       "9                 100                10        16795   94.513225      463770   \n",
       "10                100               100        16795   94.513225      236117   \n",
       "11                100              1000        16795   94.513225       13141   \n",
       "12               1000                 1         7127   40.106922      480189   \n",
       "13               1000                10         7127   40.106922      463770   \n",
       "14               1000               100         7127   40.106922      236117   \n",
       "15               1000              1000         7127   40.106922       13141   \n",
       "16              10000                 1         2042   11.491277      480189   \n",
       "17              10000                10         2042   11.491277      463770   \n",
       "18              10000               100         2042   11.491277      236117   \n",
       "19              10000              1000         2042   11.491277       13141   \n",
       "\n",
       "      User_pct      Shape     Ratio   Shape_pct  \n",
       "0   100.000000  100480506  0.011776  100.000000  \n",
       "1    96.580721  100396383  0.012182   99.916279  \n",
       "2    49.171680   89973533  0.021444   89.543272  \n",
       "3     2.736631   18786255  0.080450   18.696418  \n",
       "4   100.000000  100480498  0.011777   99.999992  \n",
       "5    96.580721  100396375  0.012184   99.916271  \n",
       "6    49.171680   89973526  0.021446   89.543265  \n",
       "7     2.736631   18786252  0.080459   18.696415  \n",
       "8   100.000000  100400917  0.012449   99.920792  \n",
       "9    96.580721  100317000  0.012879   99.837276  \n",
       "10   49.171680   89902830  0.022671   89.472907  \n",
       "11    2.736631   18757425  0.084989   18.667725  \n",
       "12  100.000000   97102345  0.028373   96.637994  \n",
       "13   96.580721   97023527  0.029354   96.559553  \n",
       "14   49.171680   86963967  0.051678   86.548098  \n",
       "15    2.736631   17703382  0.189026   17.618723  \n",
       "16  100.000000   79909265  0.081495   79.527132  \n",
       "17   96.580721   79845433  0.084312   79.463606  \n",
       "18   49.171680   71011841  0.147281   70.672257  \n",
       "19    2.736631   12168105  0.453460   12.109916  "
      ]
     },
     "execution_count": 28,
     "metadata": {},
     "output_type": "execute_result"
    }
   ],
   "source": [
    "df_conteos2=pd.read_csv('../data/df_conteos_exp10.csv')\n",
    "#df_conteos2['Shape_trainval'] = df_conteos2['Shape']*0.7\n",
    "df_conteos2"
   ]
  },
  {
   "cell_type": "code",
   "execution_count": 29,
   "id": "08c9a765",
   "metadata": {},
   "outputs": [
    {
     "data": {
      "text/html": [
       "<div>\n",
       "<style scoped>\n",
       "    .dataframe tbody tr th:only-of-type {\n",
       "        vertical-align: middle;\n",
       "    }\n",
       "\n",
       "    .dataframe tbody tr th {\n",
       "        vertical-align: top;\n",
       "    }\n",
       "\n",
       "    .dataframe thead th {\n",
       "        text-align: right;\n",
       "    }\n",
       "</style>\n",
       "<table border=\"1\" class=\"dataframe\">\n",
       "  <thead>\n",
       "    <tr style=\"text-align: right;\">\n",
       "      <th></th>\n",
       "      <th>Movie_min_ratings</th>\n",
       "      <th>User_min_ratings</th>\n",
       "      <th>Movie_count</th>\n",
       "      <th>Movie_pct</th>\n",
       "      <th>User_count</th>\n",
       "      <th>User_pct</th>\n",
       "      <th>Shape</th>\n",
       "      <th>Ratio</th>\n",
       "      <th>Shape_pct</th>\n",
       "    </tr>\n",
       "  </thead>\n",
       "  <tbody>\n",
       "    <tr>\n",
       "      <th>10</th>\n",
       "      <td>100</td>\n",
       "      <td>100</td>\n",
       "      <td>16795</td>\n",
       "      <td>94.513225</td>\n",
       "      <td>236117</td>\n",
       "      <td>49.171680</td>\n",
       "      <td>89902830</td>\n",
       "      <td>0.022671</td>\n",
       "      <td>89.472907</td>\n",
       "    </tr>\n",
       "    <tr>\n",
       "      <th>11</th>\n",
       "      <td>100</td>\n",
       "      <td>1000</td>\n",
       "      <td>16795</td>\n",
       "      <td>94.513225</td>\n",
       "      <td>13141</td>\n",
       "      <td>2.736631</td>\n",
       "      <td>18757425</td>\n",
       "      <td>0.084989</td>\n",
       "      <td>18.667725</td>\n",
       "    </tr>\n",
       "    <tr>\n",
       "      <th>14</th>\n",
       "      <td>1000</td>\n",
       "      <td>100</td>\n",
       "      <td>7127</td>\n",
       "      <td>40.106922</td>\n",
       "      <td>236117</td>\n",
       "      <td>49.171680</td>\n",
       "      <td>86963967</td>\n",
       "      <td>0.051678</td>\n",
       "      <td>86.548098</td>\n",
       "    </tr>\n",
       "    <tr>\n",
       "      <th>15</th>\n",
       "      <td>1000</td>\n",
       "      <td>1000</td>\n",
       "      <td>7127</td>\n",
       "      <td>40.106922</td>\n",
       "      <td>13141</td>\n",
       "      <td>2.736631</td>\n",
       "      <td>17703382</td>\n",
       "      <td>0.189026</td>\n",
       "      <td>17.618723</td>\n",
       "    </tr>\n",
       "    <tr>\n",
       "      <th>18</th>\n",
       "      <td>10000</td>\n",
       "      <td>100</td>\n",
       "      <td>2042</td>\n",
       "      <td>11.491277</td>\n",
       "      <td>236117</td>\n",
       "      <td>49.171680</td>\n",
       "      <td>71011841</td>\n",
       "      <td>0.147281</td>\n",
       "      <td>70.672257</td>\n",
       "    </tr>\n",
       "    <tr>\n",
       "      <th>19</th>\n",
       "      <td>10000</td>\n",
       "      <td>1000</td>\n",
       "      <td>2042</td>\n",
       "      <td>11.491277</td>\n",
       "      <td>13141</td>\n",
       "      <td>2.736631</td>\n",
       "      <td>12168105</td>\n",
       "      <td>0.453460</td>\n",
       "      <td>12.109916</td>\n",
       "    </tr>\n",
       "  </tbody>\n",
       "</table>\n",
       "</div>"
      ],
      "text/plain": [
       "    Movie_min_ratings  User_min_ratings  Movie_count  Movie_pct  User_count  \\\n",
       "10                100               100        16795  94.513225      236117   \n",
       "11                100              1000        16795  94.513225       13141   \n",
       "14               1000               100         7127  40.106922      236117   \n",
       "15               1000              1000         7127  40.106922       13141   \n",
       "18              10000               100         2042  11.491277      236117   \n",
       "19              10000              1000         2042  11.491277       13141   \n",
       "\n",
       "     User_pct     Shape     Ratio  Shape_pct  \n",
       "10  49.171680  89902830  0.022671  89.472907  \n",
       "11   2.736631  18757425  0.084989  18.667725  \n",
       "14  49.171680  86963967  0.051678  86.548098  \n",
       "15   2.736631  17703382  0.189026  17.618723  \n",
       "18  49.171680  71011841  0.147281  70.672257  \n",
       "19   2.736631  12168105  0.453460  12.109916  "
      ]
     },
     "execution_count": 29,
     "metadata": {},
     "output_type": "execute_result"
    }
   ],
   "source": [
    "df_conteos2[(df_conteos2['Movie_min_ratings'] >= min_rates_movies) & (df_conteos2['User_min_ratings'] >= min_rates_users)]"
   ]
  },
  {
   "cell_type": "markdown",
   "id": "62852129",
   "metadata": {},
   "source": [
    "# Elección de películas y usuarios\n",
    "Como el dataset es demasiado grande y el modelo + mi ordenador no puede con él, vamos a tomar 10.000 películas y 50.000 usuarios de manera aleatoria"
   ]
  },
  {
   "cell_type": "code",
   "execution_count": 18,
   "id": "f56b136e",
   "metadata": {},
   "outputs": [],
   "source": [
    "nmovies_filt = 10000\n",
    "nusers_filt = 100000"
   ]
  },
  {
   "cell_type": "code",
   "execution_count": 19,
   "id": "5849b005",
   "metadata": {},
   "outputs": [
    {
     "data": {
      "text/plain": [
       "(89902830, 4)"
      ]
     },
     "execution_count": 19,
     "metadata": {},
     "output_type": "execute_result"
    }
   ],
   "source": [
    "filtered_movies = df_movie[df_movie >= min_rates_movies].index.tolist()\n",
    "filtered_users = df_client[df_client >= min_rates_users].index.tolist()\n",
    "\n",
    "filtered_df = df1[df1['movie_id'].isin(filtered_movies) & df1['user_id'].isin(filtered_users)]\n",
    "filtered_df.shape"
   ]
  },
  {
   "cell_type": "code",
   "execution_count": 20,
   "id": "2fa015ec",
   "metadata": {},
   "outputs": [
    {
     "data": {
      "text/html": [
       "<div>\n",
       "<style scoped>\n",
       "    .dataframe tbody tr th:only-of-type {\n",
       "        vertical-align: middle;\n",
       "    }\n",
       "\n",
       "    .dataframe tbody tr th {\n",
       "        vertical-align: top;\n",
       "    }\n",
       "\n",
       "    .dataframe thead th {\n",
       "        text-align: right;\n",
       "    }\n",
       "</style>\n",
       "<table border=\"1\" class=\"dataframe\">\n",
       "  <thead>\n",
       "    <tr style=\"text-align: right;\">\n",
       "      <th></th>\n",
       "      <th>movie_id</th>\n",
       "      <th>user_id</th>\n",
       "      <th>rating</th>\n",
       "      <th>rate_day</th>\n",
       "    </tr>\n",
       "  </thead>\n",
       "  <tbody>\n",
       "    <tr>\n",
       "      <th>0</th>\n",
       "      <td>1</td>\n",
       "      <td>822109</td>\n",
       "      <td>5</td>\n",
       "      <td>2005-05-13</td>\n",
       "    </tr>\n",
       "    <tr>\n",
       "      <th>1</th>\n",
       "      <td>1</td>\n",
       "      <td>885013</td>\n",
       "      <td>4</td>\n",
       "      <td>2005-10-19</td>\n",
       "    </tr>\n",
       "    <tr>\n",
       "      <th>2</th>\n",
       "      <td>1</td>\n",
       "      <td>30878</td>\n",
       "      <td>4</td>\n",
       "      <td>2005-12-26</td>\n",
       "    </tr>\n",
       "    <tr>\n",
       "      <th>3</th>\n",
       "      <td>1</td>\n",
       "      <td>823519</td>\n",
       "      <td>3</td>\n",
       "      <td>2004-05-03</td>\n",
       "    </tr>\n",
       "    <tr>\n",
       "      <th>4</th>\n",
       "      <td>1</td>\n",
       "      <td>893988</td>\n",
       "      <td>3</td>\n",
       "      <td>2005-11-17</td>\n",
       "    </tr>\n",
       "  </tbody>\n",
       "</table>\n",
       "</div>"
      ],
      "text/plain": [
       "   movie_id  user_id  rating    rate_day\n",
       "0         1   822109       5  2005-05-13\n",
       "1         1   885013       4  2005-10-19\n",
       "2         1    30878       4  2005-12-26\n",
       "3         1   823519       3  2004-05-03\n",
       "4         1   893988       3  2005-11-17"
      ]
     },
     "execution_count": 20,
     "metadata": {},
     "output_type": "execute_result"
    }
   ],
   "source": [
    "filtered_df.head()"
   ]
  },
  {
   "cell_type": "code",
   "execution_count": 21,
   "id": "a457b0bc",
   "metadata": {},
   "outputs": [
    {
     "data": {
      "text/plain": [
       "16795"
      ]
     },
     "execution_count": 21,
     "metadata": {},
     "output_type": "execute_result"
    }
   ],
   "source": [
    "len(filtered_movies)"
   ]
  },
  {
   "cell_type": "code",
   "execution_count": 22,
   "id": "6024b69f",
   "metadata": {},
   "outputs": [
    {
     "data": {
      "text/plain": [
       "236117"
      ]
     },
     "execution_count": 22,
     "metadata": {},
     "output_type": "execute_result"
    }
   ],
   "source": [
    "len(filtered_users)"
   ]
  },
  {
   "cell_type": "code",
   "execution_count": 23,
   "id": "63ef3c87",
   "metadata": {},
   "outputs": [
    {
     "data": {
      "text/html": [
       "<div>\n",
       "<style scoped>\n",
       "    .dataframe tbody tr th:only-of-type {\n",
       "        vertical-align: middle;\n",
       "    }\n",
       "\n",
       "    .dataframe tbody tr th {\n",
       "        vertical-align: top;\n",
       "    }\n",
       "\n",
       "    .dataframe thead th {\n",
       "        text-align: right;\n",
       "    }\n",
       "</style>\n",
       "<table border=\"1\" class=\"dataframe\">\n",
       "  <thead>\n",
       "    <tr style=\"text-align: right;\">\n",
       "      <th></th>\n",
       "      <th>movie_id</th>\n",
       "      <th>user_id</th>\n",
       "      <th>rating</th>\n",
       "      <th>rate_day</th>\n",
       "    </tr>\n",
       "  </thead>\n",
       "  <tbody>\n",
       "    <tr>\n",
       "      <th>546</th>\n",
       "      <td>2</td>\n",
       "      <td>2059652</td>\n",
       "      <td>4</td>\n",
       "      <td>2005-09-05</td>\n",
       "    </tr>\n",
       "    <tr>\n",
       "      <th>550</th>\n",
       "      <td>2</td>\n",
       "      <td>998862</td>\n",
       "      <td>4</td>\n",
       "      <td>2004-11-13</td>\n",
       "    </tr>\n",
       "    <tr>\n",
       "      <th>555</th>\n",
       "      <td>2</td>\n",
       "      <td>988104</td>\n",
       "      <td>3</td>\n",
       "      <td>2005-05-23</td>\n",
       "    </tr>\n",
       "    <tr>\n",
       "      <th>558</th>\n",
       "      <td>2</td>\n",
       "      <td>1793899</td>\n",
       "      <td>5</td>\n",
       "      <td>2005-06-04</td>\n",
       "    </tr>\n",
       "    <tr>\n",
       "      <th>559</th>\n",
       "      <td>2</td>\n",
       "      <td>1340535</td>\n",
       "      <td>5</td>\n",
       "      <td>2004-12-12</td>\n",
       "    </tr>\n",
       "    <tr>\n",
       "      <th>...</th>\n",
       "      <td>...</td>\n",
       "      <td>...</td>\n",
       "      <td>...</td>\n",
       "      <td>...</td>\n",
       "    </tr>\n",
       "    <tr>\n",
       "      <th>100480491</th>\n",
       "      <td>17770</td>\n",
       "      <td>925414</td>\n",
       "      <td>4</td>\n",
       "      <td>2005-02-08</td>\n",
       "    </tr>\n",
       "    <tr>\n",
       "      <th>100480496</th>\n",
       "      <td>17770</td>\n",
       "      <td>834323</td>\n",
       "      <td>2</td>\n",
       "      <td>2005-10-04</td>\n",
       "    </tr>\n",
       "    <tr>\n",
       "      <th>100480497</th>\n",
       "      <td>17770</td>\n",
       "      <td>516110</td>\n",
       "      <td>5</td>\n",
       "      <td>2004-08-26</td>\n",
       "    </tr>\n",
       "    <tr>\n",
       "      <th>100480501</th>\n",
       "      <td>17770</td>\n",
       "      <td>1790158</td>\n",
       "      <td>4</td>\n",
       "      <td>2005-11-01</td>\n",
       "    </tr>\n",
       "    <tr>\n",
       "      <th>100480502</th>\n",
       "      <td>17770</td>\n",
       "      <td>1608708</td>\n",
       "      <td>3</td>\n",
       "      <td>2005-07-19</td>\n",
       "    </tr>\n",
       "  </tbody>\n",
       "</table>\n",
       "<p>22158094 rows × 4 columns</p>\n",
       "</div>"
      ],
      "text/plain": [
       "           movie_id  user_id  rating    rate_day\n",
       "546               2  2059652       4  2005-09-05\n",
       "550               2   998862       4  2004-11-13\n",
       "555               2   988104       3  2005-05-23\n",
       "558               2  1793899       5  2005-06-04\n",
       "559               2  1340535       5  2004-12-12\n",
       "...             ...      ...     ...         ...\n",
       "100480491     17770   925414       4  2005-02-08\n",
       "100480496     17770   834323       2  2005-10-04\n",
       "100480497     17770   516110       5  2004-08-26\n",
       "100480501     17770  1790158       4  2005-11-01\n",
       "100480502     17770  1608708       3  2005-07-19\n",
       "\n",
       "[22158094 rows x 4 columns]"
      ]
     },
     "execution_count": 23,
     "metadata": {},
     "output_type": "execute_result"
    }
   ],
   "source": [
    "selected_movie_ids = np.random.choice(filtered_df['movie_id'].unique(), nmovies_filt, replace=False)\n",
    "selected_user_ids = np.random.choice(filtered_df['user_id'].unique(), nusers_filt, replace=False)\n",
    "\n",
    "filtered_df_2 = filtered_df[filtered_df['movie_id'].isin(selected_movie_ids) & filtered_df['user_id'].isin(selected_user_ids)]\n",
    "filtered_df_2"
   ]
  },
  {
   "cell_type": "code",
   "execution_count": null,
   "id": "e3cc1fbd",
   "metadata": {},
   "outputs": [],
   "source": []
  },
  {
   "cell_type": "code",
   "execution_count": 24,
   "id": "a2e4399c",
   "metadata": {},
   "outputs": [
    {
     "data": {
      "text/plain": [
       "10000"
      ]
     },
     "execution_count": 24,
     "metadata": {},
     "output_type": "execute_result"
    }
   ],
   "source": [
    "filtered_df_2['movie_id'].nunique()"
   ]
  },
  {
   "cell_type": "code",
   "execution_count": 25,
   "id": "63c88c9b",
   "metadata": {},
   "outputs": [
    {
     "data": {
      "text/plain": [
       "100000"
      ]
     },
     "execution_count": 25,
     "metadata": {},
     "output_type": "execute_result"
    }
   ],
   "source": [
    "filtered_df_2['user_id'].nunique()"
   ]
  },
  {
   "cell_type": "code",
   "execution_count": 26,
   "id": "8928a1c0",
   "metadata": {
    "scrolled": false
   },
   "outputs": [
    {
     "ename": "NameError",
     "evalue": "name 'df_movie_filt' is not defined",
     "output_type": "error",
     "traceback": [
      "\u001b[1;31m---------------------------------------------------------------------------\u001b[0m",
      "\u001b[1;31mNameError\u001b[0m                                 Traceback (most recent call last)",
      "\u001b[1;32m<ipython-input-26-39b3125ae7d4>\u001b[0m in \u001b[0;36m<module>\u001b[1;34m\u001b[0m\n\u001b[0;32m      1\u001b[0m \u001b[1;31m#df_movie_filt = filtered_df_2.groupby('movie_id')['user_id'].count()\u001b[0m\u001b[1;33m\u001b[0m\u001b[1;33m\u001b[0m\u001b[1;33m\u001b[0m\u001b[0m\n\u001b[1;32m----> 2\u001b[1;33m \u001b[0mdf_movie_filt\u001b[0m\u001b[1;33m.\u001b[0m\u001b[0mnsmallest\u001b[0m\u001b[1;33m(\u001b[0m\u001b[1;36m10\u001b[0m\u001b[1;33m)\u001b[0m\u001b[1;33m\u001b[0m\u001b[1;33m\u001b[0m\u001b[0m\n\u001b[0m",
      "\u001b[1;31mNameError\u001b[0m: name 'df_movie_filt' is not defined"
     ]
    }
   ],
   "source": [
    "#df_movie_filt = filtered_df_2.groupby('movie_id')['user_id'].count()\n",
    "df_movie_filt.nsmallest(10)"
   ]
  },
  {
   "cell_type": "code",
   "execution_count": null,
   "id": "da123044",
   "metadata": {},
   "outputs": [],
   "source": [
    "plt.figure(figsize=(12, 8))\n",
    "sns.histplot(df_movie_filt,log_scale=True,bins=50)\n",
    "plt.title('Histograma ID Película', fontsize=16)\n",
    "# Configurar título y etiquetas\n",
    "plt.xlabel('Puntuaciones recibidas', fontsize=14)\n",
    "plt.ylabel('Conteo', fontsize=14)"
   ]
  },
  {
   "cell_type": "code",
   "execution_count": null,
   "id": "1edc1cf8",
   "metadata": {},
   "outputs": [],
   "source": [
    "#df_user_filt = filtered_df_2.groupby('user_id')['movie_id'].count()\n",
    "df_user_filt.nsmallest(10)"
   ]
  },
  {
   "cell_type": "code",
   "execution_count": null,
   "id": "de2991a5",
   "metadata": {
    "scrolled": false
   },
   "outputs": [],
   "source": [
    "plt.figure(figsize=(12, 8))\n",
    "sns.histplot(df_user_filt,log_scale=True,bins=50)\n",
    "plt.title('Histograma ID Cliente', fontsize=16)\n",
    "# Configurar título y etiquetas\n",
    "plt.xlabel('Películas puntuadas', fontsize=14)\n",
    "plt.ylabel('Conteo', fontsize=14)"
   ]
  },
  {
   "cell_type": "code",
   "execution_count": 27,
   "id": "b5d7bd2e",
   "metadata": {},
   "outputs": [
    {
     "name": "stdout",
     "output_type": "stream",
     "text": [
      "BUCLE INTERACIONES\n",
      "Iteracion 0:  3.84447 s,  3.84447 s en total\n",
      "Iteracion 1:  3.60633 s,  7.45079 s en total\n",
      "Iteracion 2:  3.57535 s, 11.02615 s en total\n",
      "Iteracion 3:  3.46386 s, 14.49001 s en total\n",
      "Iteracion 4:  3.40484 s, 17.89485 s en total\n",
      "Wall time: 22.5 s\n"
     ]
    },
    {
     "data": {
      "text/html": [
       "<div>\n",
       "<style scoped>\n",
       "    .dataframe tbody tr th:only-of-type {\n",
       "        vertical-align: middle;\n",
       "    }\n",
       "\n",
       "    .dataframe tbody tr th {\n",
       "        vertical-align: top;\n",
       "    }\n",
       "\n",
       "    .dataframe thead th {\n",
       "        text-align: right;\n",
       "    }\n",
       "</style>\n",
       "<table border=\"1\" class=\"dataframe\">\n",
       "  <thead>\n",
       "    <tr style=\"text-align: right;\">\n",
       "      <th></th>\n",
       "      <th>Iteration</th>\n",
       "      <th>Movie_min_rating</th>\n",
       "      <th>User_min_rating</th>\n",
       "      <th>Df_filt_shape</th>\n",
       "      <th>Movie_count</th>\n",
       "      <th>User_count</th>\n",
       "    </tr>\n",
       "  </thead>\n",
       "  <tbody>\n",
       "    <tr>\n",
       "      <th>0</th>\n",
       "      <td>0</td>\n",
       "      <td>76</td>\n",
       "      <td>63</td>\n",
       "      <td>19801536</td>\n",
       "      <td>7069</td>\n",
       "      <td>71166</td>\n",
       "    </tr>\n",
       "    <tr>\n",
       "      <th>1</th>\n",
       "      <td>1</td>\n",
       "      <td>90</td>\n",
       "      <td>93</td>\n",
       "      <td>19739550</td>\n",
       "      <td>6808</td>\n",
       "      <td>70775</td>\n",
       "    </tr>\n",
       "    <tr>\n",
       "      <th>2</th>\n",
       "      <td>2</td>\n",
       "      <td>97</td>\n",
       "      <td>97</td>\n",
       "      <td>19730713</td>\n",
       "      <td>6778</td>\n",
       "      <td>70715</td>\n",
       "    </tr>\n",
       "    <tr>\n",
       "      <th>3</th>\n",
       "      <td>3</td>\n",
       "      <td>100</td>\n",
       "      <td>99</td>\n",
       "      <td>19728748</td>\n",
       "      <td>6774</td>\n",
       "      <td>70699</td>\n",
       "    </tr>\n",
       "    <tr>\n",
       "      <th>4</th>\n",
       "      <td>4</td>\n",
       "      <td>100</td>\n",
       "      <td>100</td>\n",
       "      <td>19728649</td>\n",
       "      <td>6774</td>\n",
       "      <td>70698</td>\n",
       "    </tr>\n",
       "  </tbody>\n",
       "</table>\n",
       "</div>"
      ],
      "text/plain": [
       "   Iteration  Movie_min_rating  User_min_rating  Df_filt_shape  Movie_count  \\\n",
       "0          0                76               63       19801536         7069   \n",
       "1          1                90               93       19739550         6808   \n",
       "2          2                97               97       19730713         6778   \n",
       "3          3               100               99       19728748         6774   \n",
       "4          4               100              100       19728649         6774   \n",
       "\n",
       "   User_count  \n",
       "0       71166  \n",
       "1       70775  \n",
       "2       70715  \n",
       "3       70699  \n",
       "4       70698  "
      ]
     },
     "execution_count": 27,
     "metadata": {},
     "output_type": "execute_result"
    }
   ],
   "source": [
    "%%time\n",
    "iteration_lst,mv_min_ratings_lst,user_min_ratings_lst,df_filt_shape_lst,nmovies_shape,nusers_shape = [],[],[],[],[],[]\n",
    "\n",
    "mv_min_ratings = 100\n",
    "usr_min_ratings = 100\n",
    "\n",
    "mv_min_rating_actual, usr_min_rating_actual = 0, 0\n",
    "\n",
    "df_filt = filtered_df_2.copy()\n",
    "df_filt = df_filt.drop('rate_day',axis=1)\n",
    "\n",
    "\n",
    "df_movie = df_filt.groupby('movie_id')['user_id'].count()\n",
    "df_user = df_filt.groupby('user_id')['movie_id'].count()\n",
    "\n",
    "filtered_movies = df_movie[df_movie >= mv_min_ratings].index.tolist()\n",
    "filtered_users = df_user[df_user >= usr_min_ratings].index.tolist()\n",
    "\n",
    "iteration = 0\n",
    "print('BUCLE INTERACIONES')\n",
    "t_tot = time()\n",
    "while not (mv_min_rating_actual >= mv_min_ratings and usr_min_rating_actual >= usr_min_ratings) and iteration < 100:\n",
    "    \n",
    "    t0=time()\n",
    "    \n",
    "    df_filt = df_filt[df_filt['movie_id'].isin(filtered_movies) & df_filt['user_id'].isin(filtered_users)]\n",
    "    \n",
    "    df_movie = df_filt.groupby('movie_id')['user_id'].count()\n",
    "    df_user = df_filt.groupby('user_id')['movie_id'].count()\n",
    "\n",
    "    filtered_movies = df_movie[df_movie >= mv_min_ratings].index.tolist()\n",
    "    filtered_users = df_user[df_user >= usr_min_ratings].index.tolist()\n",
    "\n",
    "    mv_min_rating_actual = df_movie.min()\n",
    "    usr_min_rating_actual = df_user.min()\n",
    "    \n",
    "    \n",
    "    iteration_lst.append(iteration)\n",
    "    mv_min_ratings_lst.append(mv_min_rating_actual)\n",
    "    user_min_ratings_lst.append(usr_min_rating_actual)\n",
    "    df_filt_shape_lst.append(df_filt.shape[0])\n",
    "    nmovies_shape.append(df_movie.shape[0])\n",
    "    nusers_shape.append(df_user.shape[0])\n",
    "    t1=time()\n",
    "    print(f\"Iteracion {iteration}: {t1-t0:8.5f} s, {t1-t_tot:8.5f} s en total\")\n",
    "\n",
    "    iteration+=1\n",
    "\n",
    "        \n",
    "df_conteos = pd.DataFrame({'Iteration':iteration_lst\n",
    "                           ,'Movie_min_rating':mv_min_ratings_lst\n",
    "                           ,'User_min_rating':user_min_ratings_lst\n",
    "                           ,'Df_filt_shape':df_filt_shape_lst\n",
    "                           ,'Movie_count':nmovies_shape\n",
    "                           ,'User_count':nusers_shape})\n",
    "\n",
    "df_conteos"
   ]
  },
  {
   "cell_type": "code",
   "execution_count": null,
   "id": "475a3ea1",
   "metadata": {},
   "outputs": [],
   "source": []
  },
  {
   "cell_type": "code",
   "execution_count": 127,
   "id": "4cca2f56",
   "metadata": {
    "scrolled": false
   },
   "outputs": [
    {
     "data": {
      "text/plain": [
       "movie_id\n",
       "619     100\n",
       "678     100\n",
       "1880    100\n",
       "3705    100\n",
       "4234    100\n",
       "4371    100\n",
       "4700    100\n",
       "4935    100\n",
       "6764    100\n",
       "9411    100\n",
       "Name: user_id, dtype: int64"
      ]
     },
     "execution_count": 127,
     "metadata": {},
     "output_type": "execute_result"
    }
   ],
   "source": [
    "df_movie_filt = df_filt.groupby('movie_id')['user_id'].count()\n",
    "df_movie_filt.nsmallest(10)"
   ]
  },
  {
   "cell_type": "code",
   "execution_count": 139,
   "id": "9065d595",
   "metadata": {},
   "outputs": [
    {
     "data": {
      "text/plain": [
       "Text(0, 0.5, 'Conteo')"
      ]
     },
     "execution_count": 139,
     "metadata": {},
     "output_type": "execute_result"
    },
    {
     "data": {
      "image/png": "[encoded data removed]",
      "text/plain": [
       "<Figure size 864x576 with 1 Axes>"
      ]
     },
     "metadata": {
      "needs_background": "light"
     },
     "output_type": "display_data"
    }
   ],
   "source": [
    "plt.figure(figsize=(12, 8))\n",
    "sns.histplot(df_movie_filt,log_scale=True,bins=20)\n",
    "plt.title('Histograma ID Película', fontsize=16)\n",
    "# Configurar título y etiquetas\n",
    "plt.xlabel('Puntuaciones recibidas', fontsize=14)\n",
    "plt.ylabel('Conteo', fontsize=14)"
   ]
  },
  {
   "cell_type": "code",
   "execution_count": 129,
   "id": "89fa2e60",
   "metadata": {},
   "outputs": [
    {
     "data": {
      "text/plain": [
       "user_id\n",
       "1353     100\n",
       "8493     100\n",
       "12247    100\n",
       "12353    100\n",
       "13445    100\n",
       "24033    100\n",
       "25813    100\n",
       "31743    100\n",
       "38712    100\n",
       "41726    100\n",
       "Name: movie_id, dtype: int64"
      ]
     },
     "execution_count": 129,
     "metadata": {},
     "output_type": "execute_result"
    }
   ],
   "source": [
    "df_user_filt = df_filt.groupby('user_id')['movie_id'].count()\n",
    "df_user_filt.nsmallest(10)"
   ]
  },
  {
   "cell_type": "code",
   "execution_count": 140,
   "id": "f2fcf85c",
   "metadata": {
    "scrolled": false
   },
   "outputs": [
    {
     "data": {
      "text/plain": [
       "Text(0, 0.5, 'Conteo')"
      ]
     },
     "execution_count": 140,
     "metadata": {},
     "output_type": "execute_result"
    },
    {
     "data": {
      "image/png": "[encoded data removed]",
      "text/plain": [
       "<Figure size 864x576 with 1 Axes>"
      ]
     },
     "metadata": {
      "needs_background": "light"
     },
     "output_type": "display_data"
    }
   ],
   "source": [
    "plt.figure(figsize=(12, 8))\n",
    "sns.histplot(df_user_filt,log_scale=True,bins=20)\n",
    "plt.title('Histograma ID Cliente', fontsize=16)\n",
    "# Configurar título y etiquetas\n",
    "plt.xlabel('Películas puntuadas', fontsize=14)\n",
    "plt.ylabel('Conteo', fontsize=14)"
   ]
  },
  {
   "cell_type": "markdown",
   "id": "2eb3c8c1",
   "metadata": {},
   "source": [
    "# Guardamos el nuevo conjunto de datos"
   ]
  },
  {
   "cell_type": "code",
   "execution_count": 141,
   "id": "7904d942",
   "metadata": {},
   "outputs": [],
   "source": [
    "df_filt.to_parquet(f'../data/df_filt_{min_rates_movies}_{min_rates_users}.zip',compression='gzip')"
   ]
  },
  {
   "cell_type": "code",
   "execution_count": 143,
   "id": "e85a1219",
   "metadata": {},
   "outputs": [
    {
     "name": "stdout",
     "output_type": "stream",
     "text": [
      "df_train: 8556951\n",
      "df_val: 6417714\n",
      "df_test: 6417714\n",
      "Wall time: 6 s\n"
     ]
    }
   ],
   "source": [
    "%%time\n",
    "df_trainval, df_test = train_test_split(df_filt,train_size=0.7,random_state=seed)\n",
    "df_train, df_val = train_test_split(df_trainval,train_size=0.4/0.7,random_state=seed)\n",
    "\n",
    "for _df,_df_str in zip([df_train, df_val, df_test],[\"df_train\", \"df_val\", \"df_test\"]):\n",
    "    print(f\"{_df_str}: {_df.shape[0]}\")"
   ]
  },
  {
   "cell_type": "code",
   "execution_count": 155,
   "id": "f83242d1",
   "metadata": {},
   "outputs": [
    {
     "name": "stdout",
     "output_type": "stream",
     "text": [
      "COMPROBACION USUARIOS Y PELICULAS\n",
      "df_filt movies: 21392379\n",
      "df_train movies: 8556951\n",
      "df_val movies: 6417714\n",
      "df_test movies: 6417714\n",
      "\n",
      "df_filt movies: 7027\n",
      "df_train movies: 7027\n",
      "df_val movies: 7027\n",
      "df_test movies: 7027\n",
      "\n",
      "df_filt users: 74452\n",
      "df_train users: 74452\n",
      "df_val users: 74452\n",
      "df_test users: 74452\n"
     ]
    }
   ],
   "source": [
    "print(\"COMPROBACION USUARIOS Y PELICULAS\")\n",
    "for _df,_df_str in zip([df_filt,df_train, df_val, df_test],[\"df_filt\",\"df_train\", \"df_val\", \"df_test\"]):\n",
    "    print(f\"{_df_str} tamaño: {_df.shape[0]}\")\n",
    "\n",
    "print()\n",
    "\n",
    "for _df,_df_str in zip([df_filt,df_train, df_val, df_test],[\"df_filt\",\"df_train\", \"df_val\", \"df_test\"]):\n",
    "    print(f\"{_df_str} movies: {_df['movie_id'].drop_duplicates().shape[0]}\")\n",
    "\n",
    "print()\n",
    "\n",
    "for _df,_df_str in zip([df_filt,df_train, df_val, df_test],[\"df_filt\",\"df_train\", \"df_val\", \"df_test\"]):\n",
    "    print(f\"{_df_str} users: {_df['user_id'].drop_duplicates().shape[0]}\")"
   ]
  },
  {
   "cell_type": "code",
   "execution_count": 152,
   "id": "6b9a8c56",
   "metadata": {},
   "outputs": [],
   "source": [
    "for _df,_df_str in zip([df_train, df_val, df_test],[\"df_train\", \"df_val\", \"df_test\"]):\n",
    "    _df.to_parquet(f\"../data/df_filt_{_df_str[3:]}_{min_rates_movies}_{min_rates_users}.zip\",compression='gzip')"
   ]
  },
  {
   "cell_type": "code",
   "execution_count": null,
   "id": "11249664",
   "metadata": {},
   "outputs": [],
   "source": []
  }
 ],
 "metadata": {
  "kernelspec": {
   "display_name": "Python 3",
   "language": "python",
   "name": "python3"
  },
  "language_info": {
   "codemirror_mode": {
    "name": "ipython",
    "version": 3
   },
   "file_extension": ".py",
   "mimetype": "text/x-python",
   "name": "python",
   "nbconvert_exporter": "python",
   "pygments_lexer": "ipython3",
   "version": "3.8.8"
  }
 },
 "nbformat": 4,
 "nbformat_minor": 5
}
